{
  "cells": [
    {
      "cell_type": "markdown",
      "metadata": {
        "id": "view-in-github",
        "colab_type": "text"
      },
      "source": [
        "<a href=\"https://colab.research.google.com/github/KwonHo-geun/automobile/blob/main/25.07.04.ipynb\" target=\"_parent\"><img src=\"https://colab.research.google.com/assets/colab-badge.svg\" alt=\"Open In Colab\"/></a>"
      ]
    },
    {
      "cell_type": "code",
      "source": [
        "import matplotlib.pyplot as plt\n",
        "\n",
        "def draw_goal_line(obstacles):\n",
        "\n",
        "  fig, ax = plt.subplots(figsize = (8, 6))\n",
        "\n",
        "  ax.set_xlim = (-1, 8)\n",
        "  ax.set_ylim = (-1, 12)\n",
        "\n",
        "  ax.grid(True, alpha = 0.3)\n",
        "\n",
        "  if obstacles:\n",
        "    max_y = max(y for x, y in obstacles)\n",
        "  else:\n",
        "    max_y = 0\n",
        "\n",
        "  goal_y = max_y + 3\n",
        "\n",
        "  ax.axhline(y = goal_y, color = 'lime', linewidth = 3, alpha = 0.7, label = 'Goal Line')\n",
        "\n",
        "  ax.text(7, goal_y + 0.2, f\"GOAL (y = {goal_y})\", color = 'lime', ha = 'center', va = 'bottom')\n",
        "\n",
        "  ax.legend()\n",
        "  plt.tight_layout()\n",
        "  plt.show()\n",
        "\n",
        "  return goal_y\n",
        "\n",
        "if __name__ == \"__main__\":\n",
        "  obstacles = {(3, 2), (3, 3), (2, 4), (4, 5)}\n",
        "  goal_y = draw_goal_line(obstacles)"
      ],
      "metadata": {
        "id": "EskPRapwJvdZ"
      },
      "execution_count": null,
      "outputs": []
    },
    {
      "cell_type": "markdown",
      "source": [
        "목표선 그리는 함수 만들기"
      ],
      "metadata": {
        "id": "HQ-7Dw_Q-oeS"
      }
    },
    {
      "cell_type": "code",
      "source": [
        "import matplotlib.pyplot as plt\n",
        "import numpy as np\n",
        "\n",
        "def draw_goal_line(obstacles):\n",
        "    # 목표선 계산: 가장 높은 장애물의 Y좌표 + 3, 장애물이 없으면 0\n",
        "    if obstacles:\n",
        "        max_y = max(y for x, y in obstacles)\n",
        "    else:\n",
        "        max_y = 0\n",
        "    goal_y = max_y + 3\n",
        "\n",
        "    # 캔버스 설정\n",
        "    fig, ax = plt.subplots(figsize=(8, 6))\n",
        "    ax.set_xlim(-18, 18)\n",
        "    ax.set_ylim(-112, 112)\n",
        "    ax.grid(True, alpha=0.3)\n",
        "\n",
        "    # 목표선 그리기\n",
        "    ax.axhline(y=goal_y, color='lime', linewidth=3, alpha=0.7, label='Goal Line')\n",
        "\n",
        "    # 텍스트 표시\n",
        "    ax.text(7, goal_y + 0.2, f\"GOAL (y={goal_y})\", color='lime', ha='center', va='bottom')\n",
        "\n",
        "    # 완성 요소\n",
        "    ax.legend()\n",
        "    plt.tight_layout()\n",
        "    plt.show()\n",
        "\n",
        "    return goal_y\n",
        "\n",
        "# 실행 예시\n",
        "obstacles = {(3, 2), (3, 3), (2, 4), (4, 5)}\n",
        "goal_y = draw_goal_line(obstacles)\n",
        "print(f\"목표선 y좌표: {goal_y}\")\n",
        "\n"
      ],
      "metadata": {
        "id": "j3Di9QGq5WDb",
        "outputId": "14b685f5-d2d0-4293-b904-6608482088f7",
        "colab": {
          "base_uri": "https://localhost:8080/",
          "height": 619
        }
      },
      "execution_count": 2,
      "outputs": [
        {
          "output_type": "display_data",
          "data": {
            "text/plain": [
              "<Figure size 800x600 with 1 Axes>"
            ],
            "image/png": "[encoded data removed]"
          },
          "metadata": {}
        },
        {
          "output_type": "stream",
          "name": "stdout",
          "text": [
            "목표선 y좌표: 8\n"
          ]
        }
      ]
    },
    {
      "cell_type": "markdown",
      "source": [
        "장애물 그리기 함수 만들기"
      ],
      "metadata": {
        "id": "l-qg9hSX-ti2"
      }
    },
    {
      "cell_type": "code",
      "source": [
        "import matplotlib.pyplot as plt\n",
        "from matplotlib.patches import Rectangle\n",
        "import numpy as np\n",
        "\n",
        "def draw_obstacles(obstacles):\n",
        "\n",
        "  if isinstance(obstacles, set):\n",
        "    obstacles = set(map(tuple, obstacles))\n",
        "\n",
        "  fig, ax = plt.subplots(figsize = (8, 6))\n",
        "  ax.set_xlim(-1, 8)\n",
        "  ax.set_ylim(-1, 12)\n",
        "  ax.set_aspect('equal')\n",
        "  ax.grid(True, alpha=0.3)\n",
        "  ax.set_xlabel('X')\n",
        "  ax.set_ylabel('Y')\n",
        "\n",
        "  for idx, (x,y) in enumerate(obstacles):\n",
        "    rect = Rectangle((x-0.4, y-0.4), 0.8, 0.8, color = 'red', alpha = 0.7,\n",
        "                     label = 'Obstacles' if idx == 0 else None)\n",
        "    ax.add_patch(rect)\n",
        "    ax.text(x,y, str(idx + 1), color = 'white', weight = 'bold',\n",
        "        ha ='center', va = 'center', fontsize = 12)\n",
        "    print(f\"장애물 {idx + 1} : 위치 = ({x}, {y})\")\n",
        "\n",
        "  ax.legend()\n",
        "  plt.tight_layout()\n",
        "  plt.show()\n",
        "\n",
        "obstacles = {(3, 2), (3, 3), (2, 4), (4, 5)}\n",
        "draw_obstacles(obstacles)"
      ],
      "metadata": {
        "id": "55QxszZu-w5S",
        "outputId": "3ea0a652-7983-4b0b-fc1c-0d579d4332b3",
        "colab": {
          "base_uri": "https://localhost:8080/",
          "height": 680
        }
      },
      "execution_count": 14,
      "outputs": [
        {
          "output_type": "stream",
          "name": "stdout",
          "text": [
            "장애물 1 : 위치 = (4, 5)\n",
            "장애물 2 : 위치 = (3, 3)\n",
            "장애물 3 : 위치 = (3, 2)\n",
            "장애물 4 : 위치 = (2, 4)\n"
          ]
        },
        {
          "output_type": "display_data",
          "data": {
            "text/plain": [
              "<Figure size 800x600 with 1 Axes>"
            ],
            "image/png": "[encoded data removed]"
          },
          "metadata": {}
        }
      ]
    },
    {
      "cell_type": "markdown",
      "source": [
        "이동 경로 그리기 함수"
      ],
      "metadata": {
        "id": "fokox6fkE0IF"
      }
    },
    {
      "cell_type": "code",
      "source": [
        "\"\"\"\n",
        "리기 함수 만들기\n",
        "🎯 조건:\n",
        "1. Import 설정:\n",
        "import matplotlib.pyplot as plt\n",
        "2. 함수 정의:\n",
        "def draw_path(path):\n",
        "매개변수: path (이동 경로 좌표들의 리스트)\n",
        "3. 캔버스 설정:\n",
        "크기: figsize=(8, 6)\n",
        "축 범위: X(-18), Y(-112)\n",
        "정사각형 비율: ax.set_aspect('equal')\n",
        "격자: grid(True, alpha=0.3)\n",
        "제목: \"Movement Path\"\n",
        "4. 경로 그리기 (2개 이상 점):\n",
        "경로선: 초록색 점선 ('g--')\n",
        "선 두께: linewidth=3, 투명도: alpha=0.8\n",
        "리스트 컴프리헨션으로 x, y 좌표 분리\n",
        "ax.plot(path_x, path_y, ...) 사용\n",
        "5. 시작점과 끝점 표시:\n",
        "시작점: 파란색 원 ('bo', markersize=10)\n",
        "끝점: 빨간색 원 ('ro', markersize=10)\n",
        "라벨에 좌표 정보 포함\n",
        "6. 점 번호 표시:\n",
        "각 경로 점에 번호 (1, 2, 3...)\n",
        "위치: (x + 0.2, y + 0.2)\n",
        "노란색 둥근 박스 배경\n",
        "enumerate() 함수로 번호 매기기\n",
        "\"\"\"\n",
        "import matplotlib.pyplot as plt\n",
        "\n",
        "def draw_path(path):\n",
        "\n",
        "  fig, ax = plt.subplots(figsize = (8, 6))\n",
        "  ax.set_aspect('Movement Path')\n",
        "  ax.set_xlim(-1, 8)\n",
        "  ax.set_ylim(-1, 12)\n",
        "  ax.grid(True, alpha = 0.3)\n",
        "  ax.set_title(\"Movement Path\")\n",
        "\n",
        "#리스트 컴프리헨션 - 조건에 맞는 리스트 생성\n",
        "  redone =\n",
        "  blueone =\n",
        "  greenone =\n",
        "  path_x = [x for x, y in path]\n",
        "  path_y = [y for x, y in path]\n",
        "  ax.plot(path_x, path_y, 'g--', linewidth = 3, alpha = 0.8)\n",
        "\n",
        "  plt.show()\n"
      ],
      "metadata": {
        "id": "QzuZrhKZE1rH"
      },
      "execution_count": 16,
      "outputs": []
    },
    {
      "cell_type": "markdown",
      "source": [],
      "metadata": {
        "id": "-Zvm51cnLkTl"
      }
    },
    {
      "cell_type": "code",
      "source": [
        "\"\"\"\n",
        "센서 빔들 그리기 # 📝 Mission: 센서 그리기 함수 만들기\n",
        "🎯 조건:\n",
        "1. 함수 정의:\n",
        "def draw_sensors(x, y, sensors):\n",
        "2. 캔버스: figsize=(6, 5), 격자, 제목 \"Sensors\"\n",
        "3. 차량 위치: 검은색 원점 'ko', markersize=15\n",
        "4. 센서 선 그리기:\n",
        "전방: 'b-' (x, y) → (x, y + sensors['front'])\n",
        "좌측: 'g-' (x, y) → (x - sensors['left'], y)\n",
        "우측: 'r-' (x, y) → (x + sensors['right'], y)\n",
        "모든 선: linewidth=3\n",
        "\n",
        "거리 텍스트 표시:\n",
        "ax.text(x + 0.1, y + front_reach/2, f'{sensors[\"front\"]:.1f}', color='blue', fontweight='bold')\n",
        "센서 끝점 동그라미:# 센서 끝점에 점 표시\n",
        "ax.plot(x, y + front_reach, 'bo', markersize=8) # 전방 끝점\n",
        "최대 센서 길이 제한:\n",
        "sensor_length = 3 # 최대 센서 길이 front_reach = min(sensors['front'], sensor_length)\n",
        "\"\"\"\n",
        "\n"
      ],
      "metadata": {
        "id": "_NFrC0tKLkDb"
      },
      "execution_count": null,
      "outputs": []
    }
  ],
  "metadata": {
    "colab": {
      "name": "Colab 시작하기",
      "provenance": [],
      "include_colab_link": true
    },
    "kernelspec": {
      "display_name": "Python 3",
      "name": "python3"
    }
  },
  "nbformat": 4,
  "nbformat_minor": 0
}