{
  "nbformat": 4,
  "nbformat_minor": 0,
  "metadata": {
    "colab": {
      "provenance": [],
      "authorship_tag": "ABX9TyNjgoehvcG8AHwLLtkzb4Sz",
      "include_colab_link": true
    },
    "kernelspec": {
      "name": "python3",
      "display_name": "Python 3"
    },
    "language_info": {
      "name": "python"
    }
  },
  "cells": [
    {
      "cell_type": "markdown",
      "metadata": {
        "id": "view-in-github",
        "colab_type": "text"
      },
      "source": [
        "<a href=\"https://colab.research.google.com/github/KwonHo-geun/automobile/blob/main/25_06_27_Dict.ipynb\" target=\"_parent\"><img src=\"https://colab.research.google.com/assets/colab-badge.svg\" alt=\"Open In Colab\"/></a>"
      ]
    },
    {
      "cell_type": "markdown",
      "source": [
        "자율주행 자동차 예시 코드 -"
      ],
      "metadata": {
        "id": "SJX0ooHgyC5n"
      }
    },
    {
      "cell_type": "code",
      "source": [
        "#속도 제한 적용\n",
        "current_speeds = [45, 75, 38, 82, 55, 95, 28]\n",
        "speed_limits = [50, 70, 40, 80, 60, 90,30]\n",
        "adjusted_speeds = [min(current_speeds, speed_limits)]\n",
        "\n",
        "for current, limit in zip(current_speeds, speed_limits):\n",
        "    adjusted_speeds.append(min(current, limit))\n",
        "\n",
        "print(adjusted_speeds)\n",
        "\n",
        "#경로 포인트 생성 - 시작점과 끝점 사이의 중간 포인트들 생성\n",
        "start_point = (0,0)\n",
        "end_point = (5,5)\n",
        "num_points = 5\n",
        "path_points = [(start_point[0] + i * (end_point[0] - start_point[0]) / (num_points - 1),\n",
        "                start_point[1] + i * (end_point[1] - start_point[1]) / (num_points - 1))\n",
        "               for i in range(num_points)]\n",
        "\n",
        "print(\"경로 포인트들 : \", path_points)\n",
        "\n",
        "#조건부 다중 필터링 - 위험 상황 감지\n",
        "sensor_data = [\n",
        "    {'type' : 'lidar', 'distance' : 3.2, 'angle' : 45},\n",
        "    {'type' : 'camera', 'distance' : 8.5, 'anagle' : 0},\n",
        "    {'type' : 'rander', 'distance' : 1.8, 'angle' : -30},\n",
        "    {'type' : 'liadr', 'distance' : 12.3 , 'angle' : 90}\n",
        "]\n",
        "\n",
        "danger_sensor = [sensor for sensor in sensor_data if sensor['distance'] < 5.0 and abs(sensor['angle']) < 60]\n",
        "print(\"위험 감지 센서 : \", danger_sensor)\n",
        "\n",
        "#신호등 색상별 행동 결정\n",
        "traffic_light = [\n",
        "    {'color' : 'red' , 'time_left' : 15},\n",
        "    {'color' : 'green', 'time_left' : 8},\n",
        "    {'color' : 'yellow', 'time_left' : 3},\n",
        "    {'color' : 'green', 'time_left' : 25}\n",
        "]\n",
        "\n",
        "stop_required = [light for light in traffic_light if light['color'] == 'red' or (light['color'] == 'yellow') and (light['time_left'] < 5)]\n",
        "print(\"정지 필요한 신호등 : \", stop_required)\n",
        "\n",
        "# 배터리 잔량에 따른 충전소 필터링\n",
        "charging_stations = [\n",
        "    {'name' : '서울역', 'distance' : 12, 'power' : 'fast'},\n",
        "    {'name' : '강남역', 'distance' : 8, 'power' : 'normal'},\n",
        "    {'name' : '홍대입구', 'distance' : 15, 'power' : 'fast'},\n",
        "    {'name' : '잠실역', 'distance' : 5, 'power' : 'slow'}\n",
        "]\n",
        "\n",
        "\n",
        "battery_percent = 15\n",
        "urgent_chargeers = [station for station in charging_stations if station['distance'] < 20 and station['power'] != 'slow']\n",
        "print(\"긴급 충전 가능한 곳 : \",urgent_chargeers)\n",
        "\n",
        "#주차 공간 크기 확인\n",
        "parking_space = [\n",
        "    {'id' : 'A1', 'length' : 4.8, 'width' : 2.3, 'occupied' : False},\n",
        "    {'id' : 'A2', 'length' : 5.2, 'width' : 2.5, 'occupied' : True},\n",
        "    {'id' : 'B3', 'length' : 4.5, 'width' : 2.1, 'occupied' : False},\n",
        "    {'id' : 'C4', 'length' : 5.0, 'width' : 2.7, 'occupied' : False}\n",
        "]\n",
        "\n",
        "vehicle_size = {'length' : 4.7, 'width' : 2.0}\n",
        "suitable_spots = [spot for spot in parking_space if not spot['occupied'] and spot['length'] > vehicle_size['length'] and\n",
        "                  spot['width'] > vehicle_size['width']]\n",
        "print(\"주차 가능한 공간 :\", suitable_spots)\n",
        "\n",
        "#2차선 차량들의 속도만 추출\n",
        "lane_vehicles = [\n",
        "    {'lane' : 1, 'speed' : 65}, {'lane' : 2, 'speed' : 80},\n",
        "    {'lane' : 3, 'speed': 85}, {'lane' : 2, 'speed' : 75},\n",
        "    {'lane' : 1, 'speed' : 70}, {'lane' : 3, 'speed' : 90},\n",
        "    {'lane' : 2, 'speed' : 82}\n",
        "]\n",
        "\n",
        "lane2_speeds = [car['speed'] for car in lane_vehicles if car['lane'] == 2]\n",
        "lane2_avg = sum(lane2_speeds) / len(lane2_speeds)\n",
        "print(\"2차선 평균 속도 : \", round(lane2_avg, 1), \"km/h\")\n",
        "\n",
        "#야간/악천후 시 센서 상태 체크\n",
        "sensor_status = [\n",
        "    {'name' : 'front_camera', 'visibility' : 0.3, 'working' : True},\n",
        "    {'name' : 'rear_camera', 'visibility' : 0.8, 'working' : True},\n",
        "    {'name' : 'side_lidar', 'visibility' : 0.9, 'working' : False},\n",
        "    {'name' : 'front_lidar', 'visibility' : 0.7, 'working' : True}\n",
        "]\n",
        "\n",
        "reliable_sensors = [sensor['name'] for sensor in sensor_status if sensor['working'] and sensor['visibility'] > 0.5]\n",
        "print(\"신뢰할 수 있는 센서 :\", reliable_sensors)"
      ],
      "metadata": {
        "colab": {
          "base_uri": "https://localhost:8080/"
        },
        "id": "D4A8lUplyHN9",
        "outputId": "873b75f7-27a4-4368-f16b-0681d01b7de7"
      },
      "execution_count": 22,
      "outputs": [
        {
          "output_type": "stream",
          "name": "stdout",
          "text": [
            "[[45, 75, 38, 82, 55, 95, 28], 45, 70, 38, 80, 55, 90, 28]\n",
            "경로 포인트들 :  [(0.0, 0.0), (1.25, 1.25), (2.5, 2.5), (3.75, 3.75), (5.0, 5.0)]\n",
            "위험 감지 센서 :  [{'type': 'lidar', 'distance': 3.2, 'angle': 45}, {'type': 'rander', 'distance': 1.8, 'angle': -30}]\n",
            "정지 필요한 신호등 :  [{'color': 'red', 'time_left': 15}, {'color': 'yellow', 'time_left': 3}]\n",
            "긴급 충전 가능한 곳 :  [{'name': '서울역', 'distance': 12, 'power': 'fast'}, {'name': '강남역', 'distance': 8, 'power': 'normal'}, {'name': '홍대입구', 'distance': 15, 'power': 'fast'}]\n",
            "주차 가능한 공간 : [{'id': 'A1', 'length': 4.8, 'width': 2.3, 'occupied': False}, {'id': 'C4', 'length': 5.0, 'width': 2.7, 'occupied': False}]\n",
            "2차선 평균 속도 :  79.0 km/h\n",
            "신뢰할 수 있는 센서 : ['rear_camera', 'front_lidar']\n"
          ]
        }
      ]
    },
    {
      "cell_type": "markdown",
      "source": [],
      "metadata": {
        "id": "0J1o8FCHBWr9"
      }
    },
    {
      "cell_type": "code",
      "source": [
        "\n"
      ],
      "metadata": {
        "id": "tWV-EqRY66Iv"
      },
      "execution_count": null,
      "outputs": []
    }
  ]
}