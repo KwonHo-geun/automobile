{
  "cells": [
    {
      "cell_type": "markdown",
      "metadata": {
        "id": "view-in-github",
        "colab_type": "text"
      },
      "source": [
        "<a href=\"https://colab.research.google.com/github/KwonHo-geun/automobile/blob/main/25.07.02.ipynb\" target=\"_parent\"><img src=\"https://colab.research.google.com/assets/colab-badge.svg\" alt=\"Open In Colab\"/></a>"
      ]
    },
    {
      "cell_type": "markdown",
      "source": [
        "1번 문제 - https://claude.ai/public/artifacts/ecfa16b4-2106-4e7b-a637-a17f20eb3126"
      ],
      "metadata": {
        "id": "0rXv-3YUYq3R"
      }
    },
    {
      "cell_type": "code",
      "source": [
        "def init_sensors():\n",
        "  sensors = {\n",
        "  \"front\" : 15.0,\n",
        "  \"left\" : 15.0,\n",
        "  \"right\" : 15.0\n",
        "  }\n",
        "\n",
        "\n",
        "  return sensors\n",
        "\n",
        "if __name__ == \"__main__\":\n",
        "  print(\"센서 시작\")\n",
        "  print(\"-\"*30)\n",
        "  sensors = init_sensors()\n",
        "  print(sensors)"
      ],
      "metadata": {
        "id": "hW-twHpEXYPo",
        "outputId": "9a29ba8b-9a06-4727-d2a5-505fd2eb077c",
        "colab": {
          "base_uri": "https://localhost:8080/"
        }
      },
      "execution_count": 1,
      "outputs": [
        {
          "output_type": "stream",
          "name": "stdout",
          "text": [
            "센서 시작\n",
            "------------------------------\n",
            "{'front': 15.0, 'left': 15.0, 'right': 15.0}\n"
          ]
        }
      ]
    },
    {
      "cell_type": "code",
      "source": [
        "#return문을 넣지 않을 경우 print(sensors)를 해도 안됨.\n",
        "#return의 의미는 호출한 함수의 결과값을 대처한다고 생각하면 된다.\n",
        "def init_sensors():\n",
        "  sensors = {\n",
        "  \"front\" : 15.0,\n",
        "  \"left\" : 15.0,\n",
        "  \"right\" : 15.0\n",
        "  }\n",
        "\n",
        "  print(sensors)\n",
        "\n",
        "if __name__ == \"__main__\":\n",
        "  print(\"센서 시작\")\n",
        "  print(\"-\"*30)\n",
        "  #sensors = init_sensors()\n",
        "  #print(sensors)"
      ],
      "metadata": {
        "id": "NAG4qbJEdBVH",
        "outputId": "8b1f05c6-b7cc-432d-9ed1-b6fdc209f413",
        "colab": {
          "base_uri": "https://localhost:8080/"
        }
      },
      "execution_count": null,
      "outputs": [
        {
          "output_type": "stream",
          "name": "stdout",
          "text": [
            "센서 시작\n",
            "------------------------------\n"
          ]
        }
      ]
    },
    {
      "cell_type": "markdown",
      "source": [
        "2번 문제 - https://claude.ai/public/artifacts/2bacfb57-fa54-46bf-bd52-f4d858b045a4"
      ],
      "metadata": {
        "id": "-YDKf_t1dmRl"
      }
    },
    {
      "cell_type": "code",
      "source": [
        "def scan_front(x, y, obstacles, sensors):\n",
        "  sensors = {\n",
        "      \"front\" : 15.0,\n",
        "      \"left\" : 15.0,\n",
        "      \"right\" : 15.0\n",
        "  }\n",
        "  print(\"2-04 앞쪽 스캔 시작\")\n",
        "\n",
        "  if(x, y+1) in obstacles:\n",
        "    print(\"2-06 앞쪽 1칸 장애물 발견\")\n",
        "    sensors[\"front\"] = 1.0\n",
        "  elif(x, y+2) in obstacles:\n",
        "    print(\"2-10 앞쪽 2칸 장애물 발견\")\n",
        "    sensors[\"front\"] = 2.0\n",
        "  elif(x, y+3) in obstacles:\n",
        "    print(\"2-13 앞쪽 3칸 장애물 발견\")\n",
        "    sensors[\"front\"] = 3.0\n",
        "  else:\n",
        "    print(\"2-15 앞쪽 장애물 없음\")\n",
        "    sensors[\"front\"] = 15.0\n",
        "  return sensors\n",
        "\n",
        "\"\"\"\n",
        "if __name__ == \"__main__\":\n",
        "  print(\"센서 시작\")\n",
        "  print(\"-\"*30)\n",
        "  sensors = scan_front(1, 1, [], {})\n",
        "  print(sensors)\n",
        "\"\"\""
      ],
      "metadata": {
        "id": "s_1AIFi2dn9T",
        "outputId": "1c659a0d-a9b0-42bf-8c22-76d9ed8dbf72",
        "colab": {
          "base_uri": "https://localhost:8080/",
          "height": 54
        }
      },
      "execution_count": 2,
      "outputs": [
        {
          "output_type": "execute_result",
          "data": {
            "text/plain": [
              "'\\nif __name__ == \"__main__\":\\n  print(\"센서 시작\")\\n  print(\"-\"*30)\\n  sensors = scan_front(1, 1, [], {})\\n  print(sensors)\\n'"
            ],
            "application/vnd.google.colaboratory.intrinsic+json": {
              "type": "string"
            }
          },
          "metadata": {},
          "execution_count": 2
        }
      ]
    },
    {
      "cell_type": "markdown",
      "source": [
        "3번 왼쪽 스캔 - https://claude.ai/public/artifacts/0bd88961-bc8c-43b4-b40b-aa0a27fe96df"
      ],
      "metadata": {
        "id": "ddrOupeOjyP-"
      }
    },
    {
      "cell_type": "code",
      "source": [
        "#왼쪽\n",
        "def scan_left(x, y, obstacles, sensors):\n",
        "    sensors = {\n",
        "        \"front\": 15.0,\n",
        "        \"left\": 15.0,\n",
        "        \"right\": 15.0\n",
        "    }\n",
        "    print(\"3-04 왼쪽 스캔 시작\")\n",
        "\n",
        "    # 장애물 좌표 검사 (튜플 사용)\n",
        "    if (x-1, y) in obstacles:\n",
        "        print(\"3-06 왼쪽 1칸 장애물 발견\")\n",
        "        sensors[\"left\"] = 1.0\n",
        "    elif (x-2, y) in obstacles:\n",
        "        print(\"3-10 왼쪽 2칸 장애물 발견\")\n",
        "        sensors[\"left\"] = 2.0\n",
        "    elif (x-3, y) in obstacles:\n",
        "        print(\"3-13 왼쪽 3칸 장애물 발견\")\n",
        "        sensors[\"left\"] = 3.0\n",
        "    else:\n",
        "        print(\"3-15 왼쪽 장애물 없음\")\n",
        "        sensors[\"left\"] = 15.0\n",
        "    print(\"3-21 오른쪽 스캔 완료\")\n",
        "    print(\"오른쪽 스캔 함수 종료\")\n",
        "\n",
        "    return sensors\n",
        "\n",
        "#오른쪽\n",
        "def scan_right(x, y, obstacles, sensors):\n",
        "  sensors = {\n",
        "      \"front\" : 15.0,\n",
        "      \"left\" : 15.0,\n",
        "      \"right\" : 15.0\n",
        "  }\n",
        "  print(\"3-16 오른쪽 스캔 시작\")\n",
        "\n",
        "  #장애물 좌표 검사(튜플 사용)\n",
        "\n",
        "  if (x+1, y) in obstacles:\n",
        "    print(\"3-17 오른쪽 1칸 장애물 발견\")\n",
        "    sensors[\"right\"] = 1.0\n",
        "  elif(x+2, y) in obstacles:\n",
        "    print(\"3-18 오른쪽 2칸 장애물 발견\")\n",
        "    sensors[\"right\"] = 2.0\n",
        "  elif(x+3, y) in obstacles:\n",
        "    print(\"3-19 오른쪽 3칸 장애물 발견\")\n",
        "    sensors[\"right\"] = 3.0\n",
        "  else:\n",
        "    print(\"3-20 오른쪽 장애물 없음\")\n",
        "\n",
        "  print(\"3-21 오른쪽 스캔 완료\")\n",
        "  print(\"오른쪽 스캔 함수 종료\")\n",
        "\n",
        "  return sensors\n",
        "\n",
        "\n",
        "\"\"\"\n",
        "if __name__ == \"__main__\":\n",
        "    print(\"센서 시작\")\n",
        "    print(\"-\" * 30)\n",
        "\n",
        "    # 장애물 리스트: (x, y) 튜플로 구성\n",
        "    obstacles = [(-2, 0), (-3, 0)]  # 올바른 형식\n",
        "\n",
        "    # 함수 호출 (sensors 인자 제거)\n",
        "    result_sensors = scanf_left(0, 0, obstacles)\n",
        "    print(result_sensors)\n",
        "\"\"\""
      ],
      "metadata": {
        "id": "SdZaND1zj9Af",
        "outputId": "ce5e5ece-7963-415a-8f29-151e26151596",
        "colab": {
          "base_uri": "https://localhost:8080/",
          "height": 90
        }
      },
      "execution_count": 3,
      "outputs": [
        {
          "output_type": "execute_result",
          "data": {
            "text/plain": [
              "'\\nif __name__ == \"__main__\":\\n    print(\"센서 시작\")\\n    print(\"-\" * 30)\\n\\n    # 장애물 리스트: (x, y) 튜플로 구성\\n    obstacles = [(-2, 0), (-3, 0)]  # 올바른 형식\\n\\n    # 함수 호출 (sensors 인자 제거)\\n    result_sensors = scanf_left(0, 0, obstacles)\\n    print(result_sensors)\\n'"
            ],
            "application/vnd.google.colaboratory.intrinsic+json": {
              "type": "string"
            }
          },
          "metadata": {},
          "execution_count": 3
        }
      ]
    },
    {
      "cell_type": "markdown",
      "source": [
        "5번 문제 - https://claude.ai/public/artifacts/0071fea5-0417-4ac3-b753-5e47ea108c2a"
      ],
      "metadata": {
        "id": "OwR5eKJ1mBB1"
      }
    },
    {
      "cell_type": "code",
      "source": [
        "def update_sensor_data(position, obstacles):\n",
        "  print(\"5-4함수 시작\")\n",
        "  x = position[0]\n",
        "  y = position[1]\n",
        "\n",
        "  print(f\"5-6 위치 추출 완료 현재 x, y값 x:{x} / y:{y}\")\n",
        "  sensors = init_sensors()\n",
        "\n",
        "  print(\"front 스캔 호출 - 앞쪽 1~3칸 장애물 검사\")\n",
        "  scan_front(x, y, obstacles, sensors)\n",
        "  print(\"left 스캔 호출 - 왼쪽 1~3칸 장애물 검사\")\n",
        "  scan_left(x, y, obstacles, sensors)\n",
        "  print(\"right 스캔 호출 - 오른쪽 1~3칸 장애물 검사\")\n",
        "  scan_right(x, y, obstacles, sensors)\n",
        "\n",
        "  print(\"5-17 센서 업데이틍 완료\")\n",
        "  print(\"=*30\")\n",
        "  print(f\"x : {x} / y : {y}\")\n",
        "\n",
        "  return sensors"
      ],
      "metadata": {
        "id": "FZF3KQaUk5-v"
      },
      "execution_count": 5,
      "outputs": []
    },
    {
      "cell_type": "markdown",
      "source": [
        "6번 문제 - https://claude.ai/public/artifacts/27051f81-4a36-4075-8d2b-ec7199d9a7fb"
      ],
      "metadata": {
        "id": "ZCokdx39nkRw"
      }
    },
    {
      "cell_type": "code",
      "source": [
        "def detect_obstacles(sensors, safe_distance):\n",
        "  print(\"6-4 함수 시작\")\n",
        "  print(f\"6-5 입력 데이터 출력 sensor : {sensors} / safe_distance : {safe_distance}\")\n",
        "\n",
        "  obstacles = []\n",
        "\n",
        "  #items = 리스트 아이템 튜플\n",
        "  for direction, distance in sensors.items():\n",
        "    print(\"6-9 현재 방향과 거리 체크\")\n",
        "    if distance < safe_distance:\n",
        "      #list 추가\n",
        "      obstacles.append(direction)\n",
        "      print(\"6-12 위험! 목록추가\")\n",
        "    else:\n",
        "      print(\"6-14 안전\")\n",
        "\n",
        "  print(\"6-16 장애물 감지 완료\")\n",
        "  print(f\"obstacles : {obstacles}\")\n",
        "\n",
        "  return obstacles"
      ],
      "metadata": {
        "id": "Xlc__Lp9npYm"
      },
      "execution_count": 7,
      "outputs": []
    },
    {
      "cell_type": "markdown",
      "source": [
        "7번 문제 - https://claude.ai/public/artifacts/13112488-2160-4216-8845-4187a58f746c"
      ],
      "metadata": {
        "id": "27F4aXKzqzMC"
      }
    },
    {
      "cell_type": "code",
      "source": [
        "def decide_action(obstacles):\n",
        "  print(\"7-4 함수 시작\")\n",
        "  print(f\"7-5 입력 데이터, obstacles : {obstacles}\")\n",
        "\n",
        "  if len(obstacles) == 0:\n",
        "    action = \"직진\"\n",
        "  elif \"front\" in obstacles:\n",
        "    print(\"앞에 장애물 있음. 좌우 확인\")\n",
        "\n",
        "    if \"left\" not in obstacles:\n",
        "      action = \"좌회전\"\n",
        "      print(\"왼쪽 안전\")\n",
        "    elif \"right\" not in obstacles:\n",
        "      action = \"우회전\"\n",
        "      print(\"오른쪽 안전\")\n",
        "    elif \"left\" in obstacles and \"right\" in obstacles:\n",
        "      action = \"정지\"\n",
        "      print(\"모든 방향 위험\")\n",
        "\n",
        "  else:\n",
        "    action = \"주의해서 직진\"\n",
        "    print(\"앞은 안전, 옆만 위험\")\n",
        "\n",
        "  return action\n"
      ],
      "metadata": {
        "id": "cdWXxk2wqye4"
      },
      "execution_count": 8,
      "outputs": []
    },
    {
      "cell_type": "markdown",
      "source": [
        "8번 문제 - https://claude.ai/public/artifacts/13112488-2160-4216-8845-4187a58f746c"
      ],
      "metadata": {
        "id": "BSA-KDjGrq_r"
      }
    },
    {
      "cell_type": "code",
      "source": [
        "\n",
        "\"\"\"\n",
        "  def execute_action(action):\n",
        "    action = decide_action()\n",
        "\n",
        "    if action == \"직진\":\n",
        "      print(\"8-4 직진\")\n",
        "      y += 1\n",
        "    elif action == \"좌회전\":\n",
        "      print(\"8-5 좌회전\")\n",
        "      x -= 1\n",
        "    elif action == \"우회전\":\n",
        "      print(\"8-6 우회전\")\n",
        "      x += 1\n",
        "    else:\n",
        "      print(\"8-7 정지\")\n",
        "\n",
        "    return x, y\n",
        "\"\"\"\n",
        "\n",
        "class SimpleCar:\n",
        "  def __init__(self, name, x, y):\n",
        "    self.name = name\n",
        "    self.x = x\n",
        "    self.y = y\n",
        "\n",
        "  def move_forward(self):\n",
        "    self.y += 1\n",
        "    print(f\"{self.name}이(가) 직진합니다. 현재 위치: ({self.x}, {self.y})\")\n",
        "\n",
        "  def turn_left(self):\n",
        "    self.x -= 1\n",
        "    print(f\"{self.name}이(가) 왼쪽으로 회전합니다. 현재 위치: ({self.x}, {self.y})\")\n",
        "\n",
        "  def turn_right(self):\n",
        "    self.x += 1\n",
        "    print(f\"{self.name}이(가) 오른쪽으로 회전합니다. 현재 위치: ({self.x}, {self.y})\")\n",
        "\n",
        "  def stop(self):\n",
        "    print(\"정지\")\n",
        "\n",
        "  def execute_action(self, action):\n",
        "    if action == \"직진\":\n",
        "      self.move_forward()\n",
        "    elif action == \"좌회전\":\n",
        "      self.turn_left()\n",
        "    elif action == \"우회전\":\n",
        "      self.turn_right()\n",
        "    else:\n",
        "      self.stop()\n",
        "\n",
        "  def run_simulation(self, obstacles):\n",
        "    i = 0\n",
        "    while i < 10:\n",
        "        i += 1\n",
        "\n",
        "        # 1. 현재 위치 계산 (튜플로 저장)\n",
        "        current_position = (self.x, self.y)\n",
        "\n",
        "        # 2. 센서 데이터 업데이트\n",
        "        update_sensor_data(current_position, obstacles)\n",
        "\n",
        "        # 3. 장애물 감지 및 행동 결정\n",
        "        detected = detect_obstacles(sensors, self.safe_distance)\n",
        "        action = decide_action(obstacles)\n",
        "\n",
        "        # 4. 결정된 행동 실행 (중복 호출 제거)\n",
        "        self.execute_action(action)\n",
        "\n",
        "        # 5. 진행 상황 출력\n",
        "        print(f\"✅결정된 행동: {action}\\n\")\n",
        "        print(f\"🚩현재 위치: ({self.x}, {self.y})\\n\" + '='*50)\n",
        "\n",
        "        # 6. 정지 명령 시 시뮬레이션 종료\n",
        "        if action == \"정지\":\n",
        "            print(\"정지 → 시뮬레이션 종료\")\n",
        "            break\n",
        "\n",
        "    print(\"시뮬레이션 종료\")\n",
        "\n"
      ],
      "metadata": {
        "id": "Ctsh9XyIr1kD"
      },
      "execution_count": 27,
      "outputs": []
    },
    {
      "cell_type": "markdown",
      "source": [
        "9반 문제 - https://claude.ai/public/artifacts/76eafd8d-4d90-437d-be19-5bf67c275500"
      ],
      "metadata": {
        "id": "z0mkHCCJrvui"
      }
    },
    {
      "cell_type": "code",
      "source": [
        "if __name__ == '__main__':\n",
        "  print(\"9-3 메인 실행 시작\")\n",
        "  print(\"9-6 자동차 생성\")\n",
        "\n",
        "  car = SimpleCar('현대차', 3, 0)\n",
        "  #car()\n",
        "\n",
        "  print(\"9-10 장애물 설정\")\n",
        "\n",
        "  print(\"장애물 맵 생성\")\n",
        "  obstacles = {(3,2), (3,3), (2,4), (4,5)}\n",
        "\n",
        "  print(f\"9-12 장애물 설정 완료 : {obstacles}\")\n",
        "\n",
        "  print(\"9-15 시뮬레이션 호출\")\n",
        "  print(\"자율주행 시작\")\n",
        "  car.run_simulation(obstacles)\n",
        "\n",
        "  print(\"9-18 프로그램 종료\")\n",
        ""
      ],
      "metadata": {
        "colab": {
          "base_uri": "https://localhost:8080/",
          "height": 808
        },
        "id": "MDOeKIgAr15n",
        "outputId": "a72df9bb-a78e-49eb-ebd3-86166438639e"
      },
      "execution_count": 28,
      "outputs": [
        {
          "output_type": "stream",
          "name": "stdout",
          "text": [
            "9-3 메인 실행 시작\n",
            "9-6 자동차 생성\n",
            "9-10 장애물 설정\n",
            "장애물 맵 생성\n",
            "9-12 장애물 설정 완료 : {(4, 5), (3, 3), (3, 2), (2, 4)}\n",
            "9-15 시뮬레이션 호출\n",
            "자율주행 시작\n",
            "5-4함수 시작\n",
            "5-6 위치 추출 완료 현재 x, y값 x:3 / y:0\n",
            "front 스캔 호출 - 앞쪽 1~3칸 장애물 검사\n",
            "2-04 앞쪽 스캔 시작\n",
            "2-10 앞쪽 2칸 장애물 발견\n",
            "left 스캔 호출 - 왼쪽 1~3칸 장애물 검사\n",
            "3-04 왼쪽 스캔 시작\n",
            "3-15 왼쪽 장애물 없음\n",
            "3-21 오른쪽 스캔 완료\n",
            "오른쪽 스캔 함수 종료\n",
            "right 스캔 호출 - 오른쪽 1~3칸 장애물 검사\n",
            "3-16 오른쪽 스캔 시작\n",
            "3-20 오른쪽 장애물 없음\n",
            "3-21 오른쪽 스캔 완료\n",
            "오른쪽 스캔 함수 종료\n",
            "5-17 센서 업데이틍 완료\n",
            "=*30\n",
            "x : 3 / y : 0\n"
          ]
        },
        {
          "output_type": "error",
          "ename": "AttributeError",
          "evalue": "'SimpleCar' object has no attribute 'safe_distance'",
          "traceback": [
            "\u001b[0;31m---------------------------------------------------------------------------\u001b[0m",
            "\u001b[0;31mAttributeError\u001b[0m                            Traceback (most recent call last)",
            "\u001b[0;32m/tmp/ipython-input-28-212932047.py\u001b[0m in \u001b[0;36m<cell line: 0>\u001b[0;34m()\u001b[0m\n\u001b[1;32m     15\u001b[0m   \u001b[0mprint\u001b[0m\u001b[0;34m(\u001b[0m\u001b[0;34m\"9-15 시뮬레이션 호출\"\u001b[0m\u001b[0;34m)\u001b[0m\u001b[0;34m\u001b[0m\u001b[0;34m\u001b[0m\u001b[0m\n\u001b[1;32m     16\u001b[0m   \u001b[0mprint\u001b[0m\u001b[0;34m(\u001b[0m\u001b[0;34m\"자율주행 시작\"\u001b[0m\u001b[0;34m)\u001b[0m\u001b[0;34m\u001b[0m\u001b[0;34m\u001b[0m\u001b[0m\n\u001b[0;32m---> 17\u001b[0;31m   \u001b[0mcar\u001b[0m\u001b[0;34m.\u001b[0m\u001b[0mrun_simulation\u001b[0m\u001b[0;34m(\u001b[0m\u001b[0mobstacles\u001b[0m\u001b[0;34m)\u001b[0m\u001b[0;34m\u001b[0m\u001b[0;34m\u001b[0m\u001b[0m\n\u001b[0m\u001b[1;32m     18\u001b[0m \u001b[0;34m\u001b[0m\u001b[0m\n\u001b[1;32m     19\u001b[0m   \u001b[0mprint\u001b[0m\u001b[0;34m(\u001b[0m\u001b[0;34m\"9-18 프로그램 종료\"\u001b[0m\u001b[0;34m)\u001b[0m\u001b[0;34m\u001b[0m\u001b[0;34m\u001b[0m\u001b[0m\n",
            "\u001b[0;32m/tmp/ipython-input-27-102610451.py\u001b[0m in \u001b[0;36mrun_simulation\u001b[0;34m(self, obstacles)\u001b[0m\n\u001b[1;32m     61\u001b[0m \u001b[0;34m\u001b[0m\u001b[0m\n\u001b[1;32m     62\u001b[0m         \u001b[0;31m# 3. 장애물 감지 및 행동 결정\u001b[0m\u001b[0;34m\u001b[0m\u001b[0;34m\u001b[0m\u001b[0m\n\u001b[0;32m---> 63\u001b[0;31m         \u001b[0mdetected\u001b[0m \u001b[0;34m=\u001b[0m \u001b[0mdetect_obstacles\u001b[0m\u001b[0;34m(\u001b[0m\u001b[0msensors\u001b[0m\u001b[0;34m,\u001b[0m \u001b[0mself\u001b[0m\u001b[0;34m.\u001b[0m\u001b[0msafe_distance\u001b[0m\u001b[0;34m)\u001b[0m\u001b[0;34m\u001b[0m\u001b[0;34m\u001b[0m\u001b[0m\n\u001b[0m\u001b[1;32m     64\u001b[0m         \u001b[0maction\u001b[0m \u001b[0;34m=\u001b[0m \u001b[0mdecide_action\u001b[0m\u001b[0;34m(\u001b[0m\u001b[0mobstacles\u001b[0m\u001b[0;34m)\u001b[0m\u001b[0;34m\u001b[0m\u001b[0;34m\u001b[0m\u001b[0m\n\u001b[1;32m     65\u001b[0m \u001b[0;34m\u001b[0m\u001b[0m\n",
            "\u001b[0;31mAttributeError\u001b[0m: 'SimpleCar' object has no attribute 'safe_distance'"
          ]
        }
      ]
    }
  ],
  "metadata": {
    "colab": {
      "name": "Colab 시작하기",
      "toc_visible": true,
      "provenance": [],
      "include_colab_link": true
    },
    "kernelspec": {
      "display_name": "Python 3",
      "name": "python3"
    }
  },
  "nbformat": 4,
  "nbformat_minor": 0
}
