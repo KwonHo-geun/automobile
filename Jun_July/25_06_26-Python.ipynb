{
  "nbformat": 4,
  "nbformat_minor": 0,
  "metadata": {
    "colab": {
      "provenance": [],
      "authorship_tag": "ABX9TyNTRKZ27UKyx4mWXTjuajBH",
      "include_colab_link": true
    },
    "kernelspec": {
      "name": "python3",
      "display_name": "Python 3"
    },
    "language_info": {
      "name": "python"
    }
  },
  "cells": [
    {
      "cell_type": "markdown",
      "metadata": {
        "id": "view-in-github",
        "colab_type": "text"
      },
      "source": [
        "<a href=\"https://colab.research.google.com/github/KwonHo-geun/automobile/blob/main/25_06_26.ipynb\" target=\"_parent\"><img src=\"https://colab.research.google.com/assets/colab-badge.svg\" alt=\"Open In Colab\"/></a>"
      ]
    },
    {
      "cell_type": "code",
      "source": [
        "thislist = [\"apple\", \"banana\", \"cherry\"]\n",
        "print(thislist)\n",
        "thislist = [\"apple\", \"banana\", \"cherry\", \"apple\", \"cherry\"]\n",
        "print(thislist)\n",
        "thislist = [\"apple\", \"banana\", \"cherry\"]\n",
        "print(len(thislist))\n",
        "list1 = [\"apple\", \"banana\", \"cherry\"]\n",
        "list2 = [1, 5, 7, 9, 3]\n",
        "list3 = [True, False, False]\n",
        "print(type(thislist))\n",
        "print(thislist[1])\n",
        "print(thislist[-1])\n",
        "print(thislist[1:3])\n",
        "print(thislist[:3])\n",
        "print(thislist[2:])\n",
        "\n",
        "thislist = [\"apple\", \"banana\", \"cherry\", \"orange\", \"kiwi\", \"melon\", \"mango\"]\n",
        "print(thislist[-4:-1])\n",
        "thislist = [\"apple\", \"banana\", \"cherry\"]\n",
        "if \"apple\" in thislist:\n",
        "  print(\"Yes, 'apple' is in the fruits list\")"
      ],
      "metadata": {
        "colab": {
          "base_uri": "https://localhost:8080/"
        },
        "id": "ClKqZKJrKXtk",
        "outputId": "b9421eed-be51-4a72-a2f7-917f9f9a8be7"
      },
      "execution_count": null,
      "outputs": [
        {
          "output_type": "stream",
          "name": "stdout",
          "text": [
            "['apple', 'banana', 'cherry']\n",
            "['apple', 'banana', 'cherry', 'apple', 'cherry']\n",
            "3\n",
            "<class 'list'>\n",
            "banana\n",
            "cherry\n",
            "['banana', 'cherry']\n",
            "['apple', 'banana', 'cherry']\n",
            "['cherry']\n",
            "['orange', 'kiwi', 'melon']\n",
            "Yes, 'apple' is in the fruits list\n"
          ]
        }
      ]
    },
    {
      "cell_type": "markdown",
      "source": [
        "List 자율주행 코드(주행명령확인)"
      ],
      "metadata": {
        "id": "IiE6rinSMYTy"
      }
    },
    {
      "cell_type": "code",
      "source": [
        "command = [\"전진\", \"후진\", \"좌회전\", \"우회전\", \"정지\"]\n",
        "print(\"전진!\", command[0])\n",
        "print(\"후진!\", command[1])\n",
        "print(\"좌회전!\", command[2])\n",
        "print(\"우회전!\", command[3])\n",
        "print(\"정지!\", command[4])\n",
        "\n",
        "speeds = [0, 10, 30, 50, 80, 90, 10]\n",
        "print(\"최고 속도\", max(speeds))\n",
        "print(\"최저 속도\", min(speeds))\n",
        "print(\"평균 속도\", sum(speeds)/len(speeds))"
      ],
      "metadata": {
        "colab": {
          "base_uri": "https://localhost:8080/"
        },
        "id": "3TIdktpAKXrH",
        "outputId": "6ea5d4ac-7974-4e33-81a8-53d32440693a"
      },
      "execution_count": null,
      "outputs": [
        {
          "output_type": "stream",
          "name": "stdout",
          "text": [
            "전진! 전진\n",
            "후진! 후진\n",
            "좌회전! 좌회전\n",
            "우회전! 우회전\n",
            "정지! 정지\n",
            "최고 속도 90\n",
            "최저 속도 0\n",
            "평균 속도 38.57142857142857\n"
          ]
        }
      ]
    },
    {
      "cell_type": "markdown",
      "source": [
        "센서 데이터 모니터링 시스템"
      ],
      "metadata": {
        "id": "NeSCGdGE76G1"
      }
    },
    {
      "cell_type": "code",
      "execution_count": null,
      "metadata": {
        "colab": {
          "base_uri": "https://localhost:8080/"
        },
        "id": "Nlfr_xgu5s1e",
        "outputId": "f90e2e40-ac52-4996-f16b-1d8e59df1463"
      },
      "outputs": [
        {
          "output_type": "stream",
          "name": "stdout",
          "text": [
            "⚠️ 카메라 데이터 이상 감지! 점검 필요\n",
            "⚠️ 차선 정보 이상 감지! 점검 필요\n",
            "⚠️ 교통 표지판 이상 감지! 점검 필요\n",
            "⚠️ 라이다 포인트 이상 감지! 점검 필요\n",
            "⚠️ 장애물 이상 감지! 점검 필요\n",
            "✅ GPS 위도 정상 작동\n",
            "✅ GPS 경도 정상 작동\n",
            "✅ GPS 고도 정상 작동\n"
          ]
        }
      ],
      "source": [
        "# 변수 초기화\n",
        "camera_data = None\n",
        "lane_lines = []\n",
        "traffic_signs = []\n",
        "lidar_points = []\n",
        "obstacles = []\n",
        "gps_lat, gps_lon = 0.0, 0.0\n",
        "gps_altitude = 0.0\n",
        "\n",
        "# 모든 센서 변수를 리스트로 관리\n",
        "sensor_vars = [\n",
        "    camera_data, lane_lines, traffic_signs,\n",
        "    lidar_points, obstacles, gps_lat, gps_lon, gps_altitude\n",
        "]\n",
        "\n",
        "# 센서 이름 리스트\n",
        "sensor_names = [\n",
        "    \"카메라 데이터\", \"차선 정보\", \"교통 표지판\",\n",
        "    \"라이다 포인트\", \"장애물\", \"GPS 위도\", \"GPS 경도\", \"GPS 고도\"\n",
        "]\n",
        "\n",
        "# 센서 상태 점검\n",
        "for idx, (sensor, name) in enumerate(zip(sensor_vars, sensor_names)):\n",
        "    if sensor is None or (isinstance(sensor, list) and len(sensor) == 0):\n",
        "        print(f\"⚠️ {name} 이상 감지! 점검 필요\")\n",
        "    else:\n",
        "        print(f\"✅ {name} 정상 작동\")\n"
      ]
    },
    {
      "cell_type": "markdown",
      "source": [
        "동적 안전 거리 제어 시스템"
      ],
      "metadata": {
        "id": "6PnRH1KK8ECP"
      }
    },
    {
      "cell_type": "code",
      "source": [
        "# 변수 초기화\n",
        "collision_detected = False\n",
        "safety_distance = 5.0\n",
        "emergency_brake = False\n",
        "nearby_vehicles = [{\"distance\": 8.0}, {\"distance\": 12.0}]\n",
        "weather_condition = \"RAIN\"\n",
        "front_vehicle_distance = min([v['distance'] for v in nearby_vehicles]) if nearby_vehicles else float('inf')\n",
        "\n",
        "# 안전 변수 리스트\n",
        "safety_params = [collision_detected, safety_distance, emergency_brake]\n",
        "\n",
        "# 주변 차량 거리 기반 안전 제어\n",
        "if nearby_vehicles:\n",
        "    # 안전 거리 계산: 날씨 가중치 적용\n",
        "    weather_factor = 1.5 if weather_condition == \"RAIN\" else 1.0\n",
        "    adjusted_safety_dist = safety_distance * weather_factor\n",
        "\n",
        "    if front_vehicle_distance < adjusted_safety_dist:\n",
        "        print(f\"🚨 안전 거리 미달: {front_vehicle_distance:.1f}m | 감속 시작\")\n",
        "        max_deceleration = -6.0\n",
        "    elif collision_detected:\n",
        "        print(\"❗ 비상 충돌 감지 | 긴급 제동 활성화\")\n",
        "        emergency_brake = True\n"
      ],
      "metadata": {
        "id": "D_T9odac8DeR"
      },
      "execution_count": null,
      "outputs": []
    },
    {
      "cell_type": "markdown",
      "source": [
        "주행 모드 전환 시스템"
      ],
      "metadata": {
        "id": "VZg4uBQZ74PE"
      }
    },
    {
      "cell_type": "code",
      "source": [
        "# 변수 초기화\n",
        "driving_mode = \"EMERGENCY\"\n",
        "autonomous_mode = True\n",
        "turning_radius = 5.0\n",
        "max_acceleration = 3.0\n",
        "\n",
        "# 주행 모드 우선순위 리스트\n",
        "mode_priority = [\"EMERGENCY\", \"PARKING\", \"NORMAL\"]\n",
        "\n",
        "# 모드 전환 결정\n",
        "for mode in mode_priority:\n",
        "    if driving_mode == mode:\n",
        "        if mode == \"EMERGENCY\":\n",
        "            print(\"🛑 비상 모드: 즉시 정지\")\n",
        "            max_acceleration = 0\n",
        "        elif mode == \"PARKING\" and autonomous_mode:\n",
        "            print(\"🅿️ 주차 모드: 최대 회전 반경 적용\")\n",
        "            turning_radius = 3.0\n",
        "        elif mode == \"NORMAL\":\n",
        "            print(\"🚙 일반 주행: 가속도 최대치 설정\")\n",
        "            max_acceleration = 3.0\n",
        "        break\n"
      ],
      "metadata": {
        "colab": {
          "base_uri": "https://localhost:8080/"
        },
        "id": "yZy78Xz85vxA",
        "outputId": "6e76b1e8-7b50-4f50-88d0-d0f52476a60e"
      },
      "execution_count": null,
      "outputs": [
        {
          "output_type": "stream",
          "name": "stdout",
          "text": [
            "🛑 비상 모드: 즉시 정지\n"
          ]
        }
      ]
    },
    {
      "cell_type": "markdown",
      "source": [
        "환경 조건 기반 속도제어"
      ],
      "metadata": {
        "id": "Pd5JutyT70au"
      }
    },
    {
      "cell_type": "code",
      "source": [
        "# 변수 초기화\n",
        "weather_condition = \"RAIN\"\n",
        "road_condition = \"WET\"\n",
        "visibility = 45.0\n",
        "traffic_light_state = \"GREEN\"\n",
        "speed_limit = 50.0\n",
        "\n",
        "# 환경 변수 매핑\n",
        "env_factors = {\n",
        "    \"weather\": weather_condition,\n",
        "    \"road\": road_condition,\n",
        "    \"visibility\": visibility,\n",
        "    \"traffic_light\": traffic_light_state\n",
        "}\n",
        "\n",
        "# 속도 제한 계산\n",
        "speed_factor = 1.0\n",
        "if env_factors[\"weather\"] == \"RAIN\":\n",
        "    speed_factor *= 0.7\n",
        "if env_factors[\"road\"] == \"WET\":\n",
        "    speed_factor *= 0.8\n",
        "if env_factors[\"visibility\"] < 50:\n",
        "    speed_factor *= 0.6\n",
        "\n",
        "adjusted_speed_limit = speed_limit * speed_factor\n",
        "print(f\"🌧️ 환경 기반 속도 제한: {adjusted_speed_limit:.1f}km/h 적용\")\n",
        "\n"
      ],
      "metadata": {
        "colab": {
          "base_uri": "https://localhost:8080/"
        },
        "id": "qQm7yNOQ5xOP",
        "outputId": "059f6ee9-b69f-4ef8-c83f-662793f1ca9e"
      },
      "execution_count": null,
      "outputs": [
        {
          "output_type": "stream",
          "name": "stdout",
          "text": [
            "🌧️ 환경 기반 속도 제한: 16.8km/h 적용\n"
          ]
        }
      ]
    },
    {
      "cell_type": "markdown",
      "source": [
        "물리적 제한 조건 시뮬레이션"
      ],
      "metadata": {
        "id": "AQwJ6EVR8IqV"
      }
    },
    {
      "cell_type": "code",
      "source": [
        "# 변수 초기화\n",
        "vehicle_length = 4.5\n",
        "vehicle_width = 1.8\n",
        "wheelbase = 2.7\n",
        "max_acceleration = 3.0\n",
        "max_deceleration = -8.0\n",
        "turning_radius = 5.0\n",
        "current_time = 0.0\n",
        "dt = 0.1\n",
        "simulation_time = 0.0\n",
        "\n",
        "# 차량 물리적 특성 리스트\n",
        "vehicle_specs = [\n",
        "    vehicle_length, vehicle_width, wheelbase,\n",
        "    max_acceleration, max_deceleration, turning_radius\n",
        "]\n",
        "\n",
        "# 시간 경과에 따른 차량 동작 시뮬레이션\n",
        "for t in range(1, 6):\n",
        "    current_time += dt\n",
        "    simulation_time = current_time\n",
        "\n",
        "    # 가속/감속 패턴 계산\n",
        "    if simulation_time < 3.0:\n",
        "        acceleration = min(max_acceleration, 2.0 * simulation_time)\n",
        "        print(f\"⏱️ [T+{simulation_time:.1f}s] 가속: {acceleration:.1f}m/s²\")\n",
        "    else:\n",
        "        deceleration = max(max_deceleration, -4.0 * (simulation_time - 3))\n",
        "        print(f\"⏱️ [T+{simulation_time:.1f}s] 감속: {deceleration:.1f}m/s²\")\n"
      ],
      "metadata": {
        "colab": {
          "base_uri": "https://localhost:8080/"
        },
        "id": "kPiawQ2c5xCR",
        "outputId": "c2a87a51-3f2d-4ff1-8879-f611f41dd500"
      },
      "execution_count": null,
      "outputs": [
        {
          "output_type": "stream",
          "name": "stdout",
          "text": [
            "⏱️ [T+0.1s] 가속: 0.2m/s²\n",
            "⏱️ [T+0.2s] 가속: 0.4m/s²\n",
            "⏱️ [T+0.3s] 가속: 0.6m/s²\n",
            "⏱️ [T+0.4s] 가속: 0.8m/s²\n",
            "⏱️ [T+0.5s] 가속: 1.0m/s²\n"
          ]
        }
      ]
    },
    {
      "cell_type": "markdown",
      "source": [
        "Dict"
      ],
      "metadata": {
        "id": "lo3_RFoNNo9s"
      }
    },
    {
      "cell_type": "code",
      "source": [
        "thisdict = {\n",
        "  \"brand\": \"Ford\",\n",
        "  \"model\": \"Mustang\",\n",
        "  \"year\": 1964\n",
        "}\n",
        "print(thisdict)\n",
        "print(thisdict[\"brand\"])\n",
        "\n",
        "child1 = {\n",
        "  \"name\" : \"Emil\",\n",
        "  \"year\" : 2004\n",
        "}\n",
        "child2 = {\n",
        "  \"name\" : \"Tobias\",\n",
        "  \"year\" : 2007\n",
        "}\n",
        "child3 = {\n",
        "  \"name\" : \"Linus\",\n",
        "  \"year\" : 2011\n",
        "}\n",
        "\n",
        "myfamily = {\n",
        "  \"child1\" : child1,\n",
        "  \"child2\" : child2,\n",
        "  \"child3\" : child3\n",
        "}\n",
        "\n",
        "print(myfamily)\n",
        "\n",
        "thisdict = {\n",
        "  \"brand\": \"Ford\",\n",
        "  \"model\": \"Mustang\",\n",
        "  \"year\": 1964\n",
        "}\n",
        "mydict = dict(thisdict)\n",
        "print(mydict)"
      ],
      "metadata": {
        "id": "ciYjvzJX5wl1",
        "colab": {
          "base_uri": "https://localhost:8080/"
        },
        "outputId": "2fb3e1d3-0a06-471d-9d5e-986b10da2981"
      },
      "execution_count": null,
      "outputs": [
        {
          "output_type": "stream",
          "name": "stdout",
          "text": [
            "{'brand': 'Ford', 'model': 'Mustang', 'year': 1964}\n",
            "Ford\n",
            "{'child1': {'name': 'Emil', 'year': 2004}, 'child2': {'name': 'Tobias', 'year': 2007}, 'child3': {'name': 'Linus', 'year': 2011}}\n",
            "{'brand': 'Ford', 'model': 'Mustang', 'year': 1964}\n"
          ]
        }
      ]
    },
    {
      "cell_type": "markdown",
      "source": [
        "If-else"
      ],
      "metadata": {
        "id": "YiCMil7YOYWZ"
      }
    },
    {
      "cell_type": "code",
      "source": [
        "a = 33\n",
        "b = 200\n",
        "if b > a:\n",
        "  print(\"b is greater than a\")\n",
        "\n",
        "c = 33\n",
        "\n",
        "if b > a:\n",
        "  print(\"b is greater than a\")\n",
        "elif a == c:\n",
        "  print(\"a and b are equal\")\n",
        "\n",
        "d = 2\n",
        "e = 1\n",
        "#Short\n",
        "if d > e: print(\"a is greater than b\")\n",
        "\n",
        "print(\"d\") if d > e else print(\"e\")\n",
        "\n",
        "a = 330\n",
        "b = 330\n",
        "print(\"a\") if a > b else print('=') if a == b else print(\"b\")\n",
        "\n",
        "#And\n",
        "a = 200\n",
        "b = 330\n",
        "c = 500\n",
        "if a > b and c > a:\n",
        "  print(\"Both conditions are True\")\n",
        "\n",
        "#Or\n",
        "a = 200\n",
        "b = 33\n",
        "c = 500\n",
        "if a > b or a > c:\n",
        "  print(\"At least one of the conditions is True\")\n",
        "\n",
        "if not a > b:\n",
        "  print(\"a is Not greater than b\")\n",
        "\n",
        "x = 41\n",
        "\n",
        "if x > 10:\n",
        "  print(\"Above ten,\")\n",
        "\n",
        "  if x > 20:\n",
        "    print(\"and also aboce 20!\")\n",
        "  else:\n",
        "    print(\"but not abbove 20\")\n",
        "\n",
        "a = 33\n",
        "b = 200\n",
        "\n",
        "if b > a:\n",
        "  pass"
      ],
      "metadata": {
        "colab": {
          "base_uri": "https://localhost:8080/"
        },
        "id": "FWibLpNSdvs4",
        "outputId": "8cbe9763-2230-4657-9d4d-7eff3bc7d583"
      },
      "execution_count": null,
      "outputs": [
        {
          "output_type": "stream",
          "name": "stdout",
          "text": [
            "b is greater than a\n",
            "b is greater than a\n",
            "a is greater than b\n",
            "d\n",
            "=\n",
            "At least one of the conditions is True\n",
            "Above ten,\n",
            "and also aboce 20!\n"
          ]
        }
      ]
    },
    {
      "cell_type": "markdown",
      "source": [
        "Match"
      ],
      "metadata": {
        "id": "LOxLattefhXu"
      }
    },
    {
      "cell_type": "code",
      "source": [
        "day = 4\n",
        "match day: # = Switch\n",
        "  case 1:\n",
        "    print(\"Monday\")\n",
        "  case 2:\n",
        "    print(\"Tuesday\")\n",
        "  case 3:\n",
        "    print(\"Wednesday\")\n",
        "  case 4:\n",
        "    print(\"Thursday\")\n",
        "  case 5:\n",
        "    print(\"Friday\")\n",
        "  case 6:\n",
        "    print(\"Saturday\")\n",
        "  case 7:\n",
        "    print(\"Sunday\")\n",
        "\n",
        "match day: #매칭이 없는 곳에는\n",
        "  case 6:\n",
        "    print(\"Today is Saturday\")\n",
        "  case 7:\n",
        "    print(\"Today is Sunday\")\n",
        "  case _:\n",
        "    print(\"Today is a Weekday\")\n",
        "\n",
        "day1 = 3\n",
        "match day:\n",
        "  case 1 | 2 | 3 | 4 | 5:\n",
        "    print(\"Weekday\")\n",
        "  case 6 | 7:\n",
        "    print(\"not Weekday\")\n",
        "\n",
        "month = 5\n",
        "day2 = 2\n",
        "match day:\n",
        "  case 1 | 2 | 3 | 4 | 5 if month == 5:\n",
        "    print(\"Sorry I have to go\")\n",
        "  case 1 | 2 | 3 | 4 | 5 if month == 3:\n",
        "    print(\"I'm Ok\")\n",
        "  case _:\n",
        "    print(\"I don't know\")"
      ],
      "metadata": {
        "colab": {
          "base_uri": "https://localhost:8080/"
        },
        "id": "bdN5WV5bfiL4",
        "outputId": "87ca6245-1445-466c-9a59-62ae37f1b007"
      },
      "execution_count": null,
      "outputs": [
        {
          "output_type": "stream",
          "name": "stdout",
          "text": [
            "Thursday\n",
            "Today is a Weekday\n",
            "Weekday\n",
            "Sorry I have to go\n"
          ]
        }
      ]
    },
    {
      "cell_type": "markdown",
      "source": [
        "While"
      ],
      "metadata": {
        "id": "q69S-U6Ch9zV"
      }
    },
    {
      "cell_type": "code",
      "source": [
        "idx = 1\n",
        "while idx < 5:\n",
        "  print(idx)\n",
        "  idx += 1\n",
        "\n",
        "idx1 = 0\n",
        "while idx1 < 4:\n",
        "  print(f\"im {idx1}\",idx1)\n",
        "  if idx1 == 3:\n",
        "    break\n",
        "  idx1 += 1\n",
        "\n",
        "idx2 = 0\n",
        "\n",
        "while idx2 < 6:\n",
        "  idx2 += 1\n",
        "  if idx2 == 3:\n",
        "    print(\"멀봐\")\n",
        "    continue\n",
        "  print(idx2)"
      ],
      "metadata": {
        "colab": {
          "base_uri": "https://localhost:8080/"
        },
        "id": "IUaZqJ4Th-0X",
        "outputId": "2bd0a9e9-23cc-474d-9382-c4fbf0b5ca3d"
      },
      "execution_count": 61,
      "outputs": [
        {
          "output_type": "stream",
          "name": "stdout",
          "text": [
            "1\n",
            "2\n",
            "3\n",
            "4\n",
            "im 0 0\n",
            "im 1 1\n",
            "im 2 2\n",
            "im 3 3\n",
            "1\n",
            "2\n",
            "멀봐\n",
            "4\n",
            "5\n",
            "6\n"
          ]
        }
      ]
    },
    {
      "cell_type": "markdown",
      "source": [
        "Lambda"
      ],
      "metadata": {
        "id": "AKCnAhXYj0ip"
      }
    },
    {
      "cell_type": "code",
      "source": [
        "#인자 : 계산식\n",
        "x = lambda a : a + 10\n",
        "print(x(5))\n",
        "\n",
        "y = lambda a, b, : a * b\n",
        "print(y(5, 6))\n",
        "\n",
        "z = lambda a, b, c : a + b + c\n",
        "print(z(5, 6, 2))\n",
        "\n",
        "\n",
        "def myfunc(n):\n",
        "  return lambda a : a * n\n",
        "#고정된 a값 먼저 전달\n",
        "mydoubler = myfunc(2)\n",
        "print(mydoubler(11))\n",
        "\n",
        "mytriper = myfunc(3)\n",
        "print(mytriper(11))"
      ],
      "metadata": {
        "colab": {
          "base_uri": "https://localhost:8080/"
        },
        "id": "VliNXQljj25n",
        "outputId": "9e50dd7f-e008-4213-a34f-39df9d0de5ba"
      },
      "execution_count": 73,
      "outputs": [
        {
          "output_type": "stream",
          "name": "stdout",
          "text": [
            "15\n",
            "30\n",
            "13\n",
            "22\n",
            "33\n",
            "Ford\n"
          ]
        }
      ]
    },
    {
      "cell_type": "markdown",
      "source": [
        "Arrays"
      ],
      "metadata": {
        "id": "fG-d0hpKzgVW"
      }
    },
    {
      "cell_type": "code",
      "source": [
        "\"\"\"\n",
        "List와 Arrays의 차아\n",
        "Arrays : 메모리 주소가 연속적이며, 데이터 위치 직접적인 접근 가능\n",
        "List : 메모리 주소가 연속적이지 않으며, 포인터를 통해 다음 데이터의 위치를 가리\n",
        "\"\"\"\n",
        "cars = [\"Ford\", \"Volvo\", \"BMW\"]\n",
        "x = cars[0]\n",
        "print(x)\n",
        "print(len(x))\n",
        "\n",
        "for x in cars:\n",
        "  print(x)\n",
        "\n",
        "cars.append(\"Honda\")\n",
        "print(cars)\n",
        "\n",
        "cars.pop(1)\n",
        "print(cars)\n"
      ],
      "metadata": {
        "colab": {
          "base_uri": "https://localhost:8080/",
          "height": 311
        },
        "id": "m1dk58LuzhzI",
        "outputId": "7c72dd00-ede1-450c-b0a4-d537182c693a"
      },
      "execution_count": 81,
      "outputs": [
        {
          "output_type": "stream",
          "name": "stdout",
          "text": [
            "Ford\n",
            "4\n",
            "Ford\n",
            "Volvo\n",
            "BMW\n",
            "['Ford', 'Volvo', 'BMW', 'Honda']\n",
            "['Ford', 'BMW', 'Honda']\n"
          ]
        },
        {
          "output_type": "error",
          "ename": "ValueError",
          "evalue": "list.remove(x): x not in list",
          "traceback": [
            "\u001b[0;31m---------------------------------------------------------------------------\u001b[0m",
            "\u001b[0;31mValueError\u001b[0m                                Traceback (most recent call last)",
            "\u001b[0;32m/tmp/ipython-input-81-1929355136.py\u001b[0m in \u001b[0;36m<cell line: 0>\u001b[0;34m()\u001b[0m\n\u001b[1;32m     18\u001b[0m \u001b[0mprint\u001b[0m\u001b[0;34m(\u001b[0m\u001b[0mcars\u001b[0m\u001b[0;34m)\u001b[0m\u001b[0;34m\u001b[0m\u001b[0;34m\u001b[0m\u001b[0m\n\u001b[1;32m     19\u001b[0m \u001b[0;34m\u001b[0m\u001b[0m\n\u001b[0;32m---> 20\u001b[0;31m \u001b[0mcars\u001b[0m\u001b[0;34m.\u001b[0m\u001b[0mremove\u001b[0m\u001b[0;34m(\u001b[0m\u001b[0;34m\"Volvo\"\u001b[0m\u001b[0;34m)\u001b[0m\u001b[0;34m\u001b[0m\u001b[0;34m\u001b[0m\u001b[0m\n\u001b[0m",
            "\u001b[0;31mValueError\u001b[0m: list.remove(x): x not in list"
          ]
        }
      ]
    },
    {
      "cell_type": "markdown",
      "source": [
        "Inheritance - 상속"
      ],
      "metadata": {
        "id": "0Xc71LAg70-k"
      }
    },
    {
      "cell_type": "code",
      "source": [
        "class Person:\n",
        "  def __init__(self, fname, lname):\n",
        "    self.firstname = fname\n",
        "    self.lastname = lname\n",
        "\n",
        "  def printname(self):\n",
        "    print(self.firstname, self.lastname)\n",
        "\n",
        "x = Person(\"John\", \"Doe\")\n",
        "x.printname()\n",
        "\n",
        "class Student:\n",
        "  def __init__(self, *name, year):\n",
        "    self.name = name\n",
        "    self.year = year\n",
        "  def printname(self):\n",
        "    print(self.name, self.year)\n",
        "\n",
        "\n",
        "x = Student(\"Mike\", \"Olsen\", year = 2019)\n",
        "x.printname()\n",
        "#class method\n",
        "print(type(x.printname))\n",
        "\n",
        "#class에 더ㅗ 추가\n",
        "class Student(Person):\n",
        "  def __init__(self, fname, lname, year):\n",
        "    super().__init__(fname, lname)\n",
        "    self.graduationyear = year\n",
        "\n",
        "  def welcome(self):\n",
        "    print(\"Welcome\", self.firstname, self.lastname, \"to the class of\", self.graduationyear)\n",
        "\n",
        "x = Student(\"Mike\", \"Olsen\", 2019)\n",
        "x.welcome()"
      ],
      "metadata": {
        "colab": {
          "base_uri": "https://localhost:8080/"
        },
        "id": "mlf1CUDr731v",
        "outputId": "cc39407a-3119-4876-800c-9ddd6a193929"
      },
      "execution_count": 97,
      "outputs": [
        {
          "output_type": "stream",
          "name": "stdout",
          "text": [
            "John Doe\n",
            "('Mike', 'Olsen') 2019\n",
            "<class 'method'>\n",
            "Welcome Mike Olsen to the class of 2019\n"
          ]
        }
      ]
    },
    {
      "cell_type": "markdown",
      "source": [
        "Iterators - 순서대로 다음값을 리턴할수 있는 객체(:next 메소드를 통해 다음값을가져옴)"
      ],
      "metadata": {
        "id": "jxzD_hzY-2AH"
      }
    },
    {
      "cell_type": "code",
      "source": [
        "mytuple = (\"apple\", \"banana\", \"cherry\")\n",
        "myit = iter(mytuple)\n",
        "\n",
        "print(next(myit))\n",
        "print(next(myit))\n",
        "print(next(myit))\n",
        "\n",
        "mystr = \"banana\"\n",
        "myit = iter(mystr)\n",
        "\n",
        "print(next(myit))\n",
        "print(next(myit))\n",
        "print(next(myit))\n",
        "print(next(myit))\n",
        "print(next(myit))\n",
        "print(next(myit))\n",
        "\n",
        "for x in mytuple:\n",
        "  print(x)\n",
        "\n",
        "#Iterators 생성\n",
        "class MyNumbers:\n",
        "  def __iter__(self):\n",
        "    self.a = 1\n",
        "    return self\n",
        "\n",
        "  def __next__(self):\n",
        "    x = self.a\n",
        "    self.a += 1\n",
        "\n",
        "    return x\n",
        "\n",
        "myclass = MyNumbers()\n",
        "myiter = iter(myclass)\n",
        "\n",
        "print(next(myiter))\n",
        "print(next(myiter))\n",
        "print(next(myiter))\n",
        "\n",
        "class MyNumbers:\n",
        "  def __iter__(self):\n",
        "    self.a = 1\n",
        "    return self\n",
        "\n",
        "  def __next__(self):\n",
        "    if self.a <= 20:\n",
        "      x = self.a\n",
        "      self.a += 1\n",
        "      return x\n",
        "    else:\n",
        "      raise StopIteration\n",
        "\n",
        "myclass = MyNumbers()\n",
        "myiter = iter(myclass)\n",
        "\n",
        "for x in myiter:\n",
        "  print(x)"
      ],
      "metadata": {
        "colab": {
          "base_uri": "https://localhost:8080/"
        },
        "id": "ACJh5roS9K1x",
        "outputId": "49ed2540-4654-44ec-9847-69ff9fd2e782"
      },
      "execution_count": 108,
      "outputs": [
        {
          "output_type": "stream",
          "name": "stdout",
          "text": [
            "apple\n",
            "banana\n",
            "cherry\n",
            "b\n",
            "a\n",
            "n\n",
            "a\n",
            "n\n",
            "a\n",
            "apple\n",
            "banana\n",
            "cherry\n",
            "1\n",
            "2\n",
            "3\n",
            "1\n",
            "2\n",
            "3\n",
            "4\n",
            "5\n",
            "6\n",
            "7\n",
            "8\n",
            "9\n",
            "10\n",
            "11\n",
            "12\n",
            "13\n",
            "14\n",
            "15\n",
            "16\n",
            "17\n",
            "18\n",
            "19\n",
            "20\n"
          ]
        }
      ]
    },
    {
      "cell_type": "code",
      "source": [
        "\n"
      ],
      "metadata": {
        "id": "UGWF4Fae_-CU"
      },
      "execution_count": null,
      "outputs": []
    }
  ]
}
