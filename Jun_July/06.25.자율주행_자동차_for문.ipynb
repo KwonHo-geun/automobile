{
  "cells": [
    {
      "cell_type": "markdown",
      "metadata": {
        "id": "view-in-github",
        "colab_type": "text"
      },
      "source": [
        "<a href=\"https://colab.research.google.com/github/KwonHo-geun/automobile/blob/main/06.25.%EC%9E%90%EC%9C%A8%EC%A3%BC%ED%96%89_%EC%9E%90%EB%8F%99%EC%B0%A8_for%EB%AC%B8.ipynb\" target=\"_parent\"><img src=\"https://colab.research.google.com/assets/colab-badge.svg\" alt=\"Open In Colab\"/></a>"
      ]
    },
    {
      "cell_type": "code",
      "source": [
        "fruits = [\"apple\",\"banana\",\"cherry\"]\n",
        "for x in fruits:\n",
        "  print(x)"
      ],
      "metadata": {
        "colab": {
          "base_uri": "https://localhost:8080/"
        },
        "id": "dagmh17j8yqF",
        "outputId": "ce0d18be-b85f-4f29-f99f-930d8e6b1b25"
      },
      "execution_count": 1,
      "outputs": [
        {
          "output_type": "stream",
          "name": "stdout",
          "text": [
            "apple\n",
            "banana\n",
            "cherry\n"
          ]
        }
      ]
    },
    {
      "cell_type": "code",
      "source": [
        "for x in \"apple\":\n",
        "  print(x)"
      ],
      "metadata": {
        "colab": {
          "base_uri": "https://localhost:8080/"
        },
        "id": "ixCSPgJq81w1",
        "outputId": "0213f9b6-8d9c-4501-a545-32e4cdcd9101"
      },
      "execution_count": 2,
      "outputs": [
        {
          "output_type": "stream",
          "name": "stdout",
          "text": [
            "a\n",
            "p\n",
            "p\n",
            "l\n",
            "e\n"
          ]
        }
      ]
    },
    {
      "cell_type": "code",
      "source": [
        "fruits = [\"apple\", \"banana\", \"cherry\"]\n",
        "for x in fruits:\n",
        "  print(x)\n",
        "  if x == \"banana\":\n",
        "    break\n"
      ],
      "metadata": {
        "colab": {
          "base_uri": "https://localhost:8080/"
        },
        "id": "8Ky5Vz3L84dH",
        "outputId": "5a20e2ed-c8a2-428d-c46d-22ad40a775c3"
      },
      "execution_count": 3,
      "outputs": [
        {
          "output_type": "stream",
          "name": "stdout",
          "text": [
            "apple\n",
            "banana\n"
          ]
        }
      ]
    },
    {
      "cell_type": "code",
      "source": [
        "fruits = [\"apple\", \"banana\", \"cherry\"]\n",
        "for x in fruits:\n",
        "  if x == \"banana\":\n",
        "    break\n",
        "  print(x)"
      ],
      "metadata": {
        "colab": {
          "base_uri": "https://localhost:8080/"
        },
        "id": "K1ZMHYie85r7",
        "outputId": "1f00a085-3f86-44c8-dcda-96adc9d7a78d"
      },
      "execution_count": 4,
      "outputs": [
        {
          "output_type": "stream",
          "name": "stdout",
          "text": [
            "apple\n"
          ]
        }
      ]
    },
    {
      "cell_type": "code",
      "source": [
        "fruits = [\"apple\", \"banana\", \"cherry\"]\n",
        "for x in fruits:\n",
        "  if x == \"banana\":\n",
        "    continue\n",
        "  print(x)"
      ],
      "metadata": {
        "colab": {
          "base_uri": "https://localhost:8080/"
        },
        "id": "S43ellRy88fm",
        "outputId": "d66b90ae-bdc2-48f7-a428-7d42e7569d28"
      },
      "execution_count": 5,
      "outputs": [
        {
          "output_type": "stream",
          "name": "stdout",
          "text": [
            "apple\n",
            "cherry\n"
          ]
        }
      ]
    },
    {
      "cell_type": "code",
      "source": [
        "distances = [110, 50, 60, 40, 90]\n",
        "\n",
        "for distance in distances:\n",
        "    if distance > 70:\n",
        "        speed = 50\n",
        "    elif distance > 40:\n",
        "        speed = 30\n",
        "    else:\n",
        "        speed = 10\n",
        "    print(f\"거리: {distance}cm → 속도 조절: {speed} km\")"
      ],
      "metadata": {
        "colab": {
          "base_uri": "https://localhost:8080/"
        },
        "id": "6jGpFdig89_m",
        "outputId": "c834d088-8a4d-4b4d-8e90-b1bb1689d0dd"
      },
      "execution_count": 7,
      "outputs": [
        {
          "output_type": "stream",
          "name": "stdout",
          "text": [
            "거리: 110cm → 속도 조절: 50 km\n",
            "거리: 50cm → 속도 조절: 30 km\n",
            "거리: 60cm → 속도 조절: 30 km\n",
            "거리: 40cm → 속도 조절: 10 km\n",
            "거리: 90cm → 속도 조절: 50 km\n"
          ]
        }
      ]
    },
    {
      "cell_type": "code",
      "source": [
        "lane_positions = [\"중앙\", \"중앙\", \"왼쪽\", \"중앙\", \"오른쪽\"]\n",
        "\n",
        "for position in lane_positions:\n",
        "    if position == \"중앙\":\n",
        "        action = \"유지\"\n",
        "    elif position == \"왼쪽\":\n",
        "        action = \"우회전 보정\"\n",
        "    else:\n",
        "        action = \"좌회전 보정\"\n",
        "    print(f\"차량 위치: {position} → 조향 명령: {action}\")\n",
        ""
      ],
      "metadata": {
        "colab": {
          "base_uri": "https://localhost:8080/"
        },
        "id": "eGPFZANB9FK4",
        "outputId": "b19b4171-3331-4d68-fd8b-ce4ba9125fbf"
      },
      "execution_count": 8,
      "outputs": [
        {
          "output_type": "stream",
          "name": "stdout",
          "text": [
            "차량 위치: 중앙 → 조향 명령: 유지\n",
            "차량 위치: 중앙 → 조향 명령: 유지\n",
            "차량 위치: 왼쪽 → 조향 명령: 우회전 보정\n",
            "차량 위치: 중앙 → 조향 명령: 유지\n",
            "차량 위치: 오른쪽 → 조향 명령: 좌회전 보정\n"
          ]
        }
      ]
    },
    {
      "cell_type": "code",
      "source": [
        "obstacles = [False, True, False, True, True] # 장애물 유무\n",
        "\n",
        "for i, obstacle in enumerate(obstacles):\n",
        "    if obstacle:\n",
        "        print(f\"{i+1}번째 체크포인트: 장애물 감지 → 오른쪽으로 회피\")\n",
        "    else:\n",
        "        print(f\"{i+1}번째 체크포인트: 주행 유지\")"
      ],
      "metadata": {
        "colab": {
          "base_uri": "https://localhost:8080/"
        },
        "id": "K6kxSMAE9JGm",
        "outputId": "525086e7-6596-427b-a6c3-bcda24851b7d"
      },
      "execution_count": 10,
      "outputs": [
        {
          "output_type": "stream",
          "name": "stdout",
          "text": [
            "1번째 체크포인트: 주행 유지\n",
            "2번째 체크포인트: 장애물 감지 → 오른쪽으로 회피\n",
            "3번째 체크포인트: 주행 유지\n",
            "4번째 체크포인트: 장애물 감지 → 오른쪽으로 회피\n",
            "5번째 체크포인트: 장애물 감지 → 오른쪽으로 회피\n"
          ]
        }
      ]
    },
    {
      "cell_type": "code",
      "source": [
        "target_speed = 60\n",
        "current_speed = 0\n",
        "\n",
        "for i in range(5):\n",
        "    if current_speed < target_speed:\n",
        "        current_speed += 20\n",
        "    else:\n",
        "        current_speed -= 10\n",
        "    print(f\"현재 속도: {current_speed} km/h\")"
      ],
      "metadata": {
        "colab": {
          "base_uri": "https://localhost:8080/"
        },
        "id": "hW70qJ_k9K6w",
        "outputId": "2ce75303-7201-4366-9c57-f4730c0a7a44"
      },
      "execution_count": 11,
      "outputs": [
        {
          "output_type": "stream",
          "name": "stdout",
          "text": [
            "현재 속도: 20 km/h\n",
            "현재 속도: 40 km/h\n",
            "현재 속도: 60 km/h\n",
            "현재 속도: 50 km/h\n",
            "현재 속도: 70 km/h\n"
          ]
        }
      ]
    },
    {
      "cell_type": "code",
      "source": [
        "route = [\"신호등\", \"횡단보도\", \"빈 도로\", \"장애물\"]\n",
        "\n",
        "for event in route:\n",
        "    if event == \"신호등\":\n",
        "        print(\"신호등 감지 → 신호 확인\")\n",
        "    elif event == \"횡단보도\":\n",
        "        print(\"횡단보도 감지 → 보행자 확인\")\n",
        "    elif event == \"장애물\":\n",
        "        print(\"장애물 감지 → 정지\")\n",
        "    else:\n",
        "        print(\"정상 주행\")"
      ],
      "metadata": {
        "colab": {
          "base_uri": "https://localhost:8080/"
        },
        "id": "jlXLMp2d9G9Z",
        "outputId": "e4dc41ae-77a5-4400-c797-be4ca50ba8c2"
      },
      "execution_count": 9,
      "outputs": [
        {
          "output_type": "stream",
          "name": "stdout",
          "text": [
            "신호등 감지 → 신호 확인\n",
            "횡단보도 감지 → 보행자 확인\n",
            "정상 주행\n",
            "장애물 감지 → 정지\n"
          ]
        }
      ]
    },
    {
      "cell_type": "code",
      "source": [
        "import rospy\n",
        "import cv2\n",
        "import numpy as np\n",
        "from std_msgs.msg import Float32\n",
        "from carla_msgs.msg import CarlaEgoVehicleControl\n",
        "\n",
        "class SpeedBumpDetector:\n",
        "    def __init__(self):\n",
        "        # 비전 센서 초기화 (실제 하드웨어 연동 시 카메라 설정 추가)\n",
        "        self.cap = cv2.VideoCapture(0)  # 기본 카메라 장치\n",
        "        self.bump_detected = False\n",
        "        self.bump_distance = 0.0\n",
        "\n",
        "    def detect_speed_bump(self):\n",
        "        \"\"\"과속 방지턱 감지 및 거리 계산\"\"\"\n",
        "        ret, frame = self.cap.read()\n",
        "        if not ret:\n",
        "            return False, 0.0\n",
        "\n",
        "        # 영상 처리: 색상 기반 검출 (실제 구현에선 ML/DNN 모델 사용)\n",
        "        hsv = cv2.cvtColor(frame, cv2.COLOR_BGR2HSV)\n",
        "        lower_yellow = np.array([20, 100, 100])\n",
        "        upper_yellow = np.array([30, 255, 255])\n",
        "        mask = cv2.inRange(hsv, lower_yellow, upper_yellow)\n",
        "\n",
        "        # 감지 결과 처리\n",
        "        contours, _ = cv2.findContours(mask, cv2.RETR_EXTERNAL, cv2.CHAIN_APPROX_SIMPLE)\n",
        "        if contours:\n",
        "            max_contour = max(contours, key=cv2.contourArea)\n",
        "            x, y, w, h = cv2.boundingRect(max_contour)\n",
        "\n",
        "            # 거리 추정 (픽셀 좌표 기반)\n",
        "            self.bump_distance = self.estimate_distance(w)\n",
        "            self.bump_detected = True\n",
        "            return True, self.bump_distance\n",
        "\n",
        "        self.bump_detected = False\n",
        "        return False, 0.0\n",
        "\n",
        "    def estimate_distance(self, width):\n",
        "        \"\"\"물체 너비 기반 거리 계산\"\"\"\n",
        "        # 실제 구현에선 카메라 캘리브레이션 파라미터 사용\n",
        "        focal_length = 500  # 카메라 초점거리 (실제 값으로 교체)\n",
        "        known_width = 0.3   # 과속 방지턱 표준 너비(m)\n",
        "        return (known_width * focal_length) / width\n",
        "\n",
        "class SpeedController:\n",
        "    def __init__(self, kp=0.5, ki=0.01, kd=0.1):\n",
        "        # PID 제어기 파라미터\n",
        "        self.kp = kp\n",
        "        self.ki = ki\n",
        "        self.kd = kd\n",
        "        self.prev_error = 0.0\n",
        "        self.integral = 0.0\n",
        "        self.safe_speed = 30.0  # km/h (과속 방지턱 근처 권장 속도)\n",
        "\n",
        "    def calculate_throttle(self, current_speed, bump_detected, bump_distance):\n",
        "        \"\"\"과속 여부 판단 및 스로틀 계산\"\"\"\n",
        "        if not bump_detected:\n",
        "            return 0.7  # 기본 주행 스로틀\n",
        "\n",
        "        # 과속 판단 로직\n",
        "        safe_distance = 15.0  # 감속 시작 거리(m)\n",
        "        if bump_distance < safe_distance:\n",
        "            # PID 제어를 통한 감속\n",
        "            error = self.safe_speed - current_speed\n",
        "            self.integral += error\n",
        "            derivative = error - self.prev_error\n",
        "            throttle = self.kp * error + self.ki * self.integral + self.kd * derivative\n",
        "            self.prev_error = error\n",
        "            return max(0.0, min(throttle, 1.0))  # 0~1 범위 제한\n",
        "\n",
        "        return 0.7  # 안전 거리 밖이면 기본 속도 유지\n",
        "\n",
        "def main():\n",
        "    rospy.init_node('autonomous_speed_control')\n",
        "\n",
        "    # ROS 설정\n",
        "    speed_pub = rospy.Publisher('/vehicle/speed_control', CarlaEgoVehicleControl, queue_size=10)\n",
        "    speed_sub = rospy.Subscriber('/carla/ego_vehicle/speedometer', Float32, speed_callback)\n",
        "\n",
        "    # 모듈 초기화\n",
        "    detector = SpeedBumpDetector()\n",
        "    controller = SpeedController()\n",
        "\n",
        "    current_speed = 0.0\n",
        "\n",
        "    def speed_callback(msg):\n",
        "        nonlocal current_speed\n",
        "        current_speed = msg.data * 3.6  # m/s → km/h 변환\n",
        "\n",
        "    rate = rospy.Rate(10)  # 10Hz 제어 주기\n",
        "\n",
        "    while not rospy.is_shutdown():\n",
        "        # 1. 과속 방지턱 감지\n",
        "        bump_detected, bump_distance = detector.detect_speed_bump()\n",
        "\n",
        "        # 2. 과속 판단 및 제어\n",
        "        control_msg = CarlaEgoVehicleControl()\n",
        "        control_msg.throttle = controller.calculate_throttle(\n",
        "            current_speed, bump_detected, bump_distance\n",
        "        )\n",
        "\n",
        "        # 3. 제어 명령 발행\n",
        "        speed_pub.publish(control_msg)\n",
        "        rate.sleep()\n",
        "\n",
        "if __name__ == \"__main__\":\n",
        "    main()\n"
      ],
      "metadata": {
        "id": "CauQ6WmD7dbG"
      },
      "execution_count": null,
      "outputs": []
    },
    {
      "cell_type": "code",
      "source": [
        "# 기본 비디오 처리 루프\n",
        "while True:\n",
        "    ret, frame = cap.read()\n",
        "    if not ret:\n",
        "        break\n",
        "\n",
        "    results = model(frame)\n",
        "    cv2.imshow('frame', frame)\n",
        "\n",
        "    if cv2.waitKey(1) & 0xFF == ord('q'):\n",
        "        break\n"
      ],
      "metadata": {
        "id": "ds-lYWQY8byq"
      },
      "execution_count": null,
      "outputs": []
    },
    {
      "cell_type": "code",
      "source": [
        "# 각 탐지 결과 순회\n",
        "for result in results:\n",
        "    boxes = result.boxes\n",
        "    for i, box in enumerate(boxes):\n",
        "        x1, y1, x2, y2 = box.xyxy[0]\n",
        "        conf = box.conf[0]\n",
        "        cls = box.cls[0]\n",
        "\n"
      ],
      "metadata": {
        "id": "V-Vr_c4VizZq"
      },
      "execution_count": null,
      "outputs": []
    },
    {
      "cell_type": "code",
      "source": [
        "for i, (x1, y1, x2, y2) in enumerate(boxes):\n",
        "    cv2.rectangle(img, (int(x1), int(y1)), (int(x2), int(y2)), (0, 255, 0), 2)"
      ],
      "metadata": {
        "id": "Ym0wgVD98f66"
      },
      "execution_count": null,
      "outputs": []
    },
    {
      "cell_type": "code",
      "source": [
        "for i in range(len(boxes)):\n",
        "    if conf[i] > 0.5:\n",
        "        # 처리 로직\n",
        "        pass\n"
      ],
      "metadata": {
        "id": "OZv8p0vDiztE"
      },
      "execution_count": null,
      "outputs": []
    }
  ],
  "metadata": {
    "colab": {
      "toc_visible": true,
      "provenance": [],
      "include_colab_link": true
    },
    "kernelspec": {
      "display_name": "Python 3",
      "name": "python3"
    }
  },
  "nbformat": 4,
  "nbformat_minor": 0
}
