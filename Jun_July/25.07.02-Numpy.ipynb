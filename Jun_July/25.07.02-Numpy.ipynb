{
  "cells": [
    {
      "cell_type": "markdown",
      "metadata": {
        "id": "view-in-github",
        "colab_type": "text"
      },
      "source": [
        "<a href=\"https://colab.research.google.com/github/KwonHo-geun/automobile/blob/main/25.07.02%20-%20Numpy.ipynb\" target=\"_parent\"><img src=\"https://colab.research.google.com/assets/colab-badge.svg\" alt=\"Open In Colab\"/></a>"
      ]
    },
    {
      "cell_type": "markdown",
      "source": [
        "07.02일자"
      ],
      "metadata": {
        "id": "oAT45d9S4MzC"
      }
    },
    {
      "cell_type": "markdown",
      "source": [
        "Numpy - Dimension"
      ],
      "metadata": {
        "id": "ynRe2sXM4SwR"
      }
    },
    {
      "cell_type": "code",
      "source": [
        "import numpy\n",
        "\n",
        "arr = numpy.array([1,2,3,4,5])\n",
        "\n",
        "print(type(arr))\n",
        "print(arr)\n",
        "\n",
        "#np로 이름 바꾸기\n",
        "import numpy as np\n",
        "\n",
        "arr1 = np.array([5,6,7,8,9])\n",
        "print(type(arr1))\n",
        "print(arr1)\n",
        "\n",
        "#numpy version 확인\n",
        "print(np.__version__)\n",
        "\n",
        "#numpy 배열 차원\n",
        "#0차원\n",
        "arr2 = np.array(43)\n",
        "print(arr2)\n",
        "\n",
        "#1차원\n",
        "arr3 = np.array([10,11,12,13,14])\n",
        "print(arr3)\n",
        "\n",
        "#2차원\n",
        "arr4 = np.array([[15,25,35], [45,55,65]])\n",
        "print(arr4)\n",
        "\n",
        "#3차원\n",
        "arr5 = np.array([[[1,2,3], [4,5,6]], [[1,2,3],[4,5,6]]])\n",
        "print(arr5)\n",
        "\n",
        "#차원 확인하기\n",
        "print(arr2.ndim)\n",
        "print(arr3.ndim)\n",
        "print(arr4.ndim)\n",
        "print(arr5.ndim)\n",
        "\n",
        "#ndim으로 고차원 배열 받기 가능\n",
        "arr6 = np.array([1,2,3,4,5], ndmin=5)\n",
        "print(arr6)\n",
        "print('number of dimensions :', arr5.ndim)"
      ],
      "metadata": {
        "colab": {
          "base_uri": "https://localhost:8080/"
        },
        "id": "duYeoE_S4UrQ",
        "outputId": "0e364de9-8864-45cf-fbcd-922958a7b089"
      },
      "execution_count": 39,
      "outputs": [
        {
          "output_type": "stream",
          "name": "stdout",
          "text": [
            "<class 'numpy.ndarray'>\n",
            "[1 2 3 4 5]\n",
            "<class 'numpy.ndarray'>\n",
            "[5 6 7 8 9]\n",
            "2.0.2\n",
            "43\n",
            "[10 11 12 13 14]\n",
            "[[15 25 35]\n",
            " [45 55 65]]\n",
            "[[[1 2 3]\n",
            "  [4 5 6]]\n",
            "\n",
            " [[1 2 3]\n",
            "  [4 5 6]]]\n",
            "0\n",
            "1\n",
            "2\n",
            "3\n",
            "[[[[[1 2 3 4 5]]]]]\n",
            "number of dimensions : 3\n"
          ]
        }
      ]
    },
    {
      "cell_type": "markdown",
      "source": [
        "Numpy - Array Indexing"
      ],
      "metadata": {
        "id": "x2yMlNBh6Npz"
      }
    },
    {
      "cell_type": "code",
      "source": [
        "#array와 동일하게 index가 0부터 시작\n",
        "import numpy as np\n",
        "\n",
        "arr = np.array([1,2,3,4,5])\n",
        "print(arr[0])\n",
        "print(arr[1])\n",
        "print(arr[2]+arr[3])\n",
        "\n",
        "#2D Array의 경우 - 0,1,2,3,4... 순으로 돌아감\n",
        "arr2 = np.array([[1,2,3,4,5], [6,7,8,9,10]])\n",
        "print('2nd element on 1st row :', arr2[0,1])\n",
        "print('2nd element on 1st row :', arr2[1,4])\n",
        "\n",
        "#3D Array의 경우\n",
        "arr3 = np.array([[[1,2,3],[4,5,6]],[[7,8,9],[10,11,12]]])\n",
        "#0은 [1,2,3],[4,5,6]을 뜻하고, 1은 그중 [4,5,6]을 뜻함 이유는 두개의 배열도 0,1,2...이런식이기 때문\n",
        "#마지막으로 2는 [4,5,6]에서 6을 뜻함\n",
        "print(arr3[0,1,2])\n",
        "\n",
        "#여기서 배열의 0,1 두개 중 1번에서 마지막번째를 얻는다는 것\n",
        "arr4 = np.array([[1,2,3,4,5],[6,7,8,9,10]])\n",
        "print('Last element from 2nd dim :', arr4[1, -1])\n",
        "\n"
      ],
      "metadata": {
        "colab": {
          "base_uri": "https://localhost:8080/"
        },
        "id": "KodSNmso6QXW",
        "outputId": "d62e07e7-f4ed-43e0-8ca4-c56d574e72ae"
      },
      "execution_count": 52,
      "outputs": [
        {
          "output_type": "stream",
          "name": "stdout",
          "text": [
            "1\n",
            "2\n",
            "7\n",
            "2nd element on 1st row : 2\n",
            "2nd element on 1st row : 10\n",
            "6\n",
            "Last element from 2nd dim : 10\n"
          ]
        }
      ]
    },
    {
      "cell_type": "markdown",
      "source": [
        "Numpy - Array Slicing"
      ],
      "metadata": {
        "id": "XgiK9Aeg9Muk"
      }
    },
    {
      "cell_type": "code",
      "source": [
        "#Array의 element를 가져온다는 것\n",
        "import numpy as np\n",
        "\n",
        "arr = np.array([1,2,3,4,5,6,7])\n",
        "#element 1부터 5번미만 즉, 2,3,4,5까지. 마지막 6은 제외한다.\n",
        "print(arr[1:5])\n",
        "print(arr[4:])\n",
        "print(arr[:4])\n",
        "\n",
        "#반대 Slicing - 여기선 첫번재 element인 4를 제외한다. 정반대\n",
        "arr1 = np.array([1,2,3,4,5,6,7])\n",
        "print(arr[-3:-1])\n",
        "\n",
        "#step - 단계를 결정하는 것. - 아래는 2,3번째 element만 출력\n",
        "arr2 = np.array([1,2,3,4,5,6,7])\n",
        "print(arr2[1:5:2])\n",
        "print(arr2[::2])\n",
        "print(arr2[::3])\n",
        "\n",
        "#Slicing 2D Arrays - 아래는 2D Array의 1 element 중 1~4 element 출력\n",
        "arr3 = np.array([[1,2,3,4,5], [6,7,8,9,10]])\n",
        "print(arr3[1, 1:4])\n",
        "# 두개의 배열에서 index 2번째 element 출력\n",
        "print(arr3[0:2, 2])\n",
        "# 두개의 배열에서 index 1~4번째까 element 출력\n",
        "print(arr3[0:2, 1:4])"
      ],
      "metadata": {
        "colab": {
          "base_uri": "https://localhost:8080/"
        },
        "id": "rLjwf5Dt9L4A",
        "outputId": "7d37c74b-d926-4dfb-b051-81b0919a909e"
      },
      "execution_count": 65,
      "outputs": [
        {
          "output_type": "stream",
          "name": "stdout",
          "text": [
            "[2 3 4 5]\n",
            "[5 6 7]\n",
            "[1 2 3 4]\n",
            "[5 6]\n",
            "[2 4]\n",
            "[1 3 5 7]\n",
            "[1 4 7]\n",
            "[7 8 9]\n",
            "[3 8]\n",
            "[[2 3 4]\n",
            " [7 8 9]]\n"
          ]
        }
      ]
    },
    {
      "cell_type": "markdown",
      "source": [
        "Numpy - Data Types"
      ],
      "metadata": {
        "id": "ptyz3Lq8AE8W"
      }
    },
    {
      "cell_type": "code",
      "source": [
        "import numpy as np\n",
        "\n",
        "arr =  np.array([1,2,3,4])\n",
        "print(arr.dtype)\n",
        "\n",
        "arr1 = np.array(['apple', 'banana', 'cherry'])\n",
        "print(arr1.dtype)\n",
        "\n",
        "#Createing Arrays With a Defined Data Type\n",
        "#String\n",
        "arr2 = np.array([1,2,3,4], dtype='S')\n",
        "print(arr2)\n",
        "print(arr2.dtype)\n",
        "\n",
        "#int32\n",
        "arr3 = np.array([1,2,3,4], dtype = 'i4')\n",
        "print(arr3)\n",
        "print(arr3.dtype)\n",
        "\n",
        "#arr = np.array(['a','2','3'], dtype = 'i') - a는 정수형이 아닌 문자열이기에 불가\n",
        "\n",
        "#Converting Data Type on Existing Arrays - 데이터 유형 변환\n",
        "arr4 = np.array([1.1, 2.1, 3.1])\n",
        "print(type(arr4))\n",
        "newarr = arr4.astype('i')\n",
        "newarr1 = arr4.astype(int)\n",
        "print(newarr)\n",
        "print(newarr.dtype)\n",
        "print(newarr1)\n",
        "print(newarr1.dtype)\n",
        "\n",
        "arr5 = np.array([1,0,3])\n",
        "newarr2 = arr5.astype(bool)\n",
        "print(newarr2)\n",
        "print(newarr2.dtype)\n",
        "\n"
      ],
      "metadata": {
        "colab": {
          "base_uri": "https://localhost:8080/"
        },
        "id": "mXp5oRPrAIHc",
        "outputId": "afcdc0d7-09ea-4ac4-ed06-2b39fa88a575"
      },
      "execution_count": 75,
      "outputs": [
        {
          "output_type": "stream",
          "name": "stdout",
          "text": [
            "int64\n",
            "<U6\n",
            "[b'1' b'2' b'3' b'4']\n",
            "|S1\n",
            "[1 2 3 4]\n",
            "int32\n",
            "<class 'numpy.ndarray'>\n",
            "[1 2 3]\n",
            "int32\n",
            "[1 2 3]\n",
            "int64\n",
            "[ True False  True]\n",
            "bool\n"
          ]
        }
      ]
    },
    {
      "cell_type": "markdown",
      "source": [
        "Numpy - Array Copy vs View"
      ],
      "metadata": {
        "id": "JGaZr7R7CmdN"
      }
    },
    {
      "cell_type": "code",
      "source": [
        "#Copy는 새로운 Array, view는 원래 Array\n",
        "import numpy as np\n",
        "\n",
        "#Copy\n",
        "arr = np.array([1,2,3,4,5])\n",
        "x = arr.copy()\n",
        "arr[0] =43\n",
        "print(arr)\n",
        "print(x)\n",
        "\n",
        "#View - 오리지널이랑 똑같음.\n",
        "arr = np.array([1,2,3,4,5])\n",
        "x = arr.view()\n",
        "arr[0] = 42\n",
        "print(arr)\n",
        "print(x)\n",
        "\n",
        "#base - 원래 Copy or View를 한 데이터가 뭔지 참조하는 것\n",
        "arr1 = np.array([6,7,8,9])\n",
        "#새로운 애라 없음 - None\n",
        "x = arr1.copy()\n",
        "#원본이 있으니 참조가\n",
        "y = arr1.view()\n",
        "\n",
        "print(x.base)\n",
        "print(y.base)"
      ],
      "metadata": {
        "colab": {
          "base_uri": "https://localhost:8080/"
        },
        "id": "AWqt7KWuDENd",
        "outputId": "b794c489-9a57-4c77-eb9d-f6997806fec4"
      },
      "execution_count": 78,
      "outputs": [
        {
          "output_type": "stream",
          "name": "stdout",
          "text": [
            "[43  2  3  4  5]\n",
            "[1 2 3 4 5]\n",
            "[42  2  3  4  5]\n",
            "[42  2  3  4  5]\n",
            "None\n",
            "[6 7 8 9]\n"
          ]
        }
      ]
    },
    {
      "cell_type": "markdown",
      "source": [
        "Numpy - Array Shape"
      ],
      "metadata": {
        "id": "s2s1n6R2EJHO"
      }
    },
    {
      "cell_type": "code",
      "source": [
        "#속성을 튜플로 반환\n",
        "import numpy as np\n",
        "#2개의 dimension, 각 dimension의 elements는 4\n",
        "arr = np.array([[1,2,3,4],[5,6,7,8]])\n",
        "print(arr.shape)\n",
        "\n",
        "#5 dimension, 4번째의 5개의 elements\n",
        "arr1 = np.array([1,2,3,4,5], ndmin = 5)\n",
        "print(arr1)\n",
        "print('shape of array :', arr1.shape)"
      ],
      "metadata": {
        "colab": {
          "base_uri": "https://localhost:8080/"
        },
        "id": "sgv2rNRbB-we",
        "outputId": "da8952f2-5423-47be-e5dd-f034eea24868"
      },
      "execution_count": 81,
      "outputs": [
        {
          "output_type": "stream",
          "name": "stdout",
          "text": [
            "(2, 4)\n",
            "[[[[[1 2 3 4 5]]]]]\n",
            "shape of array : (1, 1, 1, 1, 5)\n"
          ]
        }
      ]
    },
    {
      "cell_type": "markdown",
      "source": [
        "Numpy - Reshaping Arrays"
      ],
      "metadata": {
        "id": "qEnO0r00Ffmx"
      }
    },
    {
      "cell_type": "code",
      "source": [
        "#배열의 모양을 바꿈\n",
        "import numpy as np\n",
        "\n",
        "arr = np.array([1,2,3,4,5,6,7,8,9,10,11,12])\n",
        "\n",
        "#1D -> 2D Array로 바꾸고, 1. 4개의 array, 2. 3개의 elements로 바꿈\n",
        "newarr = arr.reshape(4,3)\n",
        "print(newarr)\n",
        "\n",
        "#1D -> 3D Array로 바꿈 3 array, 2 elements\n",
        "arr1 = np.array([1,2,3,4,5,6,7,8,9,10,11,12])\n",
        "newarr1 = arr1.reshape(2,3,2)\n",
        "print(newarr1)\n",
        "\n",
        "#elements 사이즈에 알맞는 reshape를 하지 않으면 오류가 발생함.\n",
        "\"\"\"\n",
        "arr = np.array([1, 2, 3, 4, 5, 6, 7, 8])\n",
        "\n",
        "newarr = arr.reshape(3, 3)\n",
        "\n",
        "print(newarr)\n",
        "\"\"\"\n",
        "\n",
        "#Copy, View도 가능\n",
        "arr2 = np.array([1,2,3,4,5,6,7,8])\n",
        "newarr2 = arr2.copy()\n",
        "newarr3 = arr2.view()\n",
        "print(newarr2.base)\n",
        "print(newarr3.base)\n",
        "\n",
        "print(arr2.reshape(2,4).base)\n",
        "\n",
        "#Unknown Dimension 중간에 알수없는 차원이 하나있음. 비어있는\n",
        "arr3 = np.array([1,2,3,4,5,6,7,8])\n",
        "newarr3 = arr3.reshape(2,2,-1)\n",
        "print(newarr3)\n",
        "\n",
        "#Flattening - 평탄화. 즉 1D로 바꾸는것\n",
        "arr4 = np.array([[1,2,3],[4,5,6]])\n",
        "newarr4 = arr4.reshape(-1)\n",
        "print(newarr4)"
      ],
      "metadata": {
        "id": "PuAPZ1Y5FiJm",
        "outputId": "9732c7a1-7c1b-4d1a-98fb-dcbf0c02a23c",
        "colab": {
          "base_uri": "https://localhost:8080/"
        }
      },
      "execution_count": 91,
      "outputs": [
        {
          "output_type": "stream",
          "name": "stdout",
          "text": [
            "[[ 1  2  3]\n",
            " [ 4  5  6]\n",
            " [ 7  8  9]\n",
            " [10 11 12]]\n",
            "[[[ 1  2]\n",
            "  [ 3  4]\n",
            "  [ 5  6]]\n",
            "\n",
            " [[ 7  8]\n",
            "  [ 9 10]\n",
            "  [11 12]]]\n",
            "None\n",
            "[1 2 3 4 5 6 7 8]\n",
            "[1 2 3 4 5 6 7 8]\n",
            "[[[1 2]\n",
            "  [3 4]]\n",
            "\n",
            " [[5 6]\n",
            "  [7 8]]]\n",
            "[1 2 3 4 5 6]\n"
          ]
        }
      ]
    },
    {
      "cell_type": "markdown",
      "source": [
        "Numpy - Array Iterating"
      ],
      "metadata": {
        "id": "ylXudpQAIQ08"
      }
    },
    {
      "cell_type": "code",
      "source": [
        "#반복\n",
        "import numpy as np\n",
        "\n",
        "arr = np.array([1,2,3])\n",
        "\n",
        "for x in arr:\n",
        "  print(x)\n",
        "\n",
        "arr1 = np.array([[1,2,3],[4,5,6]])\n",
        "\n",
        "for x in arr1:\n",
        "  print(x)\n",
        "\n",
        "#2D = 1번째 반복문 - 배열 갯수, 2번째 반복문 배열 내 elements 반\n",
        "for y in arr1:\n",
        "  for z in y:\n",
        "    print(z)\n",
        "\n",
        "arr2 = np.array([[[1,2,3],[4,5,6]],[[7,8,9],[10,11,12]]])\n",
        "\n",
        "for x in arr2:\n",
        "  print(x)\n",
        "\n",
        "for x in arr2:\n",
        "  for y in x:\n",
        "    print(y)\n",
        "\n",
        "for x in arr2:\n",
        "  for y in x:\n",
        "    for z in y:\n",
        "      print(z)\n",
        "\n",
        "#Iterating Arrays Using nditer() -"
      ],
      "metadata": {
        "id": "EDOmhwTeHWlS",
        "outputId": "be538d36-3868-4ec5-96e9-2803b3abaee5",
        "colab": {
          "base_uri": "https://localhost:8080/"
        }
      },
      "execution_count": 99,
      "outputs": [
        {
          "output_type": "stream",
          "name": "stdout",
          "text": [
            "1\n",
            "2\n",
            "3\n",
            "[1 2 3]\n",
            "[4 5 6]\n",
            "1\n",
            "2\n",
            "3\n",
            "4\n",
            "5\n",
            "6\n",
            "[[1 2 3]\n",
            " [4 5 6]]\n",
            "[[ 7  8  9]\n",
            " [10 11 12]]\n",
            "[1 2 3]\n",
            "[4 5 6]\n",
            "[7 8 9]\n",
            "[10 11 12]\n",
            "1\n",
            "2\n",
            "3\n",
            "4\n",
            "5\n",
            "6\n",
            "7\n",
            "8\n",
            "9\n",
            "10\n",
            "11\n",
            "12\n"
          ]
        }
      ]
    }
  ],
  "metadata": {
    "colab": {
      "name": "Colab 시작하기",
      "toc_visible": true,
      "provenance": [],
      "include_colab_link": true
    },
    "kernelspec": {
      "display_name": "Python 3",
      "name": "python3"
    }
  },
  "nbformat": 4,
  "nbformat_minor": 0
}
