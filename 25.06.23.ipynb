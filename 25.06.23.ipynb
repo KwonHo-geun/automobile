{
  "cells": [
    {
      "cell_type": "markdown",
      "metadata": {
        "id": "view-in-github",
        "colab_type": "text"
      },
      "source": [
        "<a href=\"https://colab.research.google.com/github/KwonHo-geun/automobile/blob/main/25.06.23.ipynb\" target=\"_parent\"><img src=\"https://colab.research.google.com/assets/colab-badge.svg\" alt=\"Open In Colab\"/></a>"
      ]
    },
    {
      "cell_type": "code",
      "source": [
        "x = 26\n",
        "y = \"hogeun\"\n",
        "print(x)\n",
        "print(y)"
      ],
      "metadata": {
        "colab": {
          "base_uri": "https://localhost:8080/"
        },
        "id": "GyOm1fiYeAAv",
        "outputId": "04f34ef1-ceb7-4bdc-cc06-33d9c29b71f0"
      },
      "execution_count": null,
      "outputs": [
        {
          "output_type": "stream",
          "name": "stdout",
          "text": [
            "26\n",
            "hogeun\n"
          ]
        }
      ]
    },
    {
      "cell_type": "code",
      "source": [
        "if 5 > 2:\n",
        "  print(\"Five is greater than two!\")"
      ],
      "metadata": {
        "colab": {
          "base_uri": "https://localhost:8080/"
        },
        "id": "-RDBqAcOgudG",
        "outputId": "33abbcab-a355-45d2-e89b-8460052d9dd0"
      },
      "execution_count": null,
      "outputs": [
        {
          "output_type": "stream",
          "name": "stdout",
          "text": [
            "Five is greater than two!\n"
          ]
        }
      ]
    },
    {
      "cell_type": "code",
      "source": [
        "if 5 > 2:\n",
        "  print(\"Five is greater than two!\")\n",
        "  print(\"Five is greater thanb two!\")"
      ],
      "metadata": {
        "colab": {
          "base_uri": "https://localhost:8080/"
        },
        "id": "ohVLu0Xgg3aB",
        "outputId": "157c6df6-6488-44de-8d8f-5181b9655df5"
      },
      "execution_count": null,
      "outputs": [
        {
          "output_type": "stream",
          "name": "stdout",
          "text": [
            "Five is greater than two!\n",
            "Five is greater thanb two!\n"
          ]
        }
      ]
    },
    {
      "cell_type": "code",
      "source": [
        "fruits = [\"apple\", \"banana\", \"cherry\"]\n",
        "x, y, z = fruits\n",
        "print(x)\n",
        "print(y)\n",
        "print(z)"
      ],
      "metadata": {
        "colab": {
          "base_uri": "https://localhost:8080/"
        },
        "id": "G6AO50Q8hjxP",
        "outputId": "ff8c3bfc-ce08-41d7-aa50-4fb63419abb7"
      },
      "execution_count": null,
      "outputs": [
        {
          "output_type": "stream",
          "name": "stdout",
          "text": [
            "apple\n",
            "banana\n",
            "cherry\n"
          ]
        }
      ]
    },
    {
      "cell_type": "code",
      "source": [
        "x = y = z = \"Orange\"\n",
        "print(x)\n",
        "print(y)\n",
        "print(z)"
      ],
      "metadata": {
        "colab": {
          "base_uri": "https://localhost:8080/"
        },
        "id": "4cT62RmxjHal",
        "outputId": "9a298bab-8e82-4d78-9337-25207f1e1bca"
      },
      "execution_count": null,
      "outputs": [
        {
          "output_type": "stream",
          "name": "stdout",
          "text": [
            "Orange\n",
            "Orange\n",
            "Orange\n"
          ]
        }
      ]
    },
    {
      "cell_type": "code",
      "source": [
        "x = \"Python\"\n",
        "y = \"is\"\n",
        "z = \"awesome\"\n",
        "print(x, y, z)\n",
        "print(x + y + z)\n",
        "q = 5\n",
        "w = 10\n",
        "print(q + w)"
      ],
      "metadata": {
        "colab": {
          "base_uri": "https://localhost:8080/"
        },
        "id": "RfMBdFMujId_",
        "outputId": "0bbb1f92-f791-4b1b-dfc0-d62a0da8b9e0"
      },
      "execution_count": null,
      "outputs": [
        {
          "output_type": "stream",
          "name": "stdout",
          "text": [
            "Python is awesome\n",
            "Pythonisawesome\n",
            "15\n"
          ]
        }
      ]
    },
    {
      "cell_type": "code",
      "source": [
        "x = \"awesome\"\n",
        "\n",
        "def myfunc():\n",
        "  print(\"Python is \" + x)\n",
        "\n",
        "myfunc()"
      ],
      "metadata": {
        "colab": {
          "base_uri": "https://localhost:8080/"
        },
        "id": "FMw8NTEwjpIw",
        "outputId": "38852d8d-52bd-4bf1-8582-b1074dd5856e"
      },
      "execution_count": null,
      "outputs": [
        {
          "output_type": "stream",
          "name": "stdout",
          "text": [
            "Python is awesome\n"
          ]
        }
      ]
    },
    {
      "cell_type": "code",
      "source": [
        "x = \"awesome\"\n",
        "\n",
        "def myfunc():\n",
        "  x = \"fantastic\"\n",
        "  print(\"Python is \" + x)\n",
        "\n",
        "myfunc()\n",
        "\n",
        "print(\"Python is \" + x)"
      ],
      "metadata": {
        "colab": {
          "base_uri": "https://localhost:8080/"
        },
        "id": "ptrrErf0j6Rb",
        "outputId": "feba1500-b8ee-4200-f942-14c244e2f8cd"
      },
      "execution_count": null,
      "outputs": [
        {
          "output_type": "stream",
          "name": "stdout",
          "text": [
            "Python is fantastic\n",
            "Python is awesome\n"
          ]
        }
      ]
    },
    {
      "cell_type": "code",
      "source": [
        "x =  \"Hello World\"\n",
        "y = 20\n",
        "z = 20.5\n",
        "w = 1j\n",
        "e = [\"apple\", \"banana\", \"cherry\"]\n",
        "r= (\"apple\", \"banana\", \"cherry\")\n",
        "t = range(6)\n",
        "y = {\"name\" : \"john\" , \"age\" : \" 36\"}\n",
        "u = {\"name\",\"john\",\"age\",\" 36\"}\n",
        "i = frozenset({\"apple\", \"banana\", \"cherry\"})\n",
        "o = True\n",
        "p = b\"Hello\"\n",
        "a = bytearray(5)\n",
        "s = memoryview(bytes(5))\n",
        "d =  None\n",
        "\n",
        "print(type(x))\n",
        "print(type(y))\n",
        "print(type(z))\n",
        "print(type(w))\n",
        "print(type(e))\n",
        "print(type(r))\n",
        "print(type(t))\n",
        "print(type(y))\n",
        "print(type(u))\n",
        "print(type(i))\n",
        "print(type(o))\n",
        "print(type(p))\n",
        "print(type(a))\n",
        "print(type(s))\n",
        "print(type(d))"
      ],
      "metadata": {
        "colab": {
          "base_uri": "https://localhost:8080/"
        },
        "id": "-lrxq_rxkKet",
        "outputId": "1b4bb46f-beff-482c-a62d-40c4fdf70c55"
      },
      "execution_count": null,
      "outputs": [
        {
          "output_type": "stream",
          "name": "stdout",
          "text": [
            "<class 'str'>\n",
            "<class 'dict'>\n",
            "<class 'float'>\n",
            "<class 'complex'>\n",
            "<class 'list'>\n",
            "<class 'tuple'>\n",
            "<class 'range'>\n",
            "<class 'dict'>\n",
            "<class 'set'>\n",
            "<class 'frozenset'>\n",
            "<class 'bool'>\n",
            "<class 'bytes'>\n",
            "<class 'bytearray'>\n",
            "<class 'memoryview'>\n",
            "<class 'NoneType'>\n"
          ]
        }
      ]
    },
    {
      "cell_type": "code",
      "source": [
        "x = -35.29\n",
        "print(x)\n",
        "print(type(x))\n",
        "x = int(1)\n",
        "y = int(2.9)\n",
        "z = int(\"3\")\n",
        "print(x)\n",
        "print(y)\n",
        "print(z)"
      ],
      "metadata": {
        "colab": {
          "base_uri": "https://localhost:8080/"
        },
        "id": "vX67FHqQnIXk",
        "outputId": "9da30adb-733c-429c-f111-4e0f9027836b"
      },
      "execution_count": null,
      "outputs": [
        {
          "output_type": "stream",
          "name": "stdout",
          "text": [
            "-35.29\n",
            "<class 'float'>\n"
          ]
        }
      ]
    },
    {
      "cell_type": "code",
      "source": [
        "x = float(1)\n",
        "y = float(2.8)\n",
        "z = float(\"3\")\n",
        "w = float(\"5.2\")\n",
        "print(x)\n",
        "print(y)\n",
        "print(z)\n",
        "print(w)"
      ],
      "metadata": {
        "colab": {
          "base_uri": "https://localhost:8080/"
        },
        "id": "UNqz-mEWnTOZ",
        "outputId": "f698cfad-2420-4e3b-9eba-ead799dfa079"
      },
      "execution_count": null,
      "outputs": [
        {
          "output_type": "stream",
          "name": "stdout",
          "text": [
            "1.0\n",
            "2.8\n",
            "3.0\n",
            "5.2\n"
          ]
        }
      ]
    },
    {
      "cell_type": "code",
      "source": [
        "a = \"\"\"Lore ipsum dolor sit amet,\n",
        "consectetur adipiscing elit,\n",
        "sed do eiusmod tempor incididunt ut labore et dolore magna aliqua.\"\"\"\n",
        "print(a)\n",
        "a = '''lore Ipsum dolor sit amet,\n",
        "consectetur adipiscing dlit, sed do eiusmod tempor incididunt\n",
        "ut labore et dolore magna aliqua.'''\n",
        "print(a)"
      ],
      "metadata": {
        "colab": {
          "base_uri": "https://localhost:8080/"
        },
        "id": "_ycdWVQSndZo",
        "outputId": "bd3cc02d-68d0-409f-bd6a-c6a8b6da5551"
      },
      "execution_count": null,
      "outputs": [
        {
          "output_type": "stream",
          "name": "stdout",
          "text": [
            "Lore ipsum dolor sit amet,\n",
            "consectetur adipiscing elit,\n",
            "sed do eiusmod tempor incididunt ut labore et dolore magna aliqua.\n",
            "lore Ipsum dolor sit amet,\n",
            "consectetur adipiscing dlit, sed do eiusmod tempor incididunt\n",
            "ut labore et dolore magna aliqua.\n"
          ]
        }
      ]
    },
    {
      "cell_type": "code",
      "source": [
        "b = \"Hello World\"\n",
        "print(b[2:5])\n",
        "print(b[:5])\n",
        "print(b[2:])\n",
        "print(b[-5:-2])"
      ],
      "metadata": {
        "colab": {
          "base_uri": "https://localhost:8080/"
        },
        "id": "_bmzIJ7moTe2",
        "outputId": "75186908-2b17-487e-8c48-4427eee545e0"
      },
      "execution_count": null,
      "outputs": [
        {
          "output_type": "stream",
          "name": "stdout",
          "text": [
            "llo\n",
            "Hello\n",
            "llo World\n",
            "Wor\n"
          ]
        }
      ]
    },
    {
      "cell_type": "code",
      "source": [
        "a = \"Hello world\"\n",
        "print(a.upper())\n",
        "print(a.lower())\n",
        "print(a.strip())"
      ],
      "metadata": {
        "colab": {
          "base_uri": "https://localhost:8080/"
        },
        "id": "HH-01a-0pC-D",
        "outputId": "8e721c5e-1f0e-411f-bd4d-4f42c9d2e3a9"
      },
      "execution_count": null,
      "outputs": [
        {
          "output_type": "stream",
          "name": "stdout",
          "text": [
            "HELLO WORLD\n",
            "hello world\n",
            "Hello world\n"
          ]
        }
      ]
    },
    {
      "cell_type": "code",
      "source": [
        "a = \"Hello\"\n",
        "b = \"World\"\n",
        "c = a + b\n",
        "print(c)\n",
        "\n",
        "c = a + \" \" + b\n",
        "print(c)"
      ],
      "metadata": {
        "colab": {
          "base_uri": "https://localhost:8080/"
        },
        "id": "uzm8DZ2nrrd2",
        "outputId": "a50521d9-398b-4831-8aa8-f1acfbb33903"
      },
      "execution_count": null,
      "outputs": [
        {
          "output_type": "stream",
          "name": "stdout",
          "text": [
            "HelloWorld\n",
            "Hello World\n"
          ]
        }
      ]
    },
    {
      "cell_type": "code",
      "source": [
        "age = 26\n",
        "txt = f\"My name is Hogeun, I am {age}\"\n",
        "print(txt)\n",
        "price = 59\n",
        "txt = f\"The Price is {price} dollars\"\n",
        "print(txt)\n",
        "txt = f\"The price is {20 * 59} dollars\"\n",
        "print(txt)"
      ],
      "metadata": {
        "colab": {
          "base_uri": "https://localhost:8080/"
        },
        "id": "ifnG6qPar4q7",
        "outputId": "275f68a4-cf85-42eb-c075-37f87718717d"
      },
      "execution_count": null,
      "outputs": [
        {
          "output_type": "stream",
          "name": "stdout",
          "text": [
            "My name is Hogeun, I am 26\n",
            "The Price is 59 dollars\n",
            "The price is 1180 dollars\n"
          ]
        }
      ]
    },
    {
      "cell_type": "code",
      "source": [
        "txt = \"We are the so-called \\\"Vikings\\\" from the north.\"\n",
        "print(txt)\n",
        "txt = \"We are the so-called \\'Vikings\\' from the north.\"\n",
        "print(txt)\n",
        "txt = \"We are the so-called \\\\Vikings\\\\ from the north.\"\n",
        "print(txt)\n",
        "txt = \"We are the so-called \\nVikings\\n from the north.\"\n",
        "print(txt)\n",
        "#Carriage Return\n",
        "txt = \"We are the so-called \\rVikings\\r from the north.\"\n",
        "print(txt)\n",
        "txt = \"We are the so-called \\tVikings\\t from the north.\"\n",
        "print(txt)\n",
        "txt = \"We are the so-called \\bVikings\\b from the north.\"\n",
        "print(txt)\n",
        "txt = \"We are the so-called \\fVikings\\f from the north.\"\n",
        "print(txt)"
      ],
      "metadata": {
        "colab": {
          "base_uri": "https://localhost:8080/"
        },
        "id": "Cja2XtzxsZ2d",
        "outputId": "f64d6405-4c29-4ed8-a8b2-4261c1976cc5"
      },
      "execution_count": null,
      "outputs": [
        {
          "output_type": "stream",
          "name": "stdout",
          "text": [
            "We are the so-called \"Vikings\" from the north.\n",
            "We are the so-called 'Vikings' from the north.\n",
            "We are the so-called \\Vikings\\ from the north.\n",
            "We are the so-called \n",
            "Vikings\n",
            " from the north.\n",
            "We are the so-called \rVikings\r from the north.\n",
            "We are the so-called \tVikings\t from the north.\n",
            "We are the so-called \bVikings\b from the north.\n",
            "We are the so-called \fVikings\f from the north.\n",
            "We are the so-called \\oooVikings from the north.\n"
          ]
        }
      ]
    },
    {
      "cell_type": "code",
      "source": [
        "txt = \"We are the so-called Vikings from the north.\"\n",
        "print(txt.capitalize())\n",
        "print(txt.casefold())\n",
        "print(txt.center(30))\n",
        "print(txt.count(a))\n",
        "print(txt.encode())\n",
        "print(txt.endswith(\"north.\"))\n",
        "print(txt.find(\"north\"))\n",
        "print(txt.index(\"north\"))\n",
        "print(txt.isalnum())\n",
        "print(txt.isalpha())\n",
        "print(txt.isdecimal())\n",
        "print(txt.isdigit())\n",
        "print(txt.isidentifier())\n",
        "print(txt.islower())\n",
        "print(txt.isnumeric())\n",
        "print(txt.isprintable())\n",
        "print(txt.isspace())"
      ],
      "metadata": {
        "colab": {
          "base_uri": "https://localhost:8080/"
        },
        "id": "mWyaePqJthQq",
        "outputId": "b7f74430-6122-4bc0-c2c1-2f42d92dbd2e"
      },
      "execution_count": null,
      "outputs": [
        {
          "output_type": "stream",
          "name": "stdout",
          "text": [
            "We are the so-called vikings from the north.\n",
            "we are the so-called vikings from the north.\n",
            "We are the so-called Vikings from the north.\n",
            "0\n",
            "b'We are the so-called Vikings from the north.'\n",
            "True\n",
            "38\n",
            "38\n",
            "False\n",
            "False\n",
            "False\n",
            "False\n",
            "False\n",
            "False\n",
            "False\n",
            "True\n",
            "False\n"
          ]
        }
      ]
    },
    {
      "cell_type": "code",
      "source": [
        "print(10 > 9)\n",
        "print(10 == 9)\n",
        "print(10 < 9)\n",
        "\n",
        "a = 200\n",
        "b = 33\n",
        "\n",
        "if b > a:\n",
        "  print(\"b is greater than a\")\n",
        "else:\n",
        "  print(\"b is not greater than a\")\n",
        "\n",
        "print(bool(\"Hello\"))\n",
        "print(bool(15))"
      ],
      "metadata": {
        "colab": {
          "base_uri": "https://localhost:8080/"
        },
        "id": "d2svF5dkyV_G",
        "outputId": "9cb19ccf-f3ae-47f7-b21f-c45639d67ba2"
      },
      "execution_count": null,
      "outputs": [
        {
          "output_type": "stream",
          "name": "stdout",
          "text": [
            "True\n",
            "False\n",
            "False\n",
            "b is not greater than a\n",
            "True\n",
            "True\n"
          ]
        }
      ]
    },
    {
      "cell_type": "code",
      "source": [
        "x = 3\n",
        "print(x)\n",
        "x += 3\n",
        "print(x)\n",
        "x -= 3\n",
        "print(x)\n",
        "x *= 3\n",
        "print(x)\n",
        "x /= 3\n",
        "print(x)\n",
        "x %= 3\n",
        "print(x)\n",
        "x = 3\n",
        "x //= 3\n",
        "print(x)\n",
        "x = 3\n",
        "x **= 3\n",
        "print(x)\n",
        "x &= 3\n",
        "print(x)\n",
        "x |= 3\n",
        "print(x)\n",
        "x ^= 3\n",
        "print(x)"
      ],
      "metadata": {
        "colab": {
          "base_uri": "https://localhost:8080/"
        },
        "id": "ba1sGe72zfOn",
        "outputId": "379293f0-c7f0-4631-bd15-8d14bfb66bfd"
      },
      "execution_count": null,
      "outputs": [
        {
          "output_type": "stream",
          "name": "stdout",
          "text": [
            "3\n",
            "6\n",
            "3\n",
            "9\n",
            "3.0\n",
            "0.0\n",
            "1\n",
            "27\n",
            "3\n",
            "3\n",
            "0\n"
          ]
        }
      ]
    },
    {
      "cell_type": "markdown",
      "source": [
        "List"
      ],
      "metadata": {
        "id": "6mZSK-m1FRQk"
      }
    },
    {
      "cell_type": "code",
      "source": [
        "mylist = [\"apple\", \"banana\", \"cherry\"]\n",
        "print(mylist)\n",
        "print(len(mylist))\n",
        "list1 = [\"abc\", 34, True, 40, \"male\"]\n",
        "print(type(list1))\n",
        "thislist = list((\"apple\", \"banana\", \"cherry\"))\n",
        "print(thislist)\n",
        "print(type(thislist))\n",
        "\n",
        "print(mylist[-1])\n",
        "thislist1 = [\"apple\", \"banana\", \"cherry\", \"orange\", \"kwi\", \"melon\", \"mango\"] #2,3,4만 return\n",
        "print(thislist1[2:5])\n",
        "print(thislist1[:4])\n",
        "print(thislist1[2:])\n",
        "print(thislist1[-4:-1])\n",
        "if \"kwi\" in thislist1:\n",
        "  print(\"Yes, 'kwi' is in the fruits list\")\n",
        "\n",
        "thislist1[1:3] = [\"balckcurrant\", \"watermelon\"]\n",
        "print(thislist1)\n",
        "\n",
        "thislist2 = [\"apple\", \"banana\", \"cherry\"]\n",
        "thislist2[1:3] = [\"watermelon\"]\n",
        "print(thislist2)\n",
        "\n",
        "thislist2 = [\"apple\", \"banana\", \"cherry\"]\n",
        "thislist2.append(\"orange\")\n",
        "print(thislist2)\n",
        "thislist2.insert(1, \"orange\")\n",
        "print(thislist2)\n",
        "\n",
        "#extends\n",
        "thislist2.extend(thislist1)\n",
        "print(thislist2)\n",
        "\n",
        "thislist2 = [\"apple\", \"banana\", \"cherry\"]\n",
        "thistuple = (\"kiwi\", \"orange\")\n",
        "thislist2.extend(thistuple)\n",
        "print(thislist2)\n",
        "\n",
        "#remove\n",
        "thislist = [\"apple\", \"banana\", \"cherry\"]\n",
        "thislist.remove(\"apple\")\n",
        "print(thislist)\n",
        "\n",
        "thislist.pop(1)\n",
        "print(thislist)\n",
        "\n",
        "thislist = [\"apple\", \"banana\", \"cherry\"]\n",
        "del thislist[0]\n",
        "print(thislist)\n",
        "\n",
        "thislist = [\"apple\", \"banana\", \"cherry\"]\n",
        "thislist.clear()\n",
        "print(thislist)\n",
        "\n",
        "#range\n",
        "thislist = [\"apple\", \"banana\", \"cherry\"]\n",
        "for x in thislist:\n",
        "  print(x)\n",
        "for i in range(len(thislist)):\n",
        "  print(thislist[i])\n",
        "\n",
        "i = 0\n",
        "while i < len(thislist):\n",
        "  print(thislist[i])\n",
        "  i = i + 1\n",
        "\n",
        "#Comprehension\n",
        "fruits = [\"apple\", \"mango\", \"banana\", \"cherry\", \"kiwi\"]\n",
        "newlist = []\n",
        "\n",
        "for x in fruits:\n",
        "  if \"a\" in x:\n",
        "    newlist.append(x)\n",
        "print(newlist)\n",
        "\n",
        "newlist = [x for x in fruits if x != \"apple\"]\n",
        "print(newlist)\n",
        "\n",
        "newlist = [x for x in fruits]\n",
        "print(newlist)\n",
        "\n",
        "newlist = [x for x in range(10)]\n",
        "print(newlist)\n",
        "\n",
        "newlist = [x for x in range(10) if x < 5]\n",
        "print(newlist)\n",
        "\n",
        "newlist = [x.upper() for x in fruits]\n",
        "print(newlist)\n",
        "\n",
        "newlist = ['hello' for x in fruits]\n",
        "print(newlist)\n",
        "\n",
        "newlist = [x if x != \"banana\" else \"orange\" for x in fruits]\n",
        "print(newlist)"
      ],
      "metadata": {
        "id": "wzqzKk5VFN-G",
        "outputId": "2f0a64bb-09a6-4a17-b198-f5be1977175f",
        "colab": {
          "base_uri": "https://localhost:8080/"
        }
      },
      "execution_count": null,
      "outputs": [
        {
          "output_type": "stream",
          "name": "stdout",
          "text": [
            "['apple', 'banana', 'cherry']\n",
            "3\n",
            "<class 'list'>\n",
            "['apple', 'banana', 'cherry']\n",
            "<class 'list'>\n",
            "cherry\n",
            "['cherry', 'orange', 'kwi']\n",
            "['apple', 'banana', 'cherry', 'orange']\n",
            "['cherry', 'orange', 'kwi', 'melon', 'mango']\n",
            "['orange', 'kwi', 'melon']\n",
            "Yes, 'kwi' is in the fruits list\n",
            "['apple', 'balckcurrant', 'watermelon', 'orange', 'kwi', 'melon', 'mango']\n",
            "['apple', 'watermelon']\n",
            "['apple', 'banana', 'cherry', 'orange']\n",
            "['apple', 'orange', 'banana', 'cherry', 'orange']\n",
            "['apple', 'orange', 'banana', 'cherry', 'orange', 'apple', 'balckcurrant', 'watermelon', 'orange', 'kwi', 'melon', 'mango']\n",
            "['apple', 'banana', 'cherry', 'kiwi', 'orange']\n",
            "['banana', 'cherry']\n",
            "['banana']\n",
            "['banana', 'cherry']\n",
            "[]\n",
            "apple\n",
            "banana\n",
            "cherry\n",
            "apple\n",
            "banana\n",
            "cherry\n",
            "apple\n",
            "banana\n",
            "cherry\n",
            "['apple', 'mango', 'banana']\n",
            "['mango', 'banana', 'cherry', 'kiwi']\n",
            "['apple', 'mango', 'banana', 'cherry', 'kiwi']\n",
            "[0, 1, 2, 3, 4, 5, 6, 7, 8, 9]\n",
            "[0, 1, 2, 3, 4]\n",
            "['APPLE', 'MANGO', 'BANANA', 'CHERRY', 'KIWI']\n",
            "['hello', 'hello', 'hello', 'hello', 'hello']\n",
            "['apple', 'mango', 'orange', 'cherry', 'kiwi']\n"
          ]
        }
      ]
    },
    {
      "cell_type": "markdown",
      "source": [
        "SortList"
      ],
      "metadata": {
        "id": "pR8wN11SSFjU"
      }
    },
    {
      "cell_type": "code",
      "source": [
        "thislist = [\"orange\", \"mango\", \"kiwi\", \"pineapple\", \"banana\"]\n",
        "thislist.sort()\n",
        "print(thislist)\n",
        "thislist.sort(reverse = True)\n",
        "print(thislist)\n",
        "\n",
        "thislist1 = [100, 50, 65, 82, 23]\n",
        "thislist1.sort() #오름차순\n",
        "print(thislist1) #내림차순\n",
        "thislist1.sort(reverse = True)\n",
        "print(thislist1)\n",
        "\n",
        "\n",
        "def myfunc(n):\n",
        "  return abs(n - 50) #n - 50을 해서 가장 작은값이 첫번째로 제일 큰값이 마지막으로 정렬\n",
        "\n",
        "thislist1.sort(key = myfunc)\n",
        "print(thislist1)\n",
        "\n",
        "thislist = [\"banana\", \"Orange\", \"Kiwi\", \"cherry\"]\n",
        "thislist.sort(key = str.lower)\n",
        "thislist.reverse()\n",
        "print(thislist)"
      ],
      "metadata": {
        "id": "XfdSnAkzGIyv",
        "outputId": "f29730d0-7688-4b47-c9c2-34a8cb9109a8",
        "colab": {
          "base_uri": "https://localhost:8080/"
        }
      },
      "execution_count": null,
      "outputs": [
        {
          "output_type": "stream",
          "name": "stdout",
          "text": [
            "['banana', 'kiwi', 'mango', 'orange', 'pineapple']\n",
            "['pineapple', 'orange', 'mango', 'kiwi', 'banana']\n",
            "[23, 50, 65, 82, 100]\n",
            "[100, 82, 65, 50, 23]\n",
            "[50, 65, 23, 82, 100]\n",
            "['Orange', 'Kiwi', 'cherry', 'banana']\n"
          ]
        }
      ]
    },
    {
      "cell_type": "markdown",
      "source": [
        "CopyLIst"
      ],
      "metadata": {
        "id": "wve4l-kqUEd_"
      }
    },
    {
      "cell_type": "code",
      "source": [
        "thislist = [\"apple\", \"banana\", \"cherry\"]\n",
        "mylist = thislist.copy()\n",
        "print(mylist)\n",
        "\n",
        "mylist = list(thislist)\n",
        "print(mylist)\n",
        "\n",
        "#joinList\n",
        "list1 = [\"a\", \"b\", \"c\"]\n",
        "list2 = [1,2,3]\n",
        "list3 = list1 + list2\n",
        "print(list3)\n",
        "\n",
        "for x in list2:\n",
        "  list1.append(x)\n",
        "print(list1)\n",
        "\n",
        "list1.extend(list2)\n",
        "print(list1)\n",
        "\n"
      ],
      "metadata": {
        "id": "-PAFrKIgUGe6",
        "outputId": "fc7d4e90-8547-4875-e00d-af72aa7e7836",
        "colab": {
          "base_uri": "https://localhost:8080/"
        }
      },
      "execution_count": null,
      "outputs": [
        {
          "output_type": "stream",
          "name": "stdout",
          "text": [
            "['apple', 'banana', 'cherry']\n",
            "['apple', 'banana', 'cherry']\n",
            "['a', 'b', 'c', 1, 2, 3]\n",
            "['a', 'b', 'c', 1, 2, 3]\n",
            "['a', 'b', 'c', 1, 2, 3, 1, 2, 3]\n"
          ]
        }
      ]
    },
    {
      "cell_type": "markdown",
      "source": [
        "25.06.25 - tuple"
      ],
      "metadata": {
        "id": "eN6pa4-gYcTf"
      }
    },
    {
      "cell_type": "code",
      "source": [
        "thistuple = (\"apple\", \"banana\", \"cherry\")\n",
        "print(thistuple)\n",
        "print(len(thistuple))\n",
        "\n",
        "thistuple1 = (\"apple\",)\n",
        "print(type(thistuple1))\n",
        "\n",
        "tuple1 = (\"apple\", \"banana\", \"cherry\")\n",
        "tuple2 = (1,4,6,7,8)\n",
        "tuple3 = (True, False, False)\n",
        "\n",
        "print(tuple1)\n",
        "print(tuple2)\n",
        "print(tuple3)\n",
        "\n",
        "tuple4 = (\"abc\", 34, True, 40, \"male\")\n",
        "print(type(tuple4))\n",
        "print(tuple4[1])\n",
        "print(tuple4[-1])\n",
        "\n",
        "#Access\n",
        "tuple5 = (\"apple\", \"banana\", \"cherry\", \"orange\", \"kiwi\",\"melon\",\"mango\")\n",
        "print(tuple5[2:5])\n",
        "print(tuple5[2:])\n",
        "print(tuple5[-4:-1])\n",
        "if \"apple\" in tuple5:\n",
        "  print(\"OK\")\n",
        "\n",
        "#Update\n",
        "x = (\"apple\", \"banana\", \"cherry\")\n",
        "y = list(x)\n",
        "print(type(y))\n",
        "y[1] = \"kiwi\"\n",
        "x = tuple(y)\n",
        "print(x)\n",
        "print(type(x))\n",
        "#Add\n",
        "tuple6 = (\"apple\", \"banana\", \"cherry\")\n",
        "y = list(tuple6)\n",
        "y.append(\"orange\")\n",
        "print(y)\n",
        "y = (\"fine\", )\n",
        "tuple6 += y\n",
        "print(tuple6)\n",
        "# Remove\n",
        "tuple7 = (\"고지식\", \"고집\",\"번지르르\")\n",
        "y = list(tuple7)\n",
        "y.remove(\"번지르르\")\n",
        "print(y)\n",
        "del tuple7\n",
        "#print(tuple7)\n",
        "\n",
        "fruits = (\"apple\", \"banana\", \"cherry\")\n",
        "(green, yellow, red) = fruits\n",
        "print(green)\n",
        "print(yellow)\n",
        "print(red)\n",
        "\n",
        "#Unpack\n",
        "fruits = (\"apple\", \"banana\", \"cherry\", \"strawberry\", \"raspberry\")\n",
        "(green, yellow, *red) = fruits #마지막 리스트 추가\n",
        "print(green)\n",
        "print(yellow)\n",
        "print(red)\n",
        "\n",
        "(green, *tropic, red) = fruits #중간에 리스트\n",
        "print(green)\n",
        "print(tropic)\n",
        "print(red)\n",
        "\n",
        "#Loop\n",
        "fruits = (\"apple\", \"banana\", \"cherry\", \"strawberry\", \"raspberry\")\n",
        "for x in fruits:\n",
        "  print(x)\n",
        "\n",
        "for y in range(len(fruits)):\n",
        "  print(fruits[y])\n",
        "\n",
        "z = 0\n",
        "while z < len(fruits):\n",
        "  print(fruits[z])\n",
        "  z = z + 1\n",
        "\n",
        "tuple8 = (\"1\", \"2\", \"3\")\n",
        "tuple9 = (4,5,6)\n",
        "tuple10 = tuple8 + tuple9\n",
        "print(tuple10)\n",
        "\n",
        "multuple = tuple8 * 2\n",
        "print(multuple)\n",
        "print(tuple9.count(5))\n",
        "print(tuple9.index(5))"
      ],
      "metadata": {
        "id": "1p8eySDAuHTm",
        "colab": {
          "base_uri": "https://localhost:8080/"
        },
        "outputId": "28606ea8-17c5-4405-e72f-9301589f74a1"
      },
      "execution_count": null,
      "outputs": [
        {
          "output_type": "stream",
          "name": "stdout",
          "text": [
            "('apple', 'banana', 'cherry')\n",
            "3\n",
            "<class 'tuple'>\n",
            "('apple', 'banana', 'cherry')\n",
            "(1, 4, 6, 7, 8)\n",
            "(True, False, False)\n",
            "<class 'tuple'>\n",
            "34\n",
            "male\n",
            "('cherry', 'orange', 'kiwi')\n",
            "('cherry', 'orange', 'kiwi', 'melon', 'mango')\n",
            "('orange', 'kiwi', 'melon')\n",
            "OK\n",
            "<class 'list'>\n",
            "('apple', 'kiwi', 'cherry')\n",
            "<class 'tuple'>\n",
            "['apple', 'banana', 'cherry', 'orange']\n",
            "('apple', 'banana', 'cherry', 'fine')\n",
            "['고지식', '고집']\n",
            "apple\n",
            "banana\n",
            "cherry\n",
            "apple\n",
            "banana\n",
            "['cherry', 'strawberry', 'raspberry']\n",
            "apple\n",
            "['banana', 'cherry', 'strawberry']\n",
            "raspberry\n",
            "apple\n",
            "banana\n",
            "cherry\n",
            "strawberry\n",
            "raspberry\n",
            "apple\n",
            "banana\n",
            "cherry\n",
            "strawberry\n",
            "raspberry\n",
            "apple\n",
            "banana\n",
            "cherry\n",
            "strawberry\n",
            "raspberry\n",
            "('1', '2', '3', 4, 5, 6)\n",
            "('1', '2', '3', '1', '2', '3')\n",
            "1\n",
            "1\n"
          ]
        }
      ]
    },
    {
      "cell_type": "markdown",
      "source": [
        "Set"
      ],
      "metadata": {
        "id": "30J-Dg_77DcQ"
      }
    },
    {
      "cell_type": "code",
      "source": [
        "thisiset = {\"hoseo\",\"univercity\",\"holy\"}\n",
        "print(thisiset)\n",
        "print(len(thisiset))\n",
        "thisiset1 = {\"apple\", \"banana\", \"cherry\", False, True, 0}\n",
        "print(thisiset1)\n",
        "\n",
        "set1 = {\"apple\", \"banana\", \"cherry\"}\n",
        "set2 = {1,5,7,9,4}\n",
        "set3 = {True, False, False}\n",
        "print(set1)\n",
        "print(set2)\n",
        "print(set3)\n",
        "print(type(set2))\n",
        "\n",
        "for sese in set2:\n",
        "  print(sese)\n",
        "\n",
        "print(\"banana\" in set1)\n",
        "\n",
        "set1.add(\"orange\")\n",
        "print(set1)\n",
        "\n",
        "thisiset.update(set2)\n",
        "print(thisiset)\n",
        "\n",
        "thisiset2 = {\"ppap\", \"upda\", \"bounderi\"}\n",
        "mylist = [\"apple\", \"banana\"]\n",
        "\n",
        "thisiset2.update(mylist)\n",
        "print(thisiset2)\n",
        "\n",
        "#Remove\n",
        "thisiset2.remove(\"ppap\")\n",
        "print(thisiset2)\n",
        "\n",
        "thisiset2.discard(\"upda\")\n",
        "print(thisiset2)\n",
        "\n",
        "x = thisiset2.pop()\n",
        "print(thisiset2)\n",
        "\n",
        "thisiset3 = {\"apple\", \"banana\", \"cherry\"}\n",
        "thisiset3.clear()\n",
        "print(thisiset3)\n",
        "\n",
        "thisiset4 = {\"apple\", \"banana\", \"cherry\"}\n",
        "del thisiset4\n",
        "#print(thisiset4)\n",
        "\n",
        "#Loop\n",
        "thisiset5 = {\"범죄\",\"심리\",\"연구\"}\n",
        "for wow in thisiset5:\n",
        "  print(wow)\n",
        "\n",
        "#Join\n",
        "set1 = {\"d\", \"e\", \"f\"}\n",
        "set2 = {1, 2, 3}\n",
        "set3 = set1.union(set2)\n",
        "\n",
        "set4 = set1 | set2\n",
        "print(set3)\n",
        "print(set4)\n",
        "\n",
        "x = {\"a\", \"b\", \"c\"}\n",
        "y = {1,2,3}\n",
        "z = {\"hogeun\",\"kwon\"}\n",
        "w = {\"apple\", \"bananas\", \"cherry\"}\n",
        "myset = x.union(y,z,w)\n",
        "myset1 = x | y | z | w\n",
        "print(myset)\n",
        "print(myset1)\n",
        "\n",
        "e = x.union(y)\n",
        "print(e)\n",
        "\n",
        "z.update(w)\n",
        "print(z)\n",
        "\n",
        "#Join - 공통 원자 찾기\n",
        "set1 = {\"apple\", \"banana\", \"cherry\"}\n",
        "set2 = {\"google\", \"microsoft\", \"apple\"}\n",
        "\n",
        "set3 = set1.intersection(set2)\n",
        "print(set3)\n",
        "\n",
        "set4 = set1 & set2\n",
        "print(set4)\n",
        "\n",
        "#교집합을 찾음, False = 0이라 False만 나옴\n",
        "set1 = {\"apple\", 1,  \"banana\", 0, \"cherry\"}\n",
        "set2 = {False, \"google\", 1, \"apple\", 2, True}\n",
        "\n",
        "set3 = set1.intersection(set2)\n",
        "\n",
        "print(set3)\n",
        "\n",
        "aset1 = {\"apple\", \"banana\", \"cherry\"}\n",
        "aset2 = {\"google\", \"microsoft\", \"apple\"}\n",
        "\n",
        "aset3 = aset1.difference(aset2)\n",
        "print(aset3)\n",
        "\n",
        "aset4 = aset1 - aset2\n",
        "print(aset4)\n",
        "\n",
        "aset1.difference_update(aset2)\n",
        "print(aset1)\n",
        "\n",
        "aset5 = aset1 ^ aset2\n",
        "print(aset5)\n",
        "\n",
        "aset1.symmetric_difference_update(aset2)\n",
        "print(aset1)"
      ],
      "metadata": {
        "colab": {
          "base_uri": "https://localhost:8080/"
        },
        "id": "Qt8hVt65uMvF",
        "outputId": "00c1c2e4-2aa2-49a4-f413-3ed24295d5fb"
      },
      "execution_count": null,
      "outputs": [
        {
          "output_type": "stream",
          "name": "stdout",
          "text": [
            "{'hoseo', 'holy', 'univercity'}\n",
            "3\n",
            "{'banana', True, False, 'apple', 'cherry'}\n",
            "{'banana', 'cherry', 'apple'}\n",
            "{1, 4, 5, 7, 9}\n",
            "{False, True}\n",
            "<class 'set'>\n",
            "1\n",
            "4\n",
            "5\n",
            "7\n",
            "9\n",
            "True\n",
            "{'banana', 'orange', 'cherry', 'apple'}\n",
            "{1, 4, 5, 7, 'holy', 9, 'univercity', 'hoseo'}\n",
            "{'banana', 'upda', 'apple', 'bounderi', 'ppap'}\n",
            "{'banana', 'upda', 'apple', 'bounderi'}\n",
            "{'banana', 'apple', 'bounderi'}\n",
            "{'apple', 'bounderi'}\n",
            "set()\n",
            "연구\n",
            "범죄\n",
            "심리\n",
            "{1, 2, 'f', 'e', 'd', 3}\n",
            "{1, 2, 'f', 'e', 'd', 3}\n",
            "{1, 2, 'b', 3, 'hogeun', 'kwon', 'cherry', 'apple', 'c', 'bananas', 'a'}\n",
            "{1, 2, 'b', 3, 'hogeun', 'kwon', 'cherry', 'apple', 'c', 'bananas', 'a'}\n",
            "{1, 'c', 'b', 2, 3, 'a'}\n",
            "{'hogeun', 'kwon', 'apple', 'bananas', 'cherry'}\n",
            "{'apple'}\n",
            "{'apple'}\n",
            "{False, 1, 'apple'}\n",
            "{'banana', 'cherry'}\n",
            "{'banana', 'cherry'}\n",
            "{'banana', 'cherry'}\n",
            "{'banana', 'google', 'microsoft', 'cherry', 'apple'}\n",
            "{'banana', 'google', 'microsoft', 'cherry', 'apple'}\n"
          ]
        }
      ]
    },
    {
      "cell_type": "markdown",
      "source": [
        "Dict"
      ],
      "metadata": {
        "id": "zEOrTOatbk1Z"
      }
    },
    {
      "cell_type": "code",
      "source": [
        "thisdict = {\n",
        "    \"brand\" : \"Food\",\n",
        "    \"model\" : \"Mustang\",\n",
        "    \"year\" : 1964\n",
        "}\n",
        "x = thisdict[\"model\"]\n",
        "print(x)\n",
        "y = thisdict.get(\"year\")\n",
        "print(y)\n",
        "z = thisdict.keys()\n",
        "print(z)\n",
        "\n",
        "thisdict[\"color\"] = \"white\"\n",
        "print(thisdict)\n",
        "\n",
        "w = thisdict.values()\n",
        "print(w)\n",
        "\n",
        "e = thisdict.items()\n",
        "print(e)\n",
        "\n",
        "thisdict[\"year\"] = 2020\n",
        "print(e)\n",
        "\n",
        "thisdict.update({\"year\" : 1990})\n",
        "print(thisdict)\n",
        "\n",
        "#Remoive\n",
        "thisdict1 = {\n",
        "    \"brand\" : \"Ford\",\n",
        "    \"model\" : \"Mustang\",\n",
        "    \"year\" : \"1964\"\n",
        "}\n",
        "thisdict1.pop(\"model\")\n",
        "print(thisdict1)\n",
        "\n",
        "thisdict1.popitem()\n",
        "print(thisdict1)\n",
        "\n",
        "del thisdict[\"model\"]\n",
        "print(thisdict1)\n",
        "\n",
        "thisdict.clear()\n",
        "print(thisdict)\n",
        "\n",
        "#Loop\n",
        "thisdict2 = {\n",
        "    \"brand\" : \"Ford\",\n",
        "    \"model\" : \"Mustang\",\n",
        "    \"year\" : \"1964\"\n",
        "}\n",
        "#key\n",
        "for who_is_your_daddy in thisdict2:\n",
        "  print(who_is_your_daddy)\n",
        "\n",
        "for who_s_your_mommy in thisdict2:\n",
        "  print(f\"{who_s_your_mommy}\")\n",
        "\n",
        "#values\n",
        "for w in thisdict2:\n",
        "  print(thisdict2[w])\n",
        "\n",
        "for w, who_is_your_daddy in thisdict2.items():\n",
        "  print(w, who_is_your_daddy)\n",
        "\n",
        "#Copy\n",
        "thisdict3 = {\n",
        "    \"brand\" : \"1Ford\",\n",
        "    \"model\" : \"1Mustang\",\n",
        "    \"year\" : \"11964\"\n",
        "}\n",
        "mydict = thisdict3.copy()\n",
        "print(mydict)\n",
        "\n",
        "mydict1 = dict(thisdict3)\n",
        "print(mydict1)\n",
        "\n",
        "myfamily = {\n",
        "    \"child1\" :{\n",
        "        \"name\" : \"emil\",\n",
        "        \"year\" : 2000\n",
        "    },\n",
        "    \"child2\" :{\n",
        "        \"name\" : \"tobias\",\n",
        "        \"year\" : 1999\n",
        "    },\n",
        "    \"child3\" : {\n",
        "        \"name\" : \"linus\",\n",
        "        \"year\" : 2011\n",
        "    }\n",
        "}\n",
        "\n",
        "print(myfamily)\n",
        "print(myfamily[\"child2\"][\"name\"])\n",
        "\n",
        "for x, obj in  myfamily.items():\n",
        "  print(x)\n",
        "  for key in obj:\n",
        "    print(key + ':', obj[key])"
      ],
      "metadata": {
        "colab": {
          "base_uri": "https://localhost:8080/"
        },
        "id": "nPutsG7LSH3V",
        "outputId": "d4bc6710-a388-4930-fb7f-16df17fa6dfa"
      },
      "execution_count": null,
      "outputs": [
        {
          "output_type": "stream",
          "name": "stdout",
          "text": [
            "Mustang\n",
            "1964\n",
            "dict_keys(['brand', 'model', 'year'])\n",
            "{'brand': 'Food', 'model': 'Mustang', 'year': 1964, 'color': 'white'}\n",
            "dict_values(['Food', 'Mustang', 1964, 'white'])\n",
            "dict_items([('brand', 'Food'), ('model', 'Mustang'), ('year', 1964), ('color', 'white')])\n",
            "dict_items([('brand', 'Food'), ('model', 'Mustang'), ('year', 2020), ('color', 'white')])\n",
            "{'brand': 'Food', 'model': 'Mustang', 'year': 1990, 'color': 'white'}\n",
            "{'brand': 'Ford', 'year': '1964'}\n",
            "{'brand': 'Ford'}\n",
            "{'brand': 'Ford'}\n",
            "{}\n",
            "brand\n",
            "model\n",
            "year\n",
            "brand\n",
            "model\n",
            "year\n",
            "Ford\n",
            "Mustang\n",
            "1964\n",
            "brand Ford\n",
            "model Mustang\n",
            "year 1964\n",
            "{'brand': '1Ford', 'model': '1Mustang', 'year': '11964'}\n",
            "{'brand': '1Ford', 'model': '1Mustang', 'year': '11964'}\n",
            "{'child1': {'name': 'emil', 'year': 2000}, 'child2': {'name': 'tobias', 'year': 1999}, 'child3': {'name': 'linus', 'year': 2011}}\n",
            "tobias\n",
            "child1\n",
            "name: emil\n",
            "year: 2000\n",
            "child2\n",
            "name: tobias\n",
            "year: 1999\n",
            "child3\n",
            "name: linus\n",
            "year: 2011\n"
          ]
        }
      ]
    },
    {
      "cell_type": "markdown",
      "source": [
        "25.06.25 - Function"
      ],
      "metadata": {
        "id": "jmJNhWbekGMD"
      }
    },
    {
      "cell_type": "code",
      "source": [
        "def my_function():\n",
        "  print(\"Hello From a Function\")\n",
        "\n",
        "my_function()\n",
        "\n",
        "def my_function1(fname):\n",
        "  print(fname + \"Tefsnes\")\n",
        "\n",
        "my_function1(\"Emil\")\n",
        "my_function1(\"Toobias\")\n",
        "my_function1(\"Linus\")\n",
        "\n",
        "def my_function2(fname, Iname):\n",
        "  print(fname + \" \" + Iname)\n",
        "\n",
        "my_function2(\"Emil\", \"Refsnes\")\n",
        "\n",
        "#전달 인자의 갯수를 모를 경우 즉, n개의 인자를 받고싶을 때 사용 class는 tuple\n",
        "def my_function3(*kids):\n",
        "  print(\"The youngest child is\" + kids[2])\n",
        "  print(\"The youngest child is\" + kids[1])\n",
        "  print(\"The youngest child is\" + kids[0])\n",
        "  print(type(kids))\n",
        "\n",
        "my_function3(\"Emil\", \"Tobias\", \"Linus\")\n",
        "\n",
        "#키워드 인자\n",
        "def my_function4(child3, child2, child1):\n",
        "  print(\"The Olderest child is\" + child3)\n",
        "\n",
        "my_function4(child1 = \"Emil\", child2 = \"Tobias\", child3 = \"Linus\")\n",
        "\n",
        "#keyword arguments 즉, dict의 keyword를 받는다는 것.\n",
        "def my_function5(**kid):\n",
        "  print(\"His last name is\" + kid[\"lname\"])\n",
        "  print(type(kid))\n",
        "\n",
        "my_function5(fname = \"Tobias\", lname = \"Refsnes\")\n",
        "\n",
        "def my_function6(country = \"Norwat\"):\n",
        "  print(\"I am 신뢰에요\" + country)\n",
        "\n",
        "my_function6(\"sweden\")\n",
        "my_function6(\"india\")\n",
        "my_function6()\n",
        "my_function6(\"Brazil\")\n",
        "\n",
        "def my_function7(food):\n",
        "  for x in food:\n",
        "    print(x)\n",
        "\n",
        "fruits = [\"apple\", \"banana\", \"cherry\"]\n",
        "my_function7(fruits)\n",
        "\n",
        "def my_function8(x):\n",
        "  return 7 * x\n",
        "\n",
        "print(my_function8(3))\n",
        "print(my_function8(4))\n",
        "print(my_function8(5))\n",
        "\n",
        "def myfunction9():\n",
        "  pass\n",
        "\n",
        "def my_function10(x, /):\n",
        "  print(x)\n",
        "my_function10(3)\n",
        "\n",
        "def my_function11(*, x):\n",
        "  print(x)\n",
        "my_function11(x = 5)\n",
        "\n",
        "# *가 붙는 순간 c = 7이라 명시를 해줘야 함\n",
        "def my_function12(a, b, /, *, c,d):\n",
        "  print(a+b+c+d)\n",
        "\n",
        "my_function12(5,6, c = 7, d = 8)\n",
        "\n",
        "#재귀함수\n",
        "def tri_recursion(k):\n",
        "  if(k > 0):\n",
        "    result = k + tri_recursion(k - 1) #이걸로 계속 k값을 리턴해서 0꺄지함\n",
        "    print(result)\n",
        "  else:\n",
        "    result = 0\n",
        "  return result\n",
        "\n",
        "print(\"Recursion Example Results: \")\n",
        "tri_recursion(6)"
      ],
      "metadata": {
        "id": "E3dw_xJyeMvj",
        "colab": {
          "base_uri": "https://localhost:8080/"
        },
        "outputId": "a491411a-0680-489e-dd74-0ca52ece5056"
      },
      "execution_count": 29,
      "outputs": [
        {
          "output_type": "stream",
          "name": "stdout",
          "text": [
            "Hello From a Function\n",
            "EmilTefsnes\n",
            "ToobiasTefsnes\n",
            "LinusTefsnes\n",
            "Emil Refsnes\n",
            "The youngest child isLinus\n",
            "The youngest child isTobias\n",
            "The youngest child isEmil\n",
            "<class 'tuple'>\n",
            "The Olderest child isLinus\n",
            "His last name isRefsnes\n",
            "<class 'dict'>\n",
            "I am 신뢰에요sweden\n",
            "I am 신뢰에요india\n",
            "I am 신뢰에요Norwat\n",
            "I am 신뢰에요Brazil\n",
            "apple\n",
            "banana\n",
            "cherry\n",
            "21\n",
            "28\n",
            "35\n",
            "3\n",
            "5\n",
            "26\n",
            "Recursion Example Results: \n",
            "1\n",
            "3\n",
            "6\n",
            "10\n",
            "15\n",
            "21\n"
          ]
        },
        {
          "output_type": "execute_result",
          "data": {
            "text/plain": [
              "21"
            ]
          },
          "metadata": {},
          "execution_count": 29
        }
      ]
    },
    {
      "cell_type": "markdown",
      "source": [
        "Class"
      ],
      "metadata": {
        "id": "5M-lS2FUpYEI"
      }
    },
    {
      "cell_type": "code",
      "source": [
        "class MyClass:\n",
        "  x = 5\n",
        "\n",
        "p1 = MyClass()\n",
        "print(p1.x)\n",
        "\n",
        "class Person:\n",
        "  def __init__(self, name, age):\n",
        "    self.name = name\n",
        "    self.age = age\n",
        "\n",
        "p1 = Person(\"John\", 36)\n",
        "print(p1.name)\n",
        "print(p1.age)\n",
        "\n",
        "class Person1:\n",
        "  def __init__(self, name, age):\n",
        "    self.name = name\n",
        "    self.age = age\n",
        "\n",
        "p1S"
      ],
      "metadata": {
        "colab": {
          "base_uri": "https://localhost:8080/"
        },
        "id": "IjK4tymgoKrk",
        "outputId": "a16ea9bd-f06f-4959-b76f-25aaf89947bc"
      },
      "execution_count": 31,
      "outputs": [
        {
          "output_type": "stream",
          "name": "stdout",
          "text": [
            "5\n",
            "John\n",
            "36\n"
          ]
        }
      ]
    }
  ],
  "metadata": {
    "colab": {
      "provenance": [],
      "include_colab_link": true
    },
    "kernelspec": {
      "display_name": "Python 3",
      "name": "python3"
    }
  },
  "nbformat": 4,
  "nbformat_minor": 0
}