{
  "cells": [
    {
      "cell_type": "markdown",
      "metadata": {
        "id": "view-in-github",
        "colab_type": "text"
      },
      "source": [
        "<a href=\"https://colab.research.google.com/github/KwonHo-geun/automobile/blob/main/25.06.23.ipynb\" target=\"_parent\"><img src=\"https://colab.research.google.com/assets/colab-badge.svg\" alt=\"Open In Colab\"/></a>"
      ]
    },
    {
      "cell_type": "code",
      "source": [
        "x = 26\n",
        "y = \"hogeun\"\n",
        "print(x)\n",
        "print(y)"
      ],
      "metadata": {
        "colab": {
          "base_uri": "https://localhost:8080/"
        },
        "id": "GyOm1fiYeAAv",
        "outputId": "04f34ef1-ceb7-4bdc-cc06-33d9c29b71f0"
      },
      "execution_count": 2,
      "outputs": [
        {
          "output_type": "stream",
          "name": "stdout",
          "text": [
            "26\n",
            "hogeun\n"
          ]
        }
      ]
    },
    {
      "cell_type": "code",
      "source": [
        "if 5 > 2:\n",
        "  print(\"Five is greater than two!\")"
      ],
      "metadata": {
        "colab": {
          "base_uri": "https://localhost:8080/"
        },
        "id": "-RDBqAcOgudG",
        "outputId": "33abbcab-a355-45d2-e89b-8460052d9dd0"
      },
      "execution_count": 5,
      "outputs": [
        {
          "output_type": "stream",
          "name": "stdout",
          "text": [
            "Five is greater than two!\n"
          ]
        }
      ]
    },
    {
      "cell_type": "code",
      "source": [
        "if 5 > 2:\n",
        "  print(\"Five is greater than two!\")\n",
        "  print(\"Five is greater thanb two!\")"
      ],
      "metadata": {
        "colab": {
          "base_uri": "https://localhost:8080/"
        },
        "id": "ohVLu0Xgg3aB",
        "outputId": "157c6df6-6488-44de-8d8f-5181b9655df5"
      },
      "execution_count": 7,
      "outputs": [
        {
          "output_type": "stream",
          "name": "stdout",
          "text": [
            "Five is greater than two!\n",
            "Five is greater thanb two!\n"
          ]
        }
      ]
    },
    {
      "cell_type": "code",
      "source": [
        "fruits = [\"apple\", \"banana\", \"cherry\"]\n",
        "x, y, z = fruits\n",
        "print(x)\n",
        "print(y)\n",
        "print(z)"
      ],
      "metadata": {
        "colab": {
          "base_uri": "https://localhost:8080/"
        },
        "id": "G6AO50Q8hjxP",
        "outputId": "ff8c3bfc-ce08-41d7-aa50-4fb63419abb7"
      },
      "execution_count": 12,
      "outputs": [
        {
          "output_type": "stream",
          "name": "stdout",
          "text": [
            "apple\n",
            "banana\n",
            "cherry\n"
          ]
        }
      ]
    },
    {
      "cell_type": "code",
      "source": [
        "x = y = z = \"Orange\"\n",
        "print(x)\n",
        "print(y)\n",
        "print(z)"
      ],
      "metadata": {
        "colab": {
          "base_uri": "https://localhost:8080/"
        },
        "id": "4cT62RmxjHal",
        "outputId": "9a298bab-8e82-4d78-9337-25207f1e1bca"
      },
      "execution_count": 11,
      "outputs": [
        {
          "output_type": "stream",
          "name": "stdout",
          "text": [
            "Orange\n",
            "Orange\n",
            "Orange\n"
          ]
        }
      ]
    },
    {
      "cell_type": "code",
      "source": [
        "x = \"Python\"\n",
        "y = \"is\"\n",
        "z = \"awesome\"\n",
        "print(x, y, z)\n",
        "print(x + y + z)\n",
        "q = 5\n",
        "w = 10\n",
        "print(q + w)"
      ],
      "metadata": {
        "colab": {
          "base_uri": "https://localhost:8080/"
        },
        "id": "RfMBdFMujId_",
        "outputId": "0bbb1f92-f791-4b1b-dfc0-d62a0da8b9e0"
      },
      "execution_count": 16,
      "outputs": [
        {
          "output_type": "stream",
          "name": "stdout",
          "text": [
            "Python is awesome\n",
            "Pythonisawesome\n",
            "15\n"
          ]
        }
      ]
    },
    {
      "cell_type": "code",
      "source": [
        "x = \"awesome\"\n",
        "\n",
        "def myfunc():\n",
        "  print(\"Python is \" + x)\n",
        "\n",
        "myfunc()"
      ],
      "metadata": {
        "colab": {
          "base_uri": "https://localhost:8080/"
        },
        "id": "FMw8NTEwjpIw",
        "outputId": "38852d8d-52bd-4bf1-8582-b1074dd5856e"
      },
      "execution_count": 17,
      "outputs": [
        {
          "output_type": "stream",
          "name": "stdout",
          "text": [
            "Python is awesome\n"
          ]
        }
      ]
    },
    {
      "cell_type": "code",
      "source": [
        "x = \"awesome\"\n",
        "\n",
        "def myfunc():\n",
        "  x = \"fantastic\"\n",
        "  print(\"Python is \" + x)\n",
        "\n",
        "myfunc()\n",
        "\n",
        "print(\"Python is \" + x)"
      ],
      "metadata": {
        "colab": {
          "base_uri": "https://localhost:8080/"
        },
        "id": "ptrrErf0j6Rb",
        "outputId": "feba1500-b8ee-4200-f942-14c244e2f8cd"
      },
      "execution_count": 18,
      "outputs": [
        {
          "output_type": "stream",
          "name": "stdout",
          "text": [
            "Python is fantastic\n",
            "Python is awesome\n"
          ]
        }
      ]
    },
    {
      "cell_type": "code",
      "source": [
        "x =  \"Hello World\"\n",
        "y = 20\n",
        "z = 20.5\n",
        "w = 1j\n",
        "e = [\"apple\", \"banana\", \"cherry\"]\n",
        "r= (\"apple\", \"banana\", \"cherry\")\n",
        "t = range(6)\n",
        "y = {\"name\" : \"john\" , \"age\" : \" 36\"}\n",
        "u = {\"name\",\"john\",\"age\",\" 36\"}\n",
        "i = frozenset({\"apple\", \"banana\", \"cherry\"})\n",
        "o = True\n",
        "p = b\"Hello\"\n",
        "a = bytearray(5)\n",
        "s = memoryview(bytes(5))\n",
        "d =  None\n",
        "\n",
        "print(type(x))\n",
        "print(type(y))\n",
        "print(type(z))\n",
        "print(type(w))\n",
        "print(type(e))\n",
        "print(type(r))\n",
        "print(type(t))\n",
        "print(type(y))\n",
        "print(type(u))\n",
        "print(type(i))\n",
        "print(type(o))\n",
        "print(type(p))\n",
        "print(type(a))\n",
        "print(type(s))\n",
        "print(type(d))"
      ],
      "metadata": {
        "colab": {
          "base_uri": "https://localhost:8080/"
        },
        "id": "-lrxq_rxkKet",
        "outputId": "1b4bb46f-beff-482c-a62d-40c4fdf70c55"
      },
      "execution_count": 28,
      "outputs": [
        {
          "output_type": "stream",
          "name": "stdout",
          "text": [
            "<class 'str'>\n",
            "<class 'dict'>\n",
            "<class 'float'>\n",
            "<class 'complex'>\n",
            "<class 'list'>\n",
            "<class 'tuple'>\n",
            "<class 'range'>\n",
            "<class 'dict'>\n",
            "<class 'set'>\n",
            "<class 'frozenset'>\n",
            "<class 'bool'>\n",
            "<class 'bytes'>\n",
            "<class 'bytearray'>\n",
            "<class 'memoryview'>\n",
            "<class 'NoneType'>\n"
          ]
        }
      ]
    },
    {
      "cell_type": "code",
      "source": [
        "x = -35.29\n",
        "print(x)\n",
        "print(type(x))\n",
        "x = int(1)\n",
        "y = int(2.9)\n",
        "z = int(\"3\")\n",
        "print(x)\n",
        "print(y)\n",
        "print(z)"
      ],
      "metadata": {
        "colab": {
          "base_uri": "https://localhost:8080/"
        },
        "id": "vX67FHqQnIXk",
        "outputId": "9da30adb-733c-429c-f111-4e0f9027836b"
      },
      "execution_count": 31,
      "outputs": [
        {
          "output_type": "stream",
          "name": "stdout",
          "text": [
            "-35.29\n",
            "<class 'float'>\n"
          ]
        }
      ]
    },
    {
      "cell_type": "code",
      "source": [
        "x = float(1)\n",
        "y = float(2.8)\n",
        "z = float(\"3\")\n",
        "w = float(\"5.2\")\n",
        "print(x)\n",
        "print(y)\n",
        "print(z)\n",
        "print(w)"
      ],
      "metadata": {
        "colab": {
          "base_uri": "https://localhost:8080/"
        },
        "id": "UNqz-mEWnTOZ",
        "outputId": "f698cfad-2420-4e3b-9eba-ead799dfa079"
      },
      "execution_count": 36,
      "outputs": [
        {
          "output_type": "stream",
          "name": "stdout",
          "text": [
            "1.0\n",
            "2.8\n",
            "3.0\n",
            "5.2\n"
          ]
        }
      ]
    },
    {
      "cell_type": "code",
      "source": [
        "a = \"\"\"Lore ipsum dolor sit amet,\n",
        "consectetur adipiscing elit,\n",
        "sed do eiusmod tempor incididunt ut labore et dolore magna aliqua.\"\"\"\n",
        "print(a)\n",
        "a = '''lore Ipsum dolor sit amet,\n",
        "consectetur adipiscing dlit, sed do eiusmod tempor incididunt\n",
        "ut labore et dolore magna aliqua.'''\n",
        "print(a)"
      ],
      "metadata": {
        "colab": {
          "base_uri": "https://localhost:8080/"
        },
        "id": "_ycdWVQSndZo",
        "outputId": "bd3cc02d-68d0-409f-bd6a-c6a8b6da5551"
      },
      "execution_count": 39,
      "outputs": [
        {
          "output_type": "stream",
          "name": "stdout",
          "text": [
            "Lore ipsum dolor sit amet,\n",
            "consectetur adipiscing elit,\n",
            "sed do eiusmod tempor incididunt ut labore et dolore magna aliqua.\n",
            "lore Ipsum dolor sit amet,\n",
            "consectetur adipiscing dlit, sed do eiusmod tempor incididunt\n",
            "ut labore et dolore magna aliqua.\n"
          ]
        }
      ]
    },
    {
      "cell_type": "code",
      "source": [
        "b = \"Hello World\"\n",
        "print(b[2:5])\n",
        "print(b[:5])\n",
        "print(b[2:])\n",
        "print(b[-5:-2])"
      ],
      "metadata": {
        "colab": {
          "base_uri": "https://localhost:8080/"
        },
        "id": "_bmzIJ7moTe2",
        "outputId": "75186908-2b17-487e-8c48-4427eee545e0"
      },
      "execution_count": 45,
      "outputs": [
        {
          "output_type": "stream",
          "name": "stdout",
          "text": [
            "llo\n",
            "Hello\n",
            "llo World\n",
            "Wor\n"
          ]
        }
      ]
    },
    {
      "cell_type": "code",
      "source": [
        "a = \"Hello world\"\n",
        "print(a.upper())\n",
        "print(a.lower())\n",
        "print(a.strip())"
      ],
      "metadata": {
        "colab": {
          "base_uri": "https://localhost:8080/"
        },
        "id": "HH-01a-0pC-D",
        "outputId": "8e721c5e-1f0e-411f-bd4d-4f42c9d2e3a9"
      },
      "execution_count": 49,
      "outputs": [
        {
          "output_type": "stream",
          "name": "stdout",
          "text": [
            "HELLO WORLD\n",
            "hello world\n",
            "Hello world\n"
          ]
        }
      ]
    },
    {
      "cell_type": "code",
      "source": [
        "a = \"Hello\"\n",
        "b = \"World\"\n",
        "c = a + b\n",
        "print(c)\n",
        "\n",
        "c = a + \" \" + b\n",
        "print(c)"
      ],
      "metadata": {
        "colab": {
          "base_uri": "https://localhost:8080/"
        },
        "id": "uzm8DZ2nrrd2",
        "outputId": "a50521d9-398b-4831-8aa8-f1acfbb33903"
      },
      "execution_count": 51,
      "outputs": [
        {
          "output_type": "stream",
          "name": "stdout",
          "text": [
            "HelloWorld\n",
            "Hello World\n"
          ]
        }
      ]
    },
    {
      "cell_type": "code",
      "source": [
        "age = 26\n",
        "txt = f\"My name is Hogeun, I am {age}\"\n",
        "print(txt)\n",
        "price = 59\n",
        "txt = f\"The Price is {price} dollars\"\n",
        "print(txt)\n",
        "txt = f\"The price is {20 * 59} dollars\"\n",
        "print(txt)"
      ],
      "metadata": {
        "colab": {
          "base_uri": "https://localhost:8080/"
        },
        "id": "ifnG6qPar4q7",
        "outputId": "275f68a4-cf85-42eb-c075-37f87718717d"
      },
      "execution_count": 55,
      "outputs": [
        {
          "output_type": "stream",
          "name": "stdout",
          "text": [
            "My name is Hogeun, I am 26\n",
            "The Price is 59 dollars\n",
            "The price is 1180 dollars\n"
          ]
        }
      ]
    },
    {
      "cell_type": "code",
      "source": [
        "txt = \"We are the so-called \\\"Vikings\\\" from the north.\"\n",
        "print(txt)\n",
        "txt = \"We are the so-called \\'Vikings\\' from the north.\"\n",
        "print(txt)\n",
        "txt = \"We are the so-called \\\\Vikings\\\\ from the north.\"\n",
        "print(txt)\n",
        "txt = \"We are the so-called \\nVikings\\n from the north.\"\n",
        "print(txt)\n",
        "#Carriage Return\n",
        "txt = \"We are the so-called \\rVikings\\r from the north.\"\n",
        "print(txt)\n",
        "txt = \"We are the so-called \\tVikings\\t from the north.\"\n",
        "print(txt)\n",
        "txt = \"We are the so-called \\bVikings\\b from the north.\"\n",
        "print(txt)\n",
        "txt = \"We are the so-called \\fVikings\\f from the north.\"\n",
        "print(txt)"
      ],
      "metadata": {
        "colab": {
          "base_uri": "https://localhost:8080/"
        },
        "id": "Cja2XtzxsZ2d",
        "outputId": "f64d6405-4c29-4ed8-a8b2-4261c1976cc5"
      },
      "execution_count": 70,
      "outputs": [
        {
          "output_type": "stream",
          "name": "stdout",
          "text": [
            "We are the so-called \"Vikings\" from the north.\n",
            "We are the so-called 'Vikings' from the north.\n",
            "We are the so-called \\Vikings\\ from the north.\n",
            "We are the so-called \n",
            "Vikings\n",
            " from the north.\n",
            "We are the so-called \rVikings\r from the north.\n",
            "We are the so-called \tVikings\t from the north.\n",
            "We are the so-called \bVikings\b from the north.\n",
            "We are the so-called \fVikings\f from the north.\n",
            "We are the so-called \\oooVikings from the north.\n"
          ]
        }
      ]
    },
    {
      "cell_type": "code",
      "source": [
        "txt = \"We are the so-called Vikings from the north.\"\n",
        "print(txt.capitalize())\n",
        "print(txt.casefold())\n",
        "print(txt.center(30))\n",
        "print(txt.count(a))\n",
        "print(txt.encode())\n",
        "print(txt.endswith(\"north.\"))\n",
        "print(txt.find(\"north\"))\n",
        "print(txt.index(\"north\"))\n",
        "print(txt.isalnum())\n",
        "print(txt.isalpha())\n",
        "print(txt.isdecimal())\n",
        "print(txt.isdigit())\n",
        "print(txt.isidentifier())\n",
        "print(txt.islower())\n",
        "print(txt.isnumeric())\n",
        "print(txt.isprintable())\n",
        "print(txt.isspace())"
      ],
      "metadata": {
        "colab": {
          "base_uri": "https://localhost:8080/"
        },
        "id": "mWyaePqJthQq",
        "outputId": "b7f74430-6122-4bc0-c2c1-2f42d92dbd2e"
      },
      "execution_count": 102,
      "outputs": [
        {
          "output_type": "stream",
          "name": "stdout",
          "text": [
            "We are the so-called vikings from the north.\n",
            "we are the so-called vikings from the north.\n",
            "We are the so-called Vikings from the north.\n",
            "0\n",
            "b'We are the so-called Vikings from the north.'\n",
            "True\n",
            "38\n",
            "38\n",
            "False\n",
            "False\n",
            "False\n",
            "False\n",
            "False\n",
            "False\n",
            "False\n",
            "True\n",
            "False\n"
          ]
        }
      ]
    },
    {
      "cell_type": "code",
      "source": [
        "print(10 > 9)\n",
        "print(10 == 9)\n",
        "print(10 < 9)\n",
        "\n",
        "a = 200\n",
        "b = 33\n",
        "\n",
        "if b > a:\n",
        "  print(\"b is greater than a\")\n",
        "else:\n",
        "  print(\"b is not greater than a\")\n",
        "\n",
        "print(bool(\"Hello\"))\n",
        "print(bool(15))"
      ],
      "metadata": {
        "colab": {
          "base_uri": "https://localhost:8080/"
        },
        "id": "d2svF5dkyV_G",
        "outputId": "9cb19ccf-f3ae-47f7-b21f-c45639d67ba2"
      },
      "execution_count": 106,
      "outputs": [
        {
          "output_type": "stream",
          "name": "stdout",
          "text": [
            "True\n",
            "False\n",
            "False\n",
            "b is not greater than a\n",
            "True\n",
            "True\n"
          ]
        }
      ]
    },
    {
      "cell_type": "code",
      "source": [
        "x = 3\n",
        "print(x)\n",
        "x += 3\n",
        "print(x)\n",
        "x -= 3\n",
        "print(x)\n",
        "x *= 3\n",
        "print(x)\n",
        "x /= 3\n",
        "print(x)\n",
        "x %= 3\n",
        "print(x)\n",
        "x = 3\n",
        "x //= 3\n",
        "print(x)\n",
        "x = 3\n",
        "x **= 3\n",
        "print(x)\n",
        "x &= 3\n",
        "print(x)\n",
        "x |= 3\n",
        "print(x)\n",
        "x ^= 3\n",
        "print(x)"
      ],
      "metadata": {
        "colab": {
          "base_uri": "https://localhost:8080/"
        },
        "id": "ba1sGe72zfOn",
        "outputId": "379293f0-c7f0-4631-bd15-8d14bfb66bfd"
      },
      "execution_count": 116,
      "outputs": [
        {
          "output_type": "stream",
          "name": "stdout",
          "text": [
            "3\n",
            "6\n",
            "3\n",
            "9\n",
            "3.0\n",
            "0.0\n",
            "1\n",
            "27\n",
            "3\n",
            "3\n",
            "0\n"
          ]
        }
      ]
    },
    {
      "cell_type": "markdown",
      "source": [
        "List"
      ],
      "metadata": {
        "id": "6mZSK-m1FRQk"
      }
    },
    {
      "cell_type": "code",
      "source": [
        "mylist = [\"apple\", \"banana\", \"cherry\"]\n",
        "print(mylist)\n",
        "print(len(mylist))\n",
        "list1 = [\"abc\", 34, True, 40, \"male\"]\n",
        "print(type(list1))\n",
        "thislist = list((\"apple\", \"banana\", \"cherry\"))\n",
        "print(thislist)\n",
        "print(type(thislist))\n",
        "\n",
        "print(mylist[-1])\n",
        "thislist1 = [\"apple\", \"banana\", \"cherry\", \"orange\", \"kwi\", \"melon\", \"mango\"] #2,3,4만 return\n",
        "print(thislist1[2:5])\n",
        "print(thislist1[:4])\n",
        "print(thislist1[2:])\n",
        "print(thislist1[-4:-1])\n",
        "if \"kwi\" in thislist1:\n",
        "  print(\"Yes, 'kwi' is in the fruits list\")\n",
        "\n",
        "thislist1[1:3] = [\"balckcurrant\", \"watermelon\"]\n",
        "print(thislist1)\n",
        "\n",
        "thislist2 = [\"apple\", \"banana\", \"cherry\"]\n",
        "thislist2[1:3] = [\"watermelon\"]\n",
        "print(thislist2)\n",
        "\n",
        "thislist2 = [\"apple\", \"banana\", \"cherry\"]\n",
        "thislist2.append(\"orange\")\n",
        "print(thislist2)\n",
        "thislist2.insert(1, \"orange\")\n",
        "print(thislist2)\n",
        "\n",
        "#extends\n",
        "thislist2.extend(thislist1)\n",
        "print(thislist2)\n",
        "\n",
        "thislist2 = [\"apple\", \"banana\", \"cherry\"]\n",
        "thistuple = (\"kiwi\", \"orange\")\n",
        "thislist2.extend(thistuple)\n",
        "print(thislist2)\n",
        "\n",
        "#remove\n",
        "thislist = [\"apple\", \"banana\", \"cherry\"]\n",
        "thislist.remove(\"apple\")\n",
        "print(thislist)\n",
        "\n",
        "thislist.pop(1)\n",
        "print(thislist)\n",
        "\n",
        "thislist = [\"apple\", \"banana\", \"cherry\"]\n",
        "del thislist[0]\n",
        "print(thislist)\n",
        "\n",
        "thislist = [\"apple\", \"banana\", \"cherry\"]\n",
        "thislist.clear()\n",
        "print(thislist)\n",
        "\n",
        "#range\n",
        "thislist = [\"apple\", \"banana\", \"cherry\"]\n",
        "for x in thislist:\n",
        "  print(x)\n",
        "for i in range(len(thislist)):\n",
        "  print(thislist[i])\n",
        "\n",
        "i = 0\n",
        "while i < len(thislist):\n",
        "  print(thislist[i])\n",
        "  i = i + 1\n",
        "\n",
        "#Comprehension\n",
        "fruits = [\"apple\", \"mango\", \"banana\", \"cherry\", \"kiwi\"]\n",
        "newlist = []\n",
        "\n",
        "for x in fruits:\n",
        "  if \"a\" in x:\n",
        "    newlist.append(x)\n",
        "print(newlist)\n",
        "\n",
        "newlist = [x for x in fruits if x != \"apple\"]\n",
        "print(newlist)\n",
        "\n",
        "newlist = [x for x in fruits]\n",
        "print(newlist)\n",
        "\n",
        "newlist = [x for x in range(10)]\n",
        "print(newlist)\n",
        "\n",
        "newlist = [x for x in range(10) if x < 5]\n",
        "print(newlist)\n",
        "\n",
        "newlist = [x.upper() for x in fruits]\n",
        "print(newlist)\n",
        "\n",
        "newlist = ['hello' for x in fruits]\n",
        "print(newlist)\n",
        "\n",
        "newlist = [x if x != \"banana\" else \"orange\" for x in fruits]\n",
        "print(newlist)"
      ],
      "metadata": {
        "id": "wzqzKk5VFN-G",
        "outputId": "2f0a64bb-09a6-4a17-b198-f5be1977175f",
        "colab": {
          "base_uri": "https://localhost:8080/"
        }
      },
      "execution_count": 158,
      "outputs": [
        {
          "output_type": "stream",
          "name": "stdout",
          "text": [
            "['apple', 'banana', 'cherry']\n",
            "3\n",
            "<class 'list'>\n",
            "['apple', 'banana', 'cherry']\n",
            "<class 'list'>\n",
            "cherry\n",
            "['cherry', 'orange', 'kwi']\n",
            "['apple', 'banana', 'cherry', 'orange']\n",
            "['cherry', 'orange', 'kwi', 'melon', 'mango']\n",
            "['orange', 'kwi', 'melon']\n",
            "Yes, 'kwi' is in the fruits list\n",
            "['apple', 'balckcurrant', 'watermelon', 'orange', 'kwi', 'melon', 'mango']\n",
            "['apple', 'watermelon']\n",
            "['apple', 'banana', 'cherry', 'orange']\n",
            "['apple', 'orange', 'banana', 'cherry', 'orange']\n",
            "['apple', 'orange', 'banana', 'cherry', 'orange', 'apple', 'balckcurrant', 'watermelon', 'orange', 'kwi', 'melon', 'mango']\n",
            "['apple', 'banana', 'cherry', 'kiwi', 'orange']\n",
            "['banana', 'cherry']\n",
            "['banana']\n",
            "['banana', 'cherry']\n",
            "[]\n",
            "apple\n",
            "banana\n",
            "cherry\n",
            "apple\n",
            "banana\n",
            "cherry\n",
            "apple\n",
            "banana\n",
            "cherry\n",
            "['apple', 'mango', 'banana']\n",
            "['mango', 'banana', 'cherry', 'kiwi']\n",
            "['apple', 'mango', 'banana', 'cherry', 'kiwi']\n",
            "[0, 1, 2, 3, 4, 5, 6, 7, 8, 9]\n",
            "[0, 1, 2, 3, 4]\n",
            "['APPLE', 'MANGO', 'BANANA', 'CHERRY', 'KIWI']\n",
            "['hello', 'hello', 'hello', 'hello', 'hello']\n",
            "['apple', 'mango', 'orange', 'cherry', 'kiwi']\n"
          ]
        }
      ]
    },
    {
      "cell_type": "markdown",
      "source": [
        "SortList"
      ],
      "metadata": {
        "id": "pR8wN11SSFjU"
      }
    },
    {
      "cell_type": "code",
      "source": [
        "thislist = [\"orange\", \"mango\", \"kiwi\", \"pineapple\", \"banana\"]\n",
        "thislist.sort()\n",
        "print(thislist)\n",
        "thislist.sort(reverse = True)\n",
        "print(thislist)\n",
        "\n",
        "thislist1 = [100, 50, 65, 82, 23]\n",
        "thislist1.sort() #오름차순\n",
        "print(thislist1) #내림차순\n",
        "thislist1.sort(reverse = True)\n",
        "print(thislist1)\n",
        "\n",
        "\n",
        "def myfunc(n):\n",
        "  return abs(n - 50) #n - 50을 해서 가장 작은값이 첫번째로 제일 큰값이 마지막으로 정렬\n",
        "\n",
        "thislist1.sort(key = myfunc)\n",
        "print(thislist1)\n",
        "\n",
        "thislist = [\"banana\", \"Orange\", \"Kiwi\", \"cherry\"]\n",
        "thislist.sort(key = str.lower)\n",
        "thislist.reverse()\n",
        "print(thislist)"
      ],
      "metadata": {
        "id": "XfdSnAkzGIyv",
        "outputId": "f29730d0-7688-4b47-c9c2-34a8cb9109a8",
        "colab": {
          "base_uri": "https://localhost:8080/"
        }
      },
      "execution_count": 167,
      "outputs": [
        {
          "output_type": "stream",
          "name": "stdout",
          "text": [
            "['banana', 'kiwi', 'mango', 'orange', 'pineapple']\n",
            "['pineapple', 'orange', 'mango', 'kiwi', 'banana']\n",
            "[23, 50, 65, 82, 100]\n",
            "[100, 82, 65, 50, 23]\n",
            "[50, 65, 23, 82, 100]\n",
            "['Orange', 'Kiwi', 'cherry', 'banana']\n"
          ]
        }
      ]
    },
    {
      "cell_type": "markdown",
      "source": [
        "CopyLIst"
      ],
      "metadata": {
        "id": "wve4l-kqUEd_"
      }
    },
    {
      "cell_type": "code",
      "source": [
        "thislist = [\"apple\", \"banana\", \"cherry\"]\n",
        "mylist = thislist.copy()\n",
        "print(mylist)\n",
        "\n",
        "mylist = list(thislist)\n",
        "print(mylist)\n",
        "\n",
        "#joinList\n",
        "list1 = [\"a\", \"b\", \"c\"]\n",
        "list2 = [1,2,3]\n",
        "list3 = list1 + list2\n",
        "print(list3)\n",
        "\n",
        "for x in list2:\n",
        "  list1.append(x)\n",
        "print(list1)\n",
        "\n",
        "list1.extend(list2)\n",
        "print(list1)\n",
        "\n"
      ],
      "metadata": {
        "id": "-PAFrKIgUGe6",
        "outputId": "fc7d4e90-8547-4875-e00d-af72aa7e7836",
        "colab": {
          "base_uri": "https://localhost:8080/"
        }
      },
      "execution_count": 172,
      "outputs": [
        {
          "output_type": "stream",
          "name": "stdout",
          "text": [
            "['apple', 'banana', 'cherry']\n",
            "['apple', 'banana', 'cherry']\n",
            "['a', 'b', 'c', 1, 2, 3]\n",
            "['a', 'b', 'c', 1, 2, 3]\n",
            "['a', 'b', 'c', 1, 2, 3, 1, 2, 3]\n"
          ]
        }
      ]
    },
    {
      "cell_type": "markdown",
      "source": [
        "tuple"
      ],
      "metadata": {
        "id": "eN6pa4-gYcTf"
      }
    },
    {
      "cell_type": "code",
      "source": [],
      "metadata": {
        "id": "Jg8LPlmMYdtw"
      },
      "execution_count": null,
      "outputs": []
    }
  ],
  "metadata": {
    "colab": {
      "name": "Colab 시작하기",
      "provenance": [],
      "include_colab_link": true
    },
    "kernelspec": {
      "display_name": "Python 3",
      "name": "python3"
    }
  },
  "nbformat": 4,
  "nbformat_minor": 0
}
