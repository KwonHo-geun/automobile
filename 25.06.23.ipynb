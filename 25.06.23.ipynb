{
  "cells": [
    {
      "cell_type": "markdown",
      "metadata": {
        "id": "view-in-github",
        "colab_type": "text"
      },
      "source": [
        "<a href=\"https://colab.research.google.com/github/KwonHo-geun/automobile/blob/main/25.06.23.ipynb\" target=\"_parent\"><img src=\"https://colab.research.google.com/assets/colab-badge.svg\" alt=\"Open In Colab\"/></a>"
      ]
    },
    {
      "cell_type": "code",
      "source": [
        "x = 26\n",
        "y = \"hogeun\"\n",
        "print(x)\n",
        "print(y)"
      ],
      "metadata": {
        "colab": {
          "base_uri": "https://localhost:8080/"
        },
        "id": "GyOm1fiYeAAv",
        "outputId": "04f34ef1-ceb7-4bdc-cc06-33d9c29b71f0"
      },
      "execution_count": 2,
      "outputs": [
        {
          "output_type": "stream",
          "name": "stdout",
          "text": [
            "26\n",
            "hogeun\n"
          ]
        }
      ]
    },
    {
      "cell_type": "code",
      "source": [
        "if 5 > 2:\n",
        "  print(\"Five is greater than two!\")"
      ],
      "metadata": {
        "colab": {
          "base_uri": "https://localhost:8080/"
        },
        "id": "-RDBqAcOgudG",
        "outputId": "33abbcab-a355-45d2-e89b-8460052d9dd0"
      },
      "execution_count": 5,
      "outputs": [
        {
          "output_type": "stream",
          "name": "stdout",
          "text": [
            "Five is greater than two!\n"
          ]
        }
      ]
    },
    {
      "cell_type": "code",
      "source": [
        "if 5 > 2:\n",
        "  print(\"Five is greater than two!\")\n",
        "  print(\"Five is greater thanb two!\")"
      ],
      "metadata": {
        "colab": {
          "base_uri": "https://localhost:8080/"
        },
        "id": "ohVLu0Xgg3aB",
        "outputId": "157c6df6-6488-44de-8d8f-5181b9655df5"
      },
      "execution_count": 7,
      "outputs": [
        {
          "output_type": "stream",
          "name": "stdout",
          "text": [
            "Five is greater than two!\n",
            "Five is greater thanb two!\n"
          ]
        }
      ]
    },
    {
      "cell_type": "code",
      "source": [
        "fruits = [\"apple\", \"banana\", \"cherry\"]\n",
        "x, y, z = fruits\n",
        "print(x)\n",
        "print(y)\n",
        "print(z)"
      ],
      "metadata": {
        "colab": {
          "base_uri": "https://localhost:8080/"
        },
        "id": "G6AO50Q8hjxP",
        "outputId": "ff8c3bfc-ce08-41d7-aa50-4fb63419abb7"
      },
      "execution_count": 12,
      "outputs": [
        {
          "output_type": "stream",
          "name": "stdout",
          "text": [
            "apple\n",
            "banana\n",
            "cherry\n"
          ]
        }
      ]
    },
    {
      "cell_type": "code",
      "source": [
        "x = y = z = \"Orange\"\n",
        "print(x)\n",
        "print(y)\n",
        "print(z)"
      ],
      "metadata": {
        "colab": {
          "base_uri": "https://localhost:8080/"
        },
        "id": "4cT62RmxjHal",
        "outputId": "9a298bab-8e82-4d78-9337-25207f1e1bca"
      },
      "execution_count": 11,
      "outputs": [
        {
          "output_type": "stream",
          "name": "stdout",
          "text": [
            "Orange\n",
            "Orange\n",
            "Orange\n"
          ]
        }
      ]
    },
    {
      "cell_type": "code",
      "source": [
        "x = \"Python\"\n",
        "y = \"is\"\n",
        "z = \"awesome\"\n",
        "print(x, y, z)\n",
        "print(x + y + z)\n",
        "q = 5\n",
        "w = 10\n",
        "print(q + w)"
      ],
      "metadata": {
        "colab": {
          "base_uri": "https://localhost:8080/"
        },
        "id": "RfMBdFMujId_",
        "outputId": "0bbb1f92-f791-4b1b-dfc0-d62a0da8b9e0"
      },
      "execution_count": 16,
      "outputs": [
        {
          "output_type": "stream",
          "name": "stdout",
          "text": [
            "Python is awesome\n",
            "Pythonisawesome\n",
            "15\n"
          ]
        }
      ]
    },
    {
      "cell_type": "code",
      "source": [
        "x = \"awesome\"\n",
        "\n",
        "def myfunc():\n",
        "  print(\"Python is \" + x)\n",
        "\n",
        "myfunc()"
      ],
      "metadata": {
        "colab": {
          "base_uri": "https://localhost:8080/"
        },
        "id": "FMw8NTEwjpIw",
        "outputId": "38852d8d-52bd-4bf1-8582-b1074dd5856e"
      },
      "execution_count": 17,
      "outputs": [
        {
          "output_type": "stream",
          "name": "stdout",
          "text": [
            "Python is awesome\n"
          ]
        }
      ]
    },
    {
      "cell_type": "code",
      "source": [
        "x = \"awesome\"\n",
        "\n",
        "def myfunc():\n",
        "  x = \"fantastic\"\n",
        "  print(\"Python is \" + x)\n",
        "\n",
        "myfunc()\n",
        "\n",
        "print(\"Python is \" + x)"
      ],
      "metadata": {
        "colab": {
          "base_uri": "https://localhost:8080/"
        },
        "id": "ptrrErf0j6Rb",
        "outputId": "feba1500-b8ee-4200-f942-14c244e2f8cd"
      },
      "execution_count": 18,
      "outputs": [
        {
          "output_type": "stream",
          "name": "stdout",
          "text": [
            "Python is fantastic\n",
            "Python is awesome\n"
          ]
        }
      ]
    },
    {
      "cell_type": "code",
      "source": [
        "x =  \"Hello World\"\n",
        "y = 20\n",
        "z = 20.5\n",
        "w = 1j\n",
        "e = [\"apple\", \"banana\", \"cherry\"]\n",
        "r= (\"apple\", \"banana\", \"cherry\")\n",
        "t = range(6)\n",
        "y = {\"name\" : \"john\" , \"age\" : \" 36\"}\n",
        "u = {\"name\",\"john\",\"age\",\" 36\"}\n",
        "i = frozenset({\"apple\", \"banana\", \"cherry\"})\n",
        "o = True\n",
        "p = b\"Hello\"\n",
        "a = bytearray(5)\n",
        "s = memoryview(bytes(5))\n",
        "d =  None\n",
        "\n",
        "print(type(x))\n",
        "print(type(y))\n",
        "print(type(z))\n",
        "print(type(w))\n",
        "print(type(e))\n",
        "print(type(r))\n",
        "print(type(t))\n",
        "print(type(y))\n",
        "print(type(u))\n",
        "print(type(i))\n",
        "print(type(o))\n",
        "print(type(p))\n",
        "print(type(a))\n",
        "print(type(s))\n",
        "print(type(d))"
      ],
      "metadata": {
        "colab": {
          "base_uri": "https://localhost:8080/"
        },
        "id": "-lrxq_rxkKet",
        "outputId": "1b4bb46f-beff-482c-a62d-40c4fdf70c55"
      },
      "execution_count": 28,
      "outputs": [
        {
          "output_type": "stream",
          "name": "stdout",
          "text": [
            "<class 'str'>\n",
            "<class 'dict'>\n",
            "<class 'float'>\n",
            "<class 'complex'>\n",
            "<class 'list'>\n",
            "<class 'tuple'>\n",
            "<class 'range'>\n",
            "<class 'dict'>\n",
            "<class 'set'>\n",
            "<class 'frozenset'>\n",
            "<class 'bool'>\n",
            "<class 'bytes'>\n",
            "<class 'bytearray'>\n",
            "<class 'memoryview'>\n",
            "<class 'NoneType'>\n"
          ]
        }
      ]
    },
    {
      "cell_type": "code",
      "source": [
        "x = -35.29\n",
        "print(x)\n",
        "print(type(x))\n",
        "x = int(1)\n",
        "y = int(2.9)\n",
        "z = int(\"3\")\n",
        "print(x)\n",
        "print(y)\n",
        "print(z)"
      ],
      "metadata": {
        "colab": {
          "base_uri": "https://localhost:8080/"
        },
        "id": "vX67FHqQnIXk",
        "outputId": "9da30adb-733c-429c-f111-4e0f9027836b"
      },
      "execution_count": 31,
      "outputs": [
        {
          "output_type": "stream",
          "name": "stdout",
          "text": [
            "-35.29\n",
            "<class 'float'>\n"
          ]
        }
      ]
    },
    {
      "cell_type": "code",
      "source": [
        "x = float(1)\n",
        "y = float(2.8)\n",
        "z = float(\"3\")\n",
        "w = float(\"5.2\")\n",
        "print(x)\n",
        "print(y)\n",
        "print(z)\n",
        "print(w)"
      ],
      "metadata": {
        "colab": {
          "base_uri": "https://localhost:8080/"
        },
        "id": "UNqz-mEWnTOZ",
        "outputId": "f698cfad-2420-4e3b-9eba-ead799dfa079"
      },
      "execution_count": 36,
      "outputs": [
        {
          "output_type": "stream",
          "name": "stdout",
          "text": [
            "1.0\n",
            "2.8\n",
            "3.0\n",
            "5.2\n"
          ]
        }
      ]
    },
    {
      "cell_type": "code",
      "source": [
        "a = \"\"\"Lore ipsum dolor sit amet,\n",
        "consectetur adipiscing elit,\n",
        "sed do eiusmod tempor incididunt ut labore et dolore magna aliqua.\"\"\"\n",
        "print(a)\n",
        "a = '''lore Ipsum dolor sit amet,\n",
        "consectetur adipiscing dlit, sed do eiusmod tempor incididunt\n",
        "ut labore et dolore magna aliqua.'''\n",
        "print(a)"
      ],
      "metadata": {
        "colab": {
          "base_uri": "https://localhost:8080/"
        },
        "id": "_ycdWVQSndZo",
        "outputId": "bd3cc02d-68d0-409f-bd6a-c6a8b6da5551"
      },
      "execution_count": 39,
      "outputs": [
        {
          "output_type": "stream",
          "name": "stdout",
          "text": [
            "Lore ipsum dolor sit amet,\n",
            "consectetur adipiscing elit,\n",
            "sed do eiusmod tempor incididunt ut labore et dolore magna aliqua.\n",
            "lore Ipsum dolor sit amet,\n",
            "consectetur adipiscing dlit, sed do eiusmod tempor incididunt\n",
            "ut labore et dolore magna aliqua.\n"
          ]
        }
      ]
    },
    {
      "cell_type": "code",
      "source": [
        "b = \"Hello World\"\n",
        "print(b[2:5])\n",
        "print(b[:5])\n",
        "print(b[2:])\n",
        "print(b[-5:-2])"
      ],
      "metadata": {
        "id": "_bmzIJ7moTe2",
        "outputId": "75186908-2b17-487e-8c48-4427eee545e0",
        "colab": {
          "base_uri": "https://localhost:8080/"
        }
      },
      "execution_count": 45,
      "outputs": [
        {
          "output_type": "stream",
          "name": "stdout",
          "text": [
            "llo\n",
            "Hello\n",
            "llo World\n",
            "Wor\n"
          ]
        }
      ]
    },
    {
      "cell_type": "code",
      "source": [
        "a = \"Hello world\"\n",
        "print(a.upper())\n",
        "print(a.lower())\n",
        "print(a.strip())"
      ],
      "metadata": {
        "id": "HH-01a-0pC-D",
        "outputId": "8e721c5e-1f0e-411f-bd4d-4f42c9d2e3a9",
        "colab": {
          "base_uri": "https://localhost:8080/"
        }
      },
      "execution_count": 49,
      "outputs": [
        {
          "output_type": "stream",
          "name": "stdout",
          "text": [
            "HELLO WORLD\n",
            "hello world\n",
            "Hello world\n"
          ]
        }
      ]
    },
    {
      "cell_type": "code",
      "source": [
        "a = \"Hello\"\n",
        "b = \"World\"\n",
        "c = a + b\n",
        "print(c)\n",
        "\n",
        "c = a + \" \" + b\n",
        "print(c)"
      ],
      "metadata": {
        "id": "uzm8DZ2nrrd2",
        "outputId": "a50521d9-398b-4831-8aa8-f1acfbb33903",
        "colab": {
          "base_uri": "https://localhost:8080/"
        }
      },
      "execution_count": 51,
      "outputs": [
        {
          "output_type": "stream",
          "name": "stdout",
          "text": [
            "HelloWorld\n",
            "Hello World\n"
          ]
        }
      ]
    },
    {
      "cell_type": "code",
      "source": [
        "age = 26\n",
        "txt = f\"My name is Hogeun, I am {age}\"\n",
        "print(txt)\n",
        "price = 59\n",
        "txt = f\"The Price is {price} dollars\"\n",
        "print(txt)\n",
        "txt = f\"The price is {20 * 59} dollars\"\n",
        "print(txt)"
      ],
      "metadata": {
        "id": "ifnG6qPar4q7",
        "outputId": "275f68a4-cf85-42eb-c075-37f87718717d",
        "colab": {
          "base_uri": "https://localhost:8080/"
        }
      },
      "execution_count": 55,
      "outputs": [
        {
          "output_type": "stream",
          "name": "stdout",
          "text": [
            "My name is Hogeun, I am 26\n",
            "The Price is 59 dollars\n",
            "The price is 1180 dollars\n"
          ]
        }
      ]
    },
    {
      "cell_type": "code",
      "source": [
        "txt = \"We are the so-called \\\"Vikings\\\" from the north.\"\n",
        "print(txt)\n",
        "txt = \"We are the so-called \\'Vikings\\' from the north.\"\n",
        "print(txt)\n",
        "txt = \"We are the so-called \\\\Vikings\\\\ from the north.\"\n",
        "print(txt)\n",
        "txt = \"We are the so-called \\nVikings\\n from the north.\"\n",
        "print(txt)\n",
        "#Carriage Return\n",
        "txt = \"We are the so-called \\rVikings\\r from the north.\"\n",
        "print(txt)\n",
        "txt = \"We are the so-called \\tVikings\\t from the north.\"\n",
        "print(txt)\n",
        "txt = \"We are the so-called \\bVikings\\b from the north.\"\n",
        "print(txt)\n",
        "txt = \"We are the so-called \\fVikings\\f from the north.\"\n",
        "print(txt)"
      ],
      "metadata": {
        "id": "Cja2XtzxsZ2d",
        "outputId": "f64d6405-4c29-4ed8-a8b2-4261c1976cc5",
        "colab": {
          "base_uri": "https://localhost:8080/"
        }
      },
      "execution_count": 70,
      "outputs": [
        {
          "output_type": "stream",
          "name": "stdout",
          "text": [
            "We are the so-called \"Vikings\" from the north.\n",
            "We are the so-called 'Vikings' from the north.\n",
            "We are the so-called \\Vikings\\ from the north.\n",
            "We are the so-called \n",
            "Vikings\n",
            " from the north.\n",
            "We are the so-called \rVikings\r from the north.\n",
            "We are the so-called \tVikings\t from the north.\n",
            "We are the so-called \bVikings\b from the north.\n",
            "We are the so-called \fVikings\f from the north.\n",
            "We are the so-called \\oooVikings from the north.\n"
          ]
        }
      ]
    },
    {
      "cell_type": "code",
      "source": [
        "txt = \"We are the so-called Vikings from the north.\"\n",
        "print(txt.capitalize())\n",
        "txt = \"We are the so-called Vikings from the north.\"\n",
        "print(txt.casefold())"
      ],
      "metadata": {
        "id": "mWyaePqJthQq",
        "outputId": "9905ecd3-a1cb-44c7-8bd6-0e29a465e510",
        "colab": {
          "base_uri": "https://localhost:8080/"
        }
      },
      "execution_count": 75,
      "outputs": [
        {
          "output_type": "stream",
          "name": "stdout",
          "text": [
            "We are the so-called vikings from the north.\n",
            "we are the so-called vikings from the north.\n"
          ]
        }
      ]
    }
  ],
  "metadata": {
    "colab": {
      "name": "Colab 시작하기",
      "provenance": [],
      "include_colab_link": true
    },
    "kernelspec": {
      "display_name": "Python 3",
      "name": "python3"
    }
  },
  "nbformat": 4,
  "nbformat_minor": 0
}