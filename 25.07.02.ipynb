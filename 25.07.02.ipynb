{
  "cells": [
    {
      "cell_type": "markdown",
      "metadata": {
        "id": "view-in-github",
        "colab_type": "text"
      },
      "source": [
        "<a href=\"https://colab.research.google.com/github/KwonHo-geun/automobile/blob/main/25.07.02.ipynb\" target=\"_parent\"><img src=\"https://colab.research.google.com/assets/colab-badge.svg\" alt=\"Open In Colab\"/></a>"
      ]
    },
    {
      "cell_type": "markdown",
      "source": [
        "1번 문제 - https://claude.ai/public/artifacts/ecfa16b4-2106-4e7b-a637-a17f20eb3126"
      ],
      "metadata": {
        "id": "0rXv-3YUYq3R"
      }
    },
    {
      "cell_type": "code",
      "source": [
        "def init_sensors():\n",
        "  sensors = {\n",
        "  \"front\" : 15.0,\n",
        "  \"left\" : 15.0,\n",
        "  \"right\" : 15.0\n",
        "  }\n",
        "\n",
        "\n",
        "  return sensors\n",
        "\n",
        "if __name__ == \"__main__\":\n",
        "  print(\"센서 시작\")\n",
        "  print(\"-\"*30)\n",
        "  sensors = init_sensors()\n",
        "  print(sensors)"
      ],
      "metadata": {
        "id": "hW-twHpEXYPo",
        "outputId": "5fbb06be-2310-41c2-8ea7-03bf6db2cd1a",
        "colab": {
          "base_uri": "https://localhost:8080/"
        }
      },
      "execution_count": null,
      "outputs": [
        {
          "output_type": "stream",
          "name": "stdout",
          "text": [
            "센서 시작\n",
            "------------------------------\n",
            "{'front': 15.0, 'left': 15.0, 'right': 15.0}\n"
          ]
        }
      ]
    },
    {
      "cell_type": "code",
      "source": [
        "#return문을 넣지 않을 경우 print(sensors)를 해도 안됨.\n",
        "#return의 의미는 호출한 함수의 결과값을 대처한다고 생각하면 된다.\n",
        "def init_sensors():\n",
        "  sensors = {\n",
        "  \"front\" : 15.0,\n",
        "  \"left\" : 15.0,\n",
        "  \"right\" : 15.0\n",
        "  }\n",
        "\n",
        "  print(sensors)\n",
        "\n",
        "if __name__ == \"__main__\":\n",
        "  print(\"센서 시작\")\n",
        "  print(\"-\"*30)\n",
        "  #sensors = init_sensors()\n",
        "  #print(sensors)"
      ],
      "metadata": {
        "id": "NAG4qbJEdBVH",
        "outputId": "8b1f05c6-b7cc-432d-9ed1-b6fdc209f413",
        "colab": {
          "base_uri": "https://localhost:8080/"
        }
      },
      "execution_count": null,
      "outputs": [
        {
          "output_type": "stream",
          "name": "stdout",
          "text": [
            "센서 시작\n",
            "------------------------------\n"
          ]
        }
      ]
    },
    {
      "cell_type": "markdown",
      "source": [
        "2번 문제 - https://claude.ai/public/artifacts/2bacfb57-fa54-46bf-bd52-f4d858b045a4"
      ],
      "metadata": {
        "id": "-YDKf_t1dmRl"
      }
    },
    {
      "cell_type": "code",
      "source": [
        "def scan_front(x, y, obstacles, sensors):\n",
        "  sensors = {\n",
        "      \"front\" : 15.0,\n",
        "      \"left\" : 15.0,\n",
        "      \"right\" : 15.0\n",
        "  }\n",
        "  print(\"2-04 앞쪽 스캔 시작\")\n",
        "\n",
        "  if(x, y+1) in obstacles:\n",
        "    print(\"2-06 앞쪽 1칸 장애물 발견\")\n",
        "    sensors[\"front\"] = 1.0\n",
        "  elif(x, y+2) in obstacles:\n",
        "    print(\"2-10 앞쪽 2칸 장애물 발견\")\n",
        "    sensors[\"front\"] = 2.0\n",
        "  elif(x, y+3) in obstacles:\n",
        "    print(\"2-13 앞쪽 3칸 장애물 발견\")\n",
        "    sensors[\"front\"] = 3.0\n",
        "  else:\n",
        "    print(\"2-15 앞쪽 장애물 없음\")\n",
        "    sensors[\"front\"] = 15.0\n",
        "  return sensors\n",
        "\n",
        "\"\"\"\n",
        "if __name__ == \"__main__\":\n",
        "  print(\"센서 시작\")\n",
        "  print(\"-\"*30)\n",
        "  sensors = scan_front(1, 1, [], {})\n",
        "  print(sensors)\n",
        "\"\"\""
      ],
      "metadata": {
        "id": "s_1AIFi2dn9T",
        "outputId": "37a30579-bee9-4c2f-9a74-635c3f02aa5e",
        "colab": {
          "base_uri": "https://localhost:8080/"
        }
      },
      "execution_count": null,
      "outputs": [
        {
          "output_type": "stream",
          "name": "stdout",
          "text": [
            "센서 시작\n",
            "------------------------------\n",
            "2-04 앞쪽 스캔 시작\n",
            "2-15 앞쪽 장애물 없음\n",
            "{'front': 15.0, 'left': 15.0, 'right': 15.0}\n"
          ]
        }
      ]
    },
    {
      "cell_type": "markdown",
      "source": [
        "3번 왼쪽 스캔 - https://claude.ai/public/artifacts/0bd88961-bc8c-43b4-b40b-aa0a27fe96df"
      ],
      "metadata": {
        "id": "ddrOupeOjyP-"
      }
    },
    {
      "cell_type": "code",
      "source": [
        "#왼쪽\n",
        "def scan_left(x, y, obstacles, sensors):\n",
        "    sensors = {\n",
        "        \"front\": 15.0,\n",
        "        \"left\": 15.0,\n",
        "        \"right\": 15.0\n",
        "    }\n",
        "    print(\"3-04 왼쪽 스캔 시작\")\n",
        "\n",
        "    # 장애물 좌표 검사 (튜플 사용)\n",
        "    if (x-1, y) in obstacles:\n",
        "        print(\"3-06 왼쪽 1칸 장애물 발견\")\n",
        "        sensors[\"left\"] = 1.0\n",
        "    elif (x-2, y) in obstacles:\n",
        "        print(\"3-10 왼쪽 2칸 장애물 발견\")\n",
        "        sensors[\"left\"] = 2.0\n",
        "    elif (x-3, y) in obstacles:\n",
        "        print(\"3-13 왼쪽 3칸 장애물 발견\")\n",
        "        sensors[\"left\"] = 3.0\n",
        "    else:\n",
        "        print(\"3-15 왼쪽 장애물 없음\")\n",
        "        sensors[\"left\"] = 15.0\n",
        "    print(\"3-21 오른쪽 스캔 완료\")\n",
        "    print(\"오른쪽 스캔 함수 종료\")\n",
        "\n",
        "    return sensors\n",
        "\n",
        "#오른쪽\n",
        "def scan_right(x, y, obstacles, sensors):\n",
        "  sensors = {\n",
        "      \"front\" : 15.0,\n",
        "      \"left\" : 15.0,\n",
        "      \"right\" : 15.0\n",
        "  }\n",
        "  print(\"3-16 오른쪽 스캔 시작\")\n",
        "\n",
        "  #장애물 좌표 검사(튜플 사용)\n",
        "\n",
        "  if (x+1, y) in obstacles:\n",
        "    print(\"3-17 오른쪽 1칸 장애물 발견\")\n",
        "    sensors[\"right\"] = 1.0\n",
        "  elif(x+2, y) in obstacles:\n",
        "    print(\"3-18 오른쪽 2칸 장애물 발견\")\n",
        "    sensors[\"right\"] = 2.0\n",
        "  elif(x+3, y) in obstacles:\n",
        "    print(\"3-19 오른쪽 3칸 장애물 발견\")\n",
        "    sensors[\"right\"] = 3.0\n",
        "  else:\n",
        "    print(\"3-20 오른쪽 장애물 없음\")\n",
        "\n",
        "  print(\"3-21 오른쪽 스캔 완료\")\n",
        "  print(\"오른쪽 스캔 함수 종료\")\n",
        "\n",
        "  return sensors\n",
        "\n",
        "\n",
        "\"\"\"\n",
        "if __name__ == \"__main__\":\n",
        "    print(\"센서 시작\")\n",
        "    print(\"-\" * 30)\n",
        "\n",
        "    # 장애물 리스트: (x, y) 튜플로 구성\n",
        "    obstacles = [(-2, 0), (-3, 0)]  # 올바른 형식\n",
        "\n",
        "    # 함수 호출 (sensors 인자 제거)\n",
        "    result_sensors = scanf_left(0, 0, obstacles)\n",
        "    print(result_sensors)\n",
        "\"\"\""
      ],
      "metadata": {
        "id": "SdZaND1zj9Af",
        "outputId": "361e4dfe-c186-4bd7-fa24-a2b5727c3882",
        "colab": {
          "base_uri": "https://localhost:8080/"
        }
      },
      "execution_count": null,
      "outputs": [
        {
          "output_type": "stream",
          "name": "stdout",
          "text": [
            "센서 시작\n",
            "------------------------------\n",
            "3-04 왼쪽 스캔 시작\n",
            "3-10 왼쪽 2칸 장애물 발견\n",
            "{'front': 15.0, 'left': 2.0, 'right': 15.0}\n"
          ]
        }
      ]
    },
    {
      "cell_type": "markdown",
      "source": [
        "5번 문제 - https://claude.ai/public/artifacts/0071fea5-0417-4ac3-b753-5e47ea108c2a"
      ],
      "metadata": {
        "id": "OwR5eKJ1mBB1"
      }
    },
    {
      "cell_type": "code",
      "source": [
        "def update_sensor_data(position, obstacles):\n",
        "  print(\"5-4함수 시작\")\n",
        "  x = position[0]\n",
        "  y = position[1]\n",
        "\n",
        "  print(f\"5-6 위치 추출 완료 현재 x, y값 x:{} / y:{y}\")\n",
        "  sensors = init_sensors()\n",
        "\n",
        "  print(\"front 스캔 호출 - 앞쪽 1~3칸 장애물 검사\")\n",
        "  scan_front(x, y, obstacles, sensors)\n",
        "  print(\"left 스캔 호출 - 왼쪽 1~3칸 장애물 검사\")\n",
        "  scan_left(x, y, obstacles, sensors)\n",
        "  print(\"right 스캔 호출 - 오른쪽 1~3칸 장애물 검사\")\n",
        "  scan_right(x, y, obstacles, sensors)\n",
        "\n",
        "  print(\"5-17 센서 업데이틍 완료\")\n",
        "  print(\"=*30\")\n",
        "  print(f\"x : {x} / y : {y}\")\n",
        "\n",
        "  return sensors"
      ],
      "metadata": {
        "id": "FZF3KQaUk5-v"
      },
      "execution_count": null,
      "outputs": []
    },
    {
      "cell_type": "markdown",
      "source": [
        "6번 문제 - https://claude.ai/public/artifacts/27051f81-4a36-4075-8d2b-ec7199d9a7fb"
      ],
      "metadata": {
        "id": "ZCokdx39nkRw"
      }
    },
    {
      "cell_type": "code",
      "source": [
        "def detect_obstacles(sensors, safe_distance):\n",
        "  print(\"6-4 함수 시작\")\n",
        "  print(f\"6-5 입력 데이터 출력 sensor : {sensor} / safe_distance : {safe_distance}\")\n",
        "\n",
        "  obstacles = []\n",
        "\n",
        "  #items = 리스트 아이템 튜플\n",
        "  for direction, distance in sensors.items():\n",
        "    print(\"6-9 현재 방향과 거리 체크\")\n",
        "    if distance < safe_distance:\n",
        "      #list 추가\n",
        "      obstacles.append(direction)\n",
        "      print(\"6-12 위험! 목록추가\")\n",
        "    else:\n",
        "      print(\"6-14 안전\")\n",
        "\n",
        "  print(\"6-16 장애물 감지 완료\")\n",
        "  print(f\"obstacles : {obstacles}\")\n",
        "\n",
        "  return obstacles"
      ],
      "metadata": {
        "id": "Xlc__Lp9npYm"
      },
      "execution_count": null,
      "outputs": []
    },
    {
      "cell_type": "markdown",
      "source": [
        "7번 문제 - https://claude.ai/public/artifacts/13112488-2160-4216-8845-4187a58f746c"
      ],
      "metadata": {
        "id": "27F4aXKzqzMC"
      }
    },
    {
      "cell_type": "code",
      "source": [
        "def decide_action():\n",
        "\n",
        "  if"
      ],
      "metadata": {
        "id": "cdWXxk2wqye4"
      },
      "execution_count": null,
      "outputs": []
    }
  ],
  "metadata": {
    "colab": {
      "name": "Colab 시작하기",
      "toc_visible": true,
      "provenance": [],
      "include_colab_link": true
    },
    "kernelspec": {
      "display_name": "Python 3",
      "name": "python3"
    }
  },
  "nbformat": 4,
  "nbformat_minor": 0
}