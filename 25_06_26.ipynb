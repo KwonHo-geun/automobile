{
  "nbformat": 4,
  "nbformat_minor": 0,
  "metadata": {
    "colab": {
      "provenance": [],
      "authorship_tag": "ABX9TyPopsCHTx5nu7CU7HQjkxxI",
      "include_colab_link": true
    },
    "kernelspec": {
      "name": "python3",
      "display_name": "Python 3"
    },
    "language_info": {
      "name": "python"
    }
  },
  "cells": [
    {
      "cell_type": "markdown",
      "metadata": {
        "id": "view-in-github",
        "colab_type": "text"
      },
      "source": [
        "<a href=\"https://colab.research.google.com/github/KwonHo-geun/automobile/blob/main/25_06_26.ipynb\" target=\"_parent\"><img src=\"https://colab.research.google.com/assets/colab-badge.svg\" alt=\"Open In Colab\"/></a>"
      ]
    },
    {
      "cell_type": "markdown",
      "source": [
        "센서 데이터 모니터링 시스템"
      ],
      "metadata": {
        "id": "NeSCGdGE76G1"
      }
    },
    {
      "cell_type": "code",
      "execution_count": 6,
      "metadata": {
        "colab": {
          "base_uri": "https://localhost:8080/"
        },
        "id": "Nlfr_xgu5s1e",
        "outputId": "f90e2e40-ac52-4996-f16b-1d8e59df1463"
      },
      "outputs": [
        {
          "output_type": "stream",
          "name": "stdout",
          "text": [
            "⚠️ 카메라 데이터 이상 감지! 점검 필요\n",
            "⚠️ 차선 정보 이상 감지! 점검 필요\n",
            "⚠️ 교통 표지판 이상 감지! 점검 필요\n",
            "⚠️ 라이다 포인트 이상 감지! 점검 필요\n",
            "⚠️ 장애물 이상 감지! 점검 필요\n",
            "✅ GPS 위도 정상 작동\n",
            "✅ GPS 경도 정상 작동\n",
            "✅ GPS 고도 정상 작동\n"
          ]
        }
      ],
      "source": [
        "# 변수 초기화\n",
        "camera_data = None\n",
        "lane_lines = []\n",
        "traffic_signs = []\n",
        "lidar_points = []\n",
        "obstacles = []\n",
        "gps_lat, gps_lon = 0.0, 0.0\n",
        "gps_altitude = 0.0\n",
        "\n",
        "# 모든 센서 변수를 리스트로 관리\n",
        "sensor_vars = [\n",
        "    camera_data, lane_lines, traffic_signs,\n",
        "    lidar_points, obstacles, gps_lat, gps_lon, gps_altitude\n",
        "]\n",
        "\n",
        "# 센서 이름 리스트\n",
        "sensor_names = [\n",
        "    \"카메라 데이터\", \"차선 정보\", \"교통 표지판\",\n",
        "    \"라이다 포인트\", \"장애물\", \"GPS 위도\", \"GPS 경도\", \"GPS 고도\"\n",
        "]\n",
        "\n",
        "# 센서 상태 점검\n",
        "for idx, (sensor, name) in enumerate(zip(sensor_vars, sensor_names)):\n",
        "    if sensor is None or (isinstance(sensor, list) and len(sensor) == 0):\n",
        "        print(f\"⚠️ {name} 이상 감지! 점검 필요\")\n",
        "    else:\n",
        "        print(f\"✅ {name} 정상 작동\")\n"
      ]
    },
    {
      "cell_type": "markdown",
      "source": [
        "동적 안전 거리 제어 시스템"
      ],
      "metadata": {
        "id": "6PnRH1KK8ECP"
      }
    },
    {
      "cell_type": "code",
      "source": [
        "# 변수 초기화\n",
        "collision_detected = False\n",
        "safety_distance = 5.0\n",
        "emergency_brake = False\n",
        "nearby_vehicles = [{\"distance\": 8.0}, {\"distance\": 12.0}]\n",
        "weather_condition = \"RAIN\"\n",
        "front_vehicle_distance = min([v['distance'] for v in nearby_vehicles]) if nearby_vehicles else float('inf')\n",
        "\n",
        "# 안전 변수 리스트\n",
        "safety_params = [collision_detected, safety_distance, emergency_brake]\n",
        "\n",
        "# 주변 차량 거리 기반 안전 제어\n",
        "if nearby_vehicles:\n",
        "    # 안전 거리 계산: 날씨 가중치 적용\n",
        "    weather_factor = 1.5 if weather_condition == \"RAIN\" else 1.0\n",
        "    adjusted_safety_dist = safety_distance * weather_factor\n",
        "\n",
        "    if front_vehicle_distance < adjusted_safety_dist:\n",
        "        print(f\"🚨 안전 거리 미달: {front_vehicle_distance:.1f}m | 감속 시작\")\n",
        "        max_deceleration = -6.0\n",
        "    elif collision_detected:\n",
        "        print(\"❗ 비상 충돌 감지 | 긴급 제동 활성화\")\n",
        "        emergency_brake = True\n"
      ],
      "metadata": {
        "id": "D_T9odac8DeR"
      },
      "execution_count": 10,
      "outputs": []
    },
    {
      "cell_type": "markdown",
      "source": [
        "주행 모드 전환 시스템"
      ],
      "metadata": {
        "id": "VZg4uBQZ74PE"
      }
    },
    {
      "cell_type": "code",
      "source": [
        "# 변수 초기화\n",
        "driving_mode = \"EMERGENCY\"\n",
        "autonomous_mode = True\n",
        "turning_radius = 5.0\n",
        "max_acceleration = 3.0\n",
        "\n",
        "# 주행 모드 우선순위 리스트\n",
        "mode_priority = [\"EMERGENCY\", \"PARKING\", \"NORMAL\"]\n",
        "\n",
        "# 모드 전환 결정\n",
        "for mode in mode_priority:\n",
        "    if driving_mode == mode:\n",
        "        if mode == \"EMERGENCY\":\n",
        "            print(\"🛑 비상 모드: 즉시 정지\")\n",
        "            max_acceleration = 0\n",
        "        elif mode == \"PARKING\" and autonomous_mode:\n",
        "            print(\"🅿️ 주차 모드: 최대 회전 반경 적용\")\n",
        "            turning_radius = 3.0\n",
        "        elif mode == \"NORMAL\":\n",
        "            print(\"🚙 일반 주행: 가속도 최대치 설정\")\n",
        "            max_acceleration = 3.0\n",
        "        break\n"
      ],
      "metadata": {
        "colab": {
          "base_uri": "https://localhost:8080/"
        },
        "id": "yZy78Xz85vxA",
        "outputId": "6e76b1e8-7b50-4f50-88d0-d0f52476a60e"
      },
      "execution_count": 8,
      "outputs": [
        {
          "output_type": "stream",
          "name": "stdout",
          "text": [
            "🛑 비상 모드: 즉시 정지\n"
          ]
        }
      ]
    },
    {
      "cell_type": "markdown",
      "source": [
        "환경 조건 기반 속도제어"
      ],
      "metadata": {
        "id": "Pd5JutyT70au"
      }
    },
    {
      "cell_type": "code",
      "source": [
        "# 변수 초기화\n",
        "weather_condition = \"RAIN\"\n",
        "road_condition = \"WET\"\n",
        "visibility = 45.0\n",
        "traffic_light_state = \"GREEN\"\n",
        "speed_limit = 50.0\n",
        "\n",
        "# 환경 변수 매핑\n",
        "env_factors = {\n",
        "    \"weather\": weather_condition,\n",
        "    \"road\": road_condition,\n",
        "    \"visibility\": visibility,\n",
        "    \"traffic_light\": traffic_light_state\n",
        "}\n",
        "\n",
        "# 속도 제한 계산\n",
        "speed_factor = 1.0\n",
        "if env_factors[\"weather\"] == \"RAIN\":\n",
        "    speed_factor *= 0.7\n",
        "if env_factors[\"road\"] == \"WET\":\n",
        "    speed_factor *= 0.8\n",
        "if env_factors[\"visibility\"] < 50:\n",
        "    speed_factor *= 0.6\n",
        "\n",
        "adjusted_speed_limit = speed_limit * speed_factor\n",
        "print(f\"🌧️ 환경 기반 속도 제한: {adjusted_speed_limit:.1f}km/h 적용\")\n",
        "\n"
      ],
      "metadata": {
        "colab": {
          "base_uri": "https://localhost:8080/"
        },
        "id": "qQm7yNOQ5xOP",
        "outputId": "059f6ee9-b69f-4ef8-c83f-662793f1ca9e"
      },
      "execution_count": 9,
      "outputs": [
        {
          "output_type": "stream",
          "name": "stdout",
          "text": [
            "🌧️ 환경 기반 속도 제한: 16.8km/h 적용\n"
          ]
        }
      ]
    },
    {
      "cell_type": "markdown",
      "source": [
        "물리적 제한 조건 시뮬레이션"
      ],
      "metadata": {
        "id": "AQwJ6EVR8IqV"
      }
    },
    {
      "cell_type": "code",
      "source": [
        "# 변수 초기화\n",
        "vehicle_length = 4.5\n",
        "vehicle_width = 1.8\n",
        "wheelbase = 2.7\n",
        "max_acceleration = 3.0\n",
        "max_deceleration = -8.0\n",
        "turning_radius = 5.0\n",
        "current_time = 0.0\n",
        "dt = 0.1\n",
        "simulation_time = 0.0\n",
        "\n",
        "# 차량 물리적 특성 리스트\n",
        "vehicle_specs = [\n",
        "    vehicle_length, vehicle_width, wheelbase,\n",
        "    max_acceleration, max_deceleration, turning_radius\n",
        "]\n",
        "\n",
        "# 시간 경과에 따른 차량 동작 시뮬레이션\n",
        "for t in range(1, 6):\n",
        "    current_time += dt\n",
        "    simulation_time = current_time\n",
        "\n",
        "    # 가속/감속 패턴 계산\n",
        "    if simulation_time < 3.0:\n",
        "        acceleration = min(max_acceleration, 2.0 * simulation_time)\n",
        "        print(f\"⏱️ [T+{simulation_time:.1f}s] 가속: {acceleration:.1f}m/s²\")\n",
        "    else:\n",
        "        deceleration = max(max_deceleration, -4.0 * (simulation_time - 3))\n",
        "        print(f\"⏱️ [T+{simulation_time:.1f}s] 감속: {deceleration:.1f}m/s²\")\n"
      ],
      "metadata": {
        "colab": {
          "base_uri": "https://localhost:8080/"
        },
        "id": "kPiawQ2c5xCR",
        "outputId": "c2a87a51-3f2d-4ff1-8879-f611f41dd500"
      },
      "execution_count": 11,
      "outputs": [
        {
          "output_type": "stream",
          "name": "stdout",
          "text": [
            "⏱️ [T+0.1s] 가속: 0.2m/s²\n",
            "⏱️ [T+0.2s] 가속: 0.4m/s²\n",
            "⏱️ [T+0.3s] 가속: 0.6m/s²\n",
            "⏱️ [T+0.4s] 가속: 0.8m/s²\n",
            "⏱️ [T+0.5s] 가속: 1.0m/s²\n"
          ]
        }
      ]
    },
    {
      "cell_type": "code",
      "source": [],
      "metadata": {
        "id": "ciYjvzJX5wl1"
      },
      "execution_count": null,
      "outputs": []
    }
  ]
}