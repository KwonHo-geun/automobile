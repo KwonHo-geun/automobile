{
  "cells": [
    {
      "cell_type": "markdown",
      "metadata": {
        "id": "view-in-github",
        "colab_type": "text"
      },
      "source": [
        "<a href=\"https://colab.research.google.com/github/KwonHo-geun/automobile/blob/main/25.06.30.ipynb\" target=\"_parent\"><img src=\"https://colab.research.google.com/assets/colab-badge.svg\" alt=\"Open In Colab\"/></a>"
      ]
    },
    {
      "cell_type": "markdown",
      "source": [
        "Modules"
      ],
      "metadata": {
        "id": "Zfgh6932QPjU"
      }
    },
    {
      "cell_type": "code",
      "source": [
        "def wget(name):\n",
        "  print(\"Hello\", + name)\n",
        "\n",
        "person1 = {\n",
        "    \"name\" : \"John\",\n",
        "    \"age\" : 36,\n",
        "    \"country\" : \"Norway\"\n",
        "}\n",
        "\n",
        "a = person1[\"age\"]\n",
        "print(a)\n",
        "\n",
        "#Built-in Modules\n",
        "import platform\n",
        "\n",
        "x = dir(platform)\n",
        "print(x)"
      ],
      "metadata": {
        "colab": {
          "base_uri": "https://localhost:8080/"
        },
        "id": "EU5SVhuYF4K9",
        "outputId": "3d458498-c4cb-4dc2-9e08-6f9674ba856b"
      },
      "execution_count": 2,
      "outputs": [
        {
          "output_type": "stream",
          "name": "stdout",
          "text": [
            "36\n"
          ]
        }
      ]
    },
    {
      "cell_type": "markdown",
      "source": [
        "Data"
      ],
      "metadata": {
        "id": "veiVfCQ3HB8P"
      }
    },
    {
      "cell_type": "code",
      "source": [
        "import datetime\n",
        "x = datetime.datetime.now()\n",
        "print(x.year)\n",
        "print(x.strftime(\"%A\"))\n",
        "\n",
        "y = datetime.datetime(2026, 6, 12)\n",
        "print(y)\n",
        "print(y.strftime(\"%B\"))"
      ],
      "metadata": {
        "colab": {
          "base_uri": "https://localhost:8080/"
        },
        "id": "kynkFshTGGz5",
        "outputId": "ab6594ae-46bc-488d-9df8-398ab6dd92ac"
      },
      "execution_count": 12,
      "outputs": [
        {
          "output_type": "stream",
          "name": "stdout",
          "text": [
            "2025\n",
            "Monday\n",
            "2026-06-12 00:00:00\n",
            "June\n"
          ]
        }
      ]
    },
    {
      "cell_type": "markdown",
      "source": [
        "Math"
      ],
      "metadata": {
        "id": "dv7wWUP1Hnwm"
      }
    },
    {
      "cell_type": "code",
      "source": [
        "z = min(3, 6, 7)\n",
        "w = max(6, 7, 9)\n",
        "\n",
        "print(z)\n",
        "print(w)\n",
        "\n",
        "#절대값 변환\n",
        "q = abs(-7.26)\n",
        "print(q)\n",
        "\n",
        "#4 * 4 * 4 즉, 4는 값, 3은 몇번인지 유무\n",
        "e = pow(4,3)\n",
        "print(e)\n",
        "\n",
        "import math\n",
        "\n",
        "#root return value float\n",
        "x = math.sqrt(64)\n",
        "print(x)\n",
        "print(type(x))\n",
        "\n",
        "#올림\n",
        "x = math.ceil(1.4)\n",
        "#내\n",
        "y = math.floor(1.4)\n",
        "\n",
        "print(x)\n",
        "print(y)"
      ],
      "metadata": {
        "colab": {
          "base_uri": "https://localhost:8080/"
        },
        "id": "-7vKO-KwHmqN",
        "outputId": "974c92f8-a51e-49cc-a8c7-8e88849f722f"
      },
      "execution_count": 20,
      "outputs": [
        {
          "output_type": "stream",
          "name": "stdout",
          "text": [
            "3\n",
            "9\n",
            "7.26\n",
            "64\n",
            "8.0\n",
            "<class 'float'>\n",
            "2\n",
            "1\n"
          ]
        }
      ]
    },
    {
      "cell_type": "markdown",
      "source": [
        "JSON"
      ],
      "metadata": {
        "id": "IBwMQEthJ0Ln"
      }
    },
    {
      "cell_type": "code",
      "source": [
        "import json\n",
        "#Json 파싱\n",
        "x = '{\"name\" : \"hogeun\", \"age\" : 26, \"city\" : \"서곡리\"}'\n",
        "\n",
        "y = json.loads(x)\n",
        "print(y[\"age\"])\n",
        "\n",
        "#Dict ver\n",
        "z = {\n",
        "    \"name\" : \"kwon\",\n",
        "    \"age\" : 25,\n",
        "    \"city\" : \"seongbuk\"\n",
        "}\n",
        "\n",
        "a = json.dumps(z)\n",
        "print(a)\n",
        "\n",
        "#Json 문자열로 변환\n",
        "print(json.dumps({\"name\" : \"John\", \"age\" : 30}))\n",
        "print(json.dumps([\"apple\", \"bananas\"]))\n",
        "print(json.dumps((\"apple\", \"bananas\")))\n",
        "print(json.dumps(\"hello\"))\n",
        "print(json.dumps(42))\n",
        "print(json.dumps(31.76))\n",
        "print(json.dumps(True))\n",
        "print(json.dumps(False))\n",
        "print(json.dumps(None))\n",
        "\n",
        "x = {\n",
        "    \"name\" : \"John\",\n",
        "    \"age\" : 23,\n",
        "    \"married\" : True,\n",
        "    \"divorced\" : False,\n",
        "    \"children\" : (\"Anne\",\"Billy\"),\n",
        "    \"pets\" : None,\n",
        "    \"cars\":[\n",
        "        {\"model\" : \"BMW 230\", \"mpg\":27.5},\n",
        "        {\"model\" : \"Ford Edge\", \"mpg\":24.1}\n",
        "    ]\n",
        "}\n",
        "\n",
        "print(json.dumps(x))\n",
        "\n",
        "\n",
        "#Json Format result\n",
        "json.dumps(x, indent= 4)\n",
        "# .과 =로 구분할 수 있다.\n",
        "json.dumps(x, indent=4, separators=(\".\",\"=\"))\n",
        "#Json정렬여부 결정\n",
        "json.dumps(x, indent=4, sort_keys=True)"
      ],
      "metadata": {
        "colab": {
          "base_uri": "https://localhost:8080/",
          "height": 272
        },
        "id": "RKcTLBloJ1am",
        "outputId": "635e5861-a12b-4c1e-abb9-12da6a2aee16"
      },
      "execution_count": 38,
      "outputs": [
        {
          "output_type": "stream",
          "name": "stdout",
          "text": [
            "26\n",
            "{\"name\": \"kwon\", \"age\": 25, \"city\": \"seongbuk\"}\n",
            "{\"name\": \"John\", \"age\": 30}\n",
            "[\"apple\", \"bananas\"]\n",
            "[\"apple\", \"bananas\"]\n",
            "\"hello\"\n",
            "42\n",
            "31.76\n",
            "true\n",
            "false\n",
            "null\n",
            "{\"name\": \"John\", \"age\": 23, \"married\": true, \"divorced\": false, \"children\": [\"Anne\", \"Billy\"], \"pets\": null, \"cars\": [{\"model\": \"BMW 230\", \"mpg\": 27.5}, {\"model\": \"Ford Edge\", \"mpg\": 24.1}]}\n"
          ]
        },
        {
          "output_type": "execute_result",
          "data": {
            "text/plain": [
              "'{\\n    \"age\": 23,\\n    \"cars\": [\\n        {\\n            \"model\": \"BMW 230\",\\n            \"mpg\": 27.5\\n        },\\n        {\\n            \"model\": \"Ford Edge\",\\n            \"mpg\": 24.1\\n        }\\n    ],\\n    \"children\": [\\n        \"Anne\",\\n        \"Billy\"\\n    ],\\n    \"divorced\": false,\\n    \"married\": true,\\n    \"name\": \"John\",\\n    \"pets\": null\\n}'"
            ],
            "application/vnd.google.colaboratory.intrinsic+json": {
              "type": "string"
            }
          },
          "metadata": {},
          "execution_count": 38
        }
      ]
    },
    {
      "cell_type": "markdown",
      "source": [
        "re-정규표현식"
      ],
      "metadata": {
        "id": "IfmgqEHVPpnn"
      }
    },
    {
      "cell_type": "code",
      "source": [
        "import re\n",
        "txt = \"The rain in hoseounivercity\"\n",
        "x = re.search(\"^The.*hoseo$\", txt)\n",
        "print(x)\n",
        "\n",
        "#일치하는 텍스트 확인\n",
        "y = re.findall(\"ai\",txt)\n",
        "print(y)\n",
        "\n",
        "#일치하는 문장이 있는지\n",
        "z = re.search(\"Spain\",txt)\n",
        "print(z)\n",
        "\n",
        "#띄어쓰기가 몇번있었는지\n",
        "w = re.search(\"\\s\",txt)\n",
        "print(\"The first white-space character is located in position :\", w.start())\n",
        "\n",
        "#띄어쓰기 한 곳에 9 집어넣기\n",
        "e = re.sub(\"\\s\", \"9\", txt)\n",
        "print(e)\n",
        "\n",
        "#2번째 띄어쓰기 까지 9 넣기 0. 1. 2\n",
        "r = re.sub(\"\\s\", \"9\", txt, 2)\n",
        "print(r)\n",
        "\n",
        "t = re.search(r\"\\bT\\w+\",txt)\n",
        "print(t)\n",
        "\n",
        "u = re.search(r\"\\bT\\w+\", txt)\n",
        "print(u.group())"
      ],
      "metadata": {
        "colab": {
          "base_uri": "https://localhost:8080/"
        },
        "id": "uRWEMtINPxa2",
        "outputId": "f6d82de8-786a-467c-a5bf-cdec8645ec4c"
      },
      "execution_count": 53,
      "outputs": [
        {
          "output_type": "stream",
          "name": "stdout",
          "text": [
            "None\n",
            "['ai']\n",
            "None\n",
            "The first white-space character is located in position : 3\n",
            "The9rain9in9hoseounivercity\n",
            "The9rain9in hoseounivercity\n",
            "<re.Match object; span=(0, 3), match='The'>\n",
            "The\n"
          ]
        }
      ]
    },
    {
      "cell_type": "markdown",
      "source": [
        "pip - Python 패키지를 다운로드하여 사용할 수 있게 하는 것"
      ],
      "metadata": {
        "id": "Ig2a2PvHTfbk"
      }
    },
    {
      "cell_type": "code",
      "source": [
        "!pip install camelcase"
      ],
      "metadata": {
        "id": "K6eybof0UAnM"
      },
      "execution_count": null,
      "outputs": []
    },
    {
      "cell_type": "code",
      "source": [
        "\n",
        "import camelcase\n",
        "\n",
        "c = camelcase.CamelCase()\n",
        "\n",
        "txt = \"hello world\"\n",
        "print(c.hump(txt))"
      ],
      "metadata": {
        "colab": {
          "base_uri": "https://localhost:8080/"
        },
        "id": "jQGVXqAXTqSw",
        "outputId": "5568617f-4afe-47c7-ff02-2a3000009308"
      },
      "execution_count": 56,
      "outputs": [
        {
          "output_type": "stream",
          "name": "stdout",
          "text": [
            "Requirement already satisfied: camelcase in /usr/local/lib/python3.11/dist-packages (0.2)\n",
            "Hello World\n"
          ]
        }
      ]
    },
    {
      "cell_type": "markdown",
      "source": [
        "1번 문제"
      ],
      "metadata": {
        "id": "ownUr3c2Fxz8"
      }
    },
    {
      "cell_type": "code",
      "source": [
        "front = 8.0\n",
        "left = 15.0\n",
        "right = 4.0\n",
        "\n",
        "safe_distance = 10.0\n",
        "\n",
        "print(\"주행 시작\")\n",
        "\n",
        "obstacles = []\n",
        "\n",
        "for x in range(1):\n",
        "  if front < safe_distance:\n",
        "    obstacles.append(front)\n",
        "    print(\"장애물 확인\")\n",
        "  elif left < safe_distance:\n",
        "    obstacles.append(left)\n",
        "    print(\"장애물 확인\")\n",
        "  elif right < safe_distance:\n",
        "    obstacles.append(right)\n",
        "    print(\"장애물 확인\")\n",
        "\n",
        "print(obstacles)\n",
        "print(\"주행 종료\")"
      ],
      "metadata": {
        "colab": {
          "base_uri": "https://localhost:8080/"
        },
        "id": "SHZNI3xqQUAc",
        "outputId": "8abf0afe-f0af-406b-a1e8-bf37c98840c9"
      },
      "execution_count": null,
      "outputs": [
        {
          "output_type": "stream",
          "name": "stdout",
          "text": [
            "주행 시작\n",
            "장애물 확인\n",
            "[8.0]\n",
            "주행 종료\n"
          ]
        }
      ]
    },
    {
      "cell_type": "markdown",
      "source": [
        "답"
      ],
      "metadata": {
        "id": "QvvhLrf2Z6qv"
      }
    },
    {
      "cell_type": "code",
      "source": [
        "sensors = {\n",
        "    \"front\" : 8.0,\n",
        "    \"left\" : 15.0,\n",
        "    \"right\" : 4.0\n",
        "}\n",
        "safe_distance = 10.0\n",
        "\n",
        "def diclsion(sensors, safe_distance):\n",
        "  obstacles = []\n",
        "\n",
        "  for direction, distance in sensors.items():\n",
        "    if distance < safe_distance:\n",
        "      obstacles.append(direction)\n",
        "  return obstacles\n",
        "\n",
        "if __name__ == \"__main__\":\n",
        "  print(\"자율주행 장애물 감지 시스템\")\n",
        "  print(\"-\"*30)\n",
        "\n",
        "  ob = diclsion(sensors, safe_distance)\n",
        "  print(f\"감지된 장애물 : {ob}\")"
      ],
      "metadata": {
        "id": "6lNJfFLcgqNt"
      },
      "execution_count": null,
      "outputs": []
    },
    {
      "cell_type": "markdown",
      "source": [
        "2번 문제"
      ],
      "metadata": {
        "id": "PhdGWR71Q2Jf"
      }
    },
    {
      "cell_type": "code",
      "source": [
        "sensors = {\n",
        "    \"front\" : 8.0,\n",
        "    \"left\" : 15.0,\n",
        "    \"right\" : 4.0\n",
        "}\n",
        "safe_distance = 10\n",
        "\n",
        "obstacles = []\n",
        "\n",
        "\n",
        "print(\"주행 시작\")\n",
        "\n",
        "for x in range(len(sensors)):\n",
        "  if sensors[x] < safe_distance:\n",
        "    print(\"방향 추가\")\n",
        "\n",
        "  if obstacles[x] == 0:\n",
        "    print(\"직진\")\n",
        "  elif obstacles[x]\n",
        "\n",
        "\n",
        "print(obstacles)\n",
        "print(\"주행 종료\")\n",
        "#"
      ],
      "metadata": {
        "id": "NuaZPTDrSoIM"
      },
      "execution_count": null,
      "outputs": []
    },
    {
      "cell_type": "markdown",
      "source": [
        "답"
      ],
      "metadata": {
        "id": "t23ZS4x5X1zY"
      }
    },
    {
      "cell_type": "code",
      "source": [
        "sensors = {\n",
        "    \"front\" : 8.0,\n",
        "    \"left\" : 15.0,\n",
        "    \"right\" : 4.0\n",
        "}\n",
        "safe_distance = 10.0\n",
        "\n",
        "def diclsion(sensors, safe_distance):\n",
        "  obstacles = []\n",
        "\n",
        "  for direction, distance in sensors.items():\n",
        "    if distance < safe_distance:\n",
        "      obstacles.append(direction)\n",
        "\n",
        "\n",
        "  if len(obstacles) == 0:\n",
        "    print(\"action : 직진\")\n",
        "  elif \"front\" not in obstacles:\n",
        "    print(\"action : 주의해서 직진\")\n",
        "  elif (\"left\" not in obstacles) and (\"right\" not in obstacles):\n",
        "    print(\"action : 좌회전\")\n",
        "  elif (\"left\" in obstacles) and (\"right\" not in obstacles):\n",
        "    print(\"action : 우회전\")\n",
        "  elif (\"left\" not in obstacles) and (\"right\" in obstacles):\n",
        "    print(\"action : 좌회전\")\n",
        "\n",
        "  return obstacles\n",
        "\n",
        "if __name__ == \"__main__\":\n",
        "  print(\"자율주행 장애물 감지 시스템\")\n",
        "  print(\"-\"*30)\n",
        "\n",
        "  ob = diclsion(sensors, safe_distance)\n",
        "  print(f\"감지된 장애물 : {ob}\")\n",
        "  \"\"\"\n",
        "  if len(ob) == 0:\n",
        "    print(\"action : 직진\")\n",
        "  elif \"front\" not in ob:\n",
        "    print(\"action : 주의해서 직진\")\n",
        "  elif (\"left\" not in ob) and (\"right\" not in ob):\n",
        "    print(\"action : 좌회전\")\n",
        "  elif (\"left\" in ob) and (\"right\" not in ob):\n",
        "    print(\"action : 우회전\")\n",
        "  elif (\"left\" not in ob) and (\"right\" in ob):\n",
        "    print(\"action : 좌회전\")\n",
        "  \"\"\""
      ],
      "metadata": {
        "colab": {
          "base_uri": "https://localhost:8080/"
        },
        "id": "XLZgslfqX1RZ",
        "outputId": "6fa7ea53-54fe-4ae3-9e89-ddfbef631d8f"
      },
      "execution_count": null,
      "outputs": [
        {
          "output_type": "stream",
          "name": "stdout",
          "text": [
            "자율주행 장애물 감지 시스템\n",
            "------------------------------\n",
            "['front', 'right']\n",
            "action : 좌회전\n",
            "감지된 장애물 : ['front', 'right']\n"
          ]
        }
      ]
    },
    {
      "cell_type": "markdown",
      "source": [
        "3번 문제"
      ],
      "metadata": {
        "id": "dNOgAwNGU1Ak"
      }
    },
    {
      "cell_type": "code",
      "source": [
        "class AutonomousCar:\n",
        "  def __init__(self, name, location,sensors):\n",
        "    self.name = name\n",
        "    self.location = location\n",
        "    self.sensors = sensors\n",
        "\n",
        "\n",
        "obstacles = ['front','left','right']\n",
        "obstacles['front'] =\n",
        "obstacles['left'] =\n",
        "obstacles['right'] =\n",
        "\n",
        "\n"
      ],
      "metadata": {
        "id": "6nnWAEMSU3KP"
      },
      "execution_count": null,
      "outputs": []
    }
  ],
  "metadata": {
    "colab": {
      "name": "Colab 시작하기",
      "provenance": [],
      "include_colab_link": true
    },
    "kernelspec": {
      "display_name": "Python 3",
      "name": "python3"
    }
  },
  "nbformat": 4,
  "nbformat_minor": 0
}