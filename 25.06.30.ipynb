{
  "cells": [
    {
      "cell_type": "markdown",
      "metadata": {
        "id": "view-in-github",
        "colab_type": "text"
      },
      "source": [
        "<a href=\"https://colab.research.google.com/github/KwonHo-geun/automobile/blob/main/25.06.30.ipynb\" target=\"_parent\"><img src=\"https://colab.research.google.com/assets/colab-badge.svg\" alt=\"Open In Colab\"/></a>"
      ]
    },
    {
      "cell_type": "markdown",
      "source": [
        "06.30 시험\n",
        "\n",
        "1번 문제"
      ],
      "metadata": {
        "id": "Zfgh6932QPjU"
      }
    },
    {
      "cell_type": "code",
      "source": [
        "front = 8.0\n",
        "left = 15.0\n",
        "right = 4.0\n",
        "\n",
        "safe_distance = 10.0\n",
        "\n",
        "print(\"주행 시작\")\n",
        "\n",
        "obstacles = []\n",
        "\n",
        "for x in range(1):\n",
        "  if front < safe_distance:\n",
        "    obstacles.append(front)\n",
        "    print(\"장애물 확인\")\n",
        "  elif left < safe_distance:\n",
        "    obstacles.append(left)\n",
        "    print(\"장애물 확인\")\n",
        "  elif right < safe_distance:\n",
        "    obstacles.append(right)\n",
        "    print(\"장애물 확인\")\n",
        "\n",
        "print(obstacles)\n",
        "print(\"주행 종료\")"
      ],
      "metadata": {
        "colab": {
          "base_uri": "https://localhost:8080/"
        },
        "id": "SHZNI3xqQUAc",
        "outputId": "8abf0afe-f0af-406b-a1e8-bf37c98840c9"
      },
      "execution_count": 8,
      "outputs": [
        {
          "output_type": "stream",
          "name": "stdout",
          "text": [
            "주행 시작\n",
            "장애물 확인\n",
            "[8.0]\n",
            "주행 종료\n"
          ]
        }
      ]
    },
    {
      "cell_type": "markdown",
      "source": [
        "답"
      ],
      "metadata": {
        "id": "QvvhLrf2Z6qv"
      }
    },
    {
      "cell_type": "code",
      "source": [
        "sensors = {\n",
        "    \"front\" : 8.0,\n",
        "    \"left\" : 15.0,\n",
        "    \"right\" : 4.0\n",
        "}\n",
        "safe_distance = 10.0\n",
        "\n",
        "def diclsion(sensors, safe_distance):\n",
        "  obstacles = []\n",
        "\n",
        "  for direction, distance in sensors.items():\n",
        "    if distance < safe_distance:\n",
        "      obstacles.append(direction)\n",
        "  return obstacles\n",
        "\n",
        "if __name__ == \"__main__\":\n",
        "  print(\"자율주행 장애물 감지 시스템\")\n",
        "  print(\"-\"*30)\n",
        "\n",
        "  ob = diclsion(sensors, safe_distance)\n",
        "  print(f\"감지된 장애물 : {ob}\")"
      ],
      "metadata": {
        "id": "6lNJfFLcgqNt"
      },
      "execution_count": null,
      "outputs": []
    },
    {
      "cell_type": "markdown",
      "source": [
        "2번 문제"
      ],
      "metadata": {
        "id": "PhdGWR71Q2Jf"
      }
    },
    {
      "cell_type": "code",
      "source": [
        "sensors = {\n",
        "    \"front\" : 8.0,\n",
        "    \"left\" : 15.0,\n",
        "    \"right\" : 4.0\n",
        "}\n",
        "safe_distance = 10\n",
        "\n",
        "obstacles = []\n",
        "\n",
        "\n",
        "print(\"주행 시작\")\n",
        "\n",
        "for x in range(len(sensors)):\n",
        "  if sensors[x] < safe_distance:\n",
        "    print(\"방향 추가\")\n",
        "\n",
        "  if obstacles[x] == 0:\n",
        "    print(\"직진\")\n",
        "  elif obstacles[x]\n",
        "\n",
        "\n",
        "print(obstacles)\n",
        "print(\"주행 종료\")\n",
        "#"
      ],
      "metadata": {
        "id": "NuaZPTDrSoIM"
      },
      "execution_count": null,
      "outputs": []
    },
    {
      "cell_type": "markdown",
      "source": [
        "답"
      ],
      "metadata": {
        "id": "t23ZS4x5X1zY"
      }
    },
    {
      "cell_type": "code",
      "source": [
        "sensors = {\n",
        "    \"front\" : 8.0,\n",
        "    \"left\" : 15.0,\n",
        "    \"right\" : 4.0\n",
        "}\n",
        "safe_distance = 10.0\n",
        "\n",
        "def diclsion(sensors, safe_distance):\n",
        "  obstacles = []\n",
        "\n",
        "  for direction, distance in sensors.items():\n",
        "    if distance < safe_distance:\n",
        "      obstacles.append(direction)\n",
        "\n",
        "\n",
        "  if len(obstacles) == 0:\n",
        "    print(\"action : 직진\")\n",
        "  elif \"front\" not in obstacles:\n",
        "    print(\"action : 주의해서 직진\")\n",
        "  elif (\"left\" not in obstacles) and (\"right\" not in obstacles):\n",
        "    print(\"action : 좌회전\")\n",
        "  elif (\"left\" in obstacles) and (\"right\" not in obstacles):\n",
        "    print(\"action : 우회전\")\n",
        "  elif (\"left\" not in obstacles) and (\"right\" in obstacles):\n",
        "    print(\"action : 좌회전\")\n",
        "\n",
        "  return obstacles\n",
        "\n",
        "if __name__ == \"__main__\":\n",
        "  print(\"자율주행 장애물 감지 시스템\")\n",
        "  print(\"-\"*30)\n",
        "\n",
        "  ob = diclsion(sensors, safe_distance)\n",
        "  print(f\"감지된 장애물 : {ob}\")\n",
        "  \"\"\"\n",
        "  if len(ob) == 0:\n",
        "    print(\"action : 직진\")\n",
        "  elif \"front\" not in ob:\n",
        "    print(\"action : 주의해서 직진\")\n",
        "  elif (\"left\" not in ob) and (\"right\" not in ob):\n",
        "    print(\"action : 좌회전\")\n",
        "  elif (\"left\" in ob) and (\"right\" not in ob):\n",
        "    print(\"action : 우회전\")\n",
        "  elif (\"left\" not in ob) and (\"right\" in ob):\n",
        "    print(\"action : 좌회전\")\n",
        "  \"\"\""
      ],
      "metadata": {
        "colab": {
          "base_uri": "https://localhost:8080/"
        },
        "id": "XLZgslfqX1RZ",
        "outputId": "6fa7ea53-54fe-4ae3-9e89-ddfbef631d8f"
      },
      "execution_count": 13,
      "outputs": [
        {
          "output_type": "stream",
          "name": "stdout",
          "text": [
            "자율주행 장애물 감지 시스템\n",
            "------------------------------\n",
            "['front', 'right']\n",
            "action : 좌회전\n",
            "감지된 장애물 : ['front', 'right']\n"
          ]
        }
      ]
    },
    {
      "cell_type": "markdown",
      "source": [
        "3번 문제"
      ],
      "metadata": {
        "id": "dNOgAwNGU1Ak"
      }
    },
    {
      "cell_type": "code",
      "source": [
        "class AutonomousCar:\n",
        "  def __init__(self, name, location,sensors):\n",
        "    self.name = name\n",
        "    self.location = location\n",
        "    self.sensors = sensors\n",
        "\n",
        "\n",
        "obstacles = ['front','left','right']\n",
        "obstacles['front'] =\n",
        "obstacles['left'] =\n",
        "obstacles['right'] =\n",
        "\n",
        "\n"
      ],
      "metadata": {
        "id": "6nnWAEMSU3KP"
      },
      "execution_count": null,
      "outputs": []
    }
  ],
  "metadata": {
    "colab": {
      "name": "Colab 시작하기",
      "provenance": [],
      "include_colab_link": true
    },
    "kernelspec": {
      "display_name": "Python 3",
      "name": "python3"
    }
  },
  "nbformat": 4,
  "nbformat_minor": 0
}